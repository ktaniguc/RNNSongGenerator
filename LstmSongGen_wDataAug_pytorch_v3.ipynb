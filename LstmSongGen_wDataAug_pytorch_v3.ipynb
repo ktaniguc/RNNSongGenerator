{
  "nbformat": 4,
  "nbformat_minor": 0,
  "metadata": {
    "accelerator": "GPU",
    "colab": {
      "name": "LstmSongGen_wDataAug_pytorch_v3.ipynb",
      "provenance": [],
      "collapsed_sections": [],
      "include_colab_link": true
    },
    "kernelspec": {
      "display_name": "Python 3",
      "name": "python3"
    },
    "language_info": {
      "name": "python"
    }
  },
  "cells": [
    {
      "cell_type": "markdown",
      "metadata": {
        "id": "view-in-github",
        "colab_type": "text"
      },
      "source": [
        "<a href=\"https://colab.research.google.com/github/ktaniguc/RNNSongGenerator/blob/main/LstmSongGen_wDataAug_pytorch_v3.ipynb\" target=\"_parent\"><img src=\"https://colab.research.google.com/assets/colab-badge.svg\" alt=\"Open In Colab\"/></a>"
      ]
    },
    {
      "cell_type": "markdown",
      "metadata": {
        "id": "Z-eJZvOwNo8R"
      },
      "source": [
        "### 使い方\n",
        "- 数個下のセルの↓↓の部分で自分のgoogle drive に正しくマウントしてください\n",
        "  ```sh\n",
        "  from google.colab import drive\n",
        "  drive.mount('/content/drive/')\n",
        "  !cd \"/content/drive/MyDrive/\"\n",
        "  ```\n",
        "- 数個下のセルの↓↓の部分を正しく設定してください\n",
        "  ```python\n",
        "  #IN/OUT/出力結果/ハイパーパラメータの名前を設定\n",
        "  TRAIN_DIR=\"/content/drive/MyDrive/Colab_Notebooks/songs/train/\" #学習用midi データ置き場(評価用置き場はなくしました。勝手に学習用から評価用のデータを一部もぎ取って確保します。)\n",
        "  DIR = \"/content/drive/MyDrive/Colab_Notebooks/dev_Aug2021_pytorch_v4/\" #モデルやら生成物やらの出力先。予め作ってください。\n",
        "  ```\n",
        "- 上２つさえ設定すればモデルの作成まで本ipynbで行えます(多分)\n",
        "- 本ipynb で作成したモデルから曲を生成するのは別ファイル(predict_LstmSongGen_pytorch_v2.ipynb)で行います。\n",
        "\n",
        "### 注意点\n",
        "- 意味不明なこと言っている&間違った言葉の使い方をしている可能性大\n",
        "\n",
        "### 要改善点(反省点)\n",
        "- dataaugmentation の前に\n",
        "  - dropout など、過学習防止の策を取る\n",
        "  - keras のCuDNNでは拡張性に乏しい(dropoutの実装がないなど)→pytorchに乗り換える\n",
        " - LSTM とは言えども、それほど長いメロディーは覚えられないのでは\n",
        "  - batch でもっと細かく切ってみる?一旦曲ごとに分ける\n",
        "  - http://mitaka.boo.jp/articles/article12\n",
        "- data augmentation を行うに当たり(移調+1~+11)、大量のリソースが必要\n",
        "  - pytorch にすればバッチ処理可能？\n",
        "- 参考\n",
        "  - [LSTMによる自動作曲システムの構築] file:///Users/taniguchikouhei/OneDrive/downloads/48146440-1.pdf\n",
        "  - [PyTorchを使ってLSTMモデルを実装する―RNNで文章生成〈８〉]http://mitaka.boo.jp/articles/article11\n",
        "  - [PyTorchを使ってLSTMで文章分類を実装してみた]https://qiita.com/m__k/items/841950a57a0d7ff05506\n",
        "  - [PyTorchのRNNクラスを使って文章を生成してみよう]https://atmarkit.itmedia.co.jp/ait/articles/2103/26/news026.html\n",
        "  - [【Pytorch入門】ニュース記事で文章生成がしたい]https://qiita.com/hcpmiyuki/items/c6afc037518542cfe410\n",
        "\n",
        "### 改善した点\n",
        "- embedding 層、batch 処理、bptt(学習の文章長を制限) の導入\n",
        "- 移調のdata augmentation を行えるように\n",
        "- dropout層追加\n",
        "- 20epoch ごとにmodel 保存、midi 生成ができるように(更新アリ)\n",
        "\n",
        "### 更新\n",
        "- 08/24\n",
        "  - 何故かBATCH_SIZE が2以上ではうまく行かない\n",
        "    - 修正完了(しんどい...)\n",
        "  - 音楽生成の部分は他のipynb に任せる\n",
        "- 8/25\n",
        "  - 検証データをちゃんと設け、perplexity で精度を評価できるように\n",
        "    - どのepoch のモデルが良いかを見るため。\n",
        "  - train, validation 用に自動でデータを分割\n",
        "    - defuault では0.95:0.05 (どーせ検証といえど聴かんとわからんから申し訳程度に)\n",
        "  - bug (needless option(remove batch_first=True))直した\n",
        "  - 20epoch ごとにモデルの保存ではなく、validation data を用いたperplexity の値が改善されたときに保存するように変更"
      ]
    },
    {
      "cell_type": "markdown",
      "metadata": {
        "id": "tUmZEK8deW_-"
      },
      "source": [
        "## setup"
      ]
    },
    {
      "cell_type": "code",
      "metadata": {
        "colab": {
          "base_uri": "https://localhost:8080/"
        },
        "id": "7vGtIbQFaGTk",
        "outputId": "48c22833-cf99-4a32-a7d4-c38917f9b97f"
      },
      "source": [
        "#!pip install tqdm\n",
        "!pip install mido keras torch\n",
        "#!pip install -U torchtext"
      ],
      "execution_count": 10,
      "outputs": [
        {
          "output_type": "stream",
          "text": [
            "Requirement already satisfied: mido in /usr/local/lib/python3.7/dist-packages (1.2.10)\n",
            "Requirement already satisfied: keras in /usr/local/lib/python3.7/dist-packages (2.6.0)\n",
            "Requirement already satisfied: torch in /usr/local/lib/python3.7/dist-packages (1.9.0+cu102)\n",
            "Requirement already satisfied: typing-extensions in /usr/local/lib/python3.7/dist-packages (from torch) (3.7.4.3)\n"
          ],
          "name": "stdout"
        }
      ]
    },
    {
      "cell_type": "code",
      "metadata": {
        "colab": {
          "base_uri": "https://localhost:8080/"
        },
        "id": "3NaJr-O9HQ9R",
        "outputId": "517547e1-9577-4d11-e368-4d7d26f544c1"
      },
      "source": [
        "from google.colab import drive\n",
        "drive.mount('/content/drive/')\n",
        "!cd \"/content/drive/MyDrive/\""
      ],
      "execution_count": 11,
      "outputs": [
        {
          "output_type": "stream",
          "text": [
            "Drive already mounted at /content/drive/; to attempt to forcibly remount, call drive.mount(\"/content/drive/\", force_remount=True).\n"
          ],
          "name": "stdout"
        }
      ]
    },
    {
      "cell_type": "code",
      "metadata": {
        "id": "fqmJaCByF8uN"
      },
      "source": [
        "#IN/OUT/出力結果/ハイパーパラメータの名前を設定\n",
        "TRAIN_DIR=\"/content/drive/MyDrive/Colab_Notebooks/songs/train/\" #学習用midi データ置き場(評価用はないっす)\n",
        "BPM=\"150\"\n",
        "augment=12 #data augumentation でnote をどこまで移調するか。+1で半音。\n",
        "argstep=1 #移調のstep\n",
        "DIR = \"/content/drive/MyDrive/Colab_Notebooks/dev_Aug2021_pytorch_v5/\" #モデルやら生成物やらの出力先\n",
        "\n",
        "!mkdir -p {DIR + \"train_txt/\"} #学習用データ midi をtext に変換したものを保管\n",
        "!mkdir -p {DIR + \"result_txt/\"} #予測した結果をtxt で保管\n",
        "!mkdir -p {DIR + \"result_mid/\"} #予測結果txt をmidi に変換して保管\n",
        "!mkdir -p {DIR + \"output_model/\"}\n",
        "TRAIN_TXT_DIR = DIR + \"train_txt/\" #学習用データ midi をtext に変換したものを保管\n",
        "RESULT_TXT_DIR = DIR + \"result_txt/\" #予測した結果をtxt で保管\n",
        "RESULT_MIDI_DIR = DIR + \"result_mid/\" #予測結果txt をmidi に変換して保管\n",
        "OUTPUT_MODEL_DIR = DIR + \"output_model/\"\n",
        "\n",
        "BATCH_SIZE=20 #ミニバッチサイズ\n",
        "BPTT_LEN = 140 #text とtarget の長さ 700(BPM=120)で30秒くらい。\n",
        "EMBEDDING_DIM = 512 #embedding 層\n",
        "HIDDEN_DIM = 512 #隠れ層\n",
        "DROPOUT = 0.5\n",
        "max_norm = 0.25 #勾配クリッピング\n",
        "epochs = 50"
      ],
      "execution_count": 12,
      "outputs": []
    },
    {
      "cell_type": "code",
      "metadata": {
        "colab": {
          "base_uri": "https://localhost:8080/"
        },
        "id": "2falf5hk64Vr",
        "outputId": "23bc7d7a-3765-4c2e-d420-6321a865d2b7"
      },
      "source": [
        "#https://qiita.com/ysit/items/a601cb59523cc1961556\n",
        "#鬼のimport祭り\n",
        "import mido\n",
        "from mido import Message, MidiFile\n",
        "from pathlib import Path\n",
        "import sys, os\n",
        "import random\n",
        "import torch, torchvision\n",
        "print(torch.__version__, torch.cuda.is_available())\n",
        "import torch.nn as nn\n",
        "import torch.nn.utils.rnn as rnn\n",
        "import torch.optim as optim\n",
        "from torch.utils.data import DataLoader\n",
        "import torch.nn.functional as F\n",
        "from tqdm import tqdm\n",
        "from tensorflow import keras\n",
        "import numpy as np\n",
        "import mido\n",
        "from mido import Message, MidiFile, MidiTrack, MetaMessage\n",
        "import sys\n",
        "import matplotlib.pyplot as plt\n",
        "import math\n",
        "device = torch.device('cuda' if torch.cuda.is_available() else 'cpu')"
      ],
      "execution_count": 13,
      "outputs": [
        {
          "output_type": "stream",
          "text": [
            "1.9.0+cu102 True\n"
          ],
          "name": "stdout"
        }
      ]
    },
    {
      "cell_type": "markdown",
      "metadata": {
        "id": "Jrt78WDnhlKd"
      },
      "source": [
        "## main"
      ]
    },
    {
      "cell_type": "code",
      "metadata": {
        "colab": {
          "base_uri": "https://localhost:8080/"
        },
        "id": "VrQNY3oM2sgA",
        "outputId": "ce089a01-f641-4c8c-a61c-456feb3dcea6"
      },
      "source": [
        "#cuda であーだこーだ怒られたときの対処セル。いらないかも。\n",
        "!nvcc --version\n",
        "!python -c 'import torch; print(torch.__version__) '\n",
        "!ls -d /usr/local/cuda-*\n",
        "!which nvcc\n",
        "p = os.getenv('PATH')\n",
        "ld = os.getenv('LD_LIBRARY_PATH')\n",
        "os.environ['PATH'] = f\"/usr/local/cuda-11.0/bin:{p}\"\n",
        "os.environ['LD_LIBRARY_PATH'] = f\"/usr/local/cuda-11.0/lib64:{ld}\"\n",
        "!nvcc --version\n",
        "##!pip install torch==1.8.0\n",
        "#os.environ['CUDA_LAUNCH_BLOCKING'] = \"1\"\n",
        "#assert torch.__version__.startswith(\"1.8\")"
      ],
      "execution_count": 14,
      "outputs": [
        {
          "output_type": "stream",
          "text": [
            "nvcc: NVIDIA (R) Cuda compiler driver\n",
            "Copyright (c) 2005-2020 NVIDIA Corporation\n",
            "Built on Wed_Jul_22_19:09:09_PDT_2020\n",
            "Cuda compilation tools, release 11.0, V11.0.221\n",
            "Build cuda_11.0_bu.TC445_37.28845127_0\n",
            "1.9.0+cu102\n",
            "/usr/local/cuda-10.0  /usr/local/cuda-10.1  /usr/local/cuda-11.0\n",
            "/usr/local/cuda/bin/nvcc\n",
            "nvcc: NVIDIA (R) Cuda compiler driver\n",
            "Copyright (c) 2005-2020 NVIDIA Corporation\n",
            "Built on Wed_Jul_22_19:09:09_PDT_2020\n",
            "Cuda compilation tools, release 11.0, V11.0.221\n",
            "Build cuda_11.0_bu.TC445_37.28845127_0\n"
          ],
          "name": "stdout"
        }
      ]
    },
    {
      "cell_type": "markdown",
      "metadata": {
        "id": "y15lyhvJIgn_"
      },
      "source": [
        "mid2txt.py"
      ]
    },
    {
      "cell_type": "code",
      "metadata": {
        "colab": {
          "base_uri": "https://localhost:8080/"
        },
        "id": "dBpTeyAJHbQP",
        "outputId": "91d9058d-fe26-45da-f781-3f001445b52e"
      },
      "source": [
        "# 各トラック毎の全メッセージを表示する\n",
        "def dump_track(track_obj):\n",
        "    for msg in track_obj:\n",
        "        print(msg)\n",
        "\n",
        "# 全トラックの全メッセージをトラック毎に表示する\n",
        "def dump_smf(midi_obj):\n",
        "    for i, track in enumerate(midi_obj.tracks):\n",
        "        print(f\"Track {i}: {track.name}\")\n",
        "        dump_track(track)\n",
        "\n",
        "def note_on_off(msg_type):\n",
        "  if msg_type == \"note_on\":\n",
        "    return \"1_\"\n",
        "  else:\n",
        "    return \"0_\"\n",
        "\n",
        "pathlist = Path(TRAIN_DIR).glob('**/*.[mM][iI][dD]')\n",
        "outputDir = TRAIN_TXT_DIR\n",
        "for path in pathlist:\n",
        "  filename = os.path.split(path)[1].replace(\".mid\", \"\")\n",
        "  for i_scale in range(0, augment, argstep):\n",
        "    print(\"transpositon: +\", i_scale)\n",
        "    outputfile_wDir = TRAIN_TXT_DIR + filename + \"_plus\" + str(i_scale) + \".txt\"\n",
        "    print(\"output text file name : \", outputfile_wDir)\n",
        "    f = open(outputfile_wDir, 'w')\n",
        "    mid = MidiFile(path)\n",
        "    #dump_smf(mid)\n",
        "    for i, track in enumerate(mid.tracks):\n",
        "      for msg in track:\n",
        "        chunk = \"\"\n",
        "        if msg.type == \"note_on\" or msg.type == \"note_off\":\n",
        "          #chunk = note_on_off(msg.type)\n",
        "          chunk = \"1_\" + str(msg.note+i_scale) + \"_\"\n",
        "          #note がoff == note がon かつvelocity 0なのでvelocity のみで調整\n",
        "          if msg.type == \"note_off\":\n",
        "            chunk += \"0_\"\n",
        "          else:\n",
        "            chunk += str(msg.velocity) + \"_\"\n",
        "          chunk += str(msg.time) + \",\"\n",
        "          f.write(chunk)\n",
        "    f.close()"
      ],
      "execution_count": 15,
      "outputs": [
        {
          "output_type": "stream",
          "text": [
            "transpositon: + 0\n",
            "output text file name :  /content/drive/MyDrive/Colab_Notebooks/dev_Aug2021_pytorch_v5/train_txt/MAROON 5_Misery_plus0.txt\n",
            "transpositon: + 1\n",
            "output text file name :  /content/drive/MyDrive/Colab_Notebooks/dev_Aug2021_pytorch_v5/train_txt/MAROON 5_Misery_plus1.txt\n",
            "transpositon: + 2\n",
            "output text file name :  /content/drive/MyDrive/Colab_Notebooks/dev_Aug2021_pytorch_v5/train_txt/MAROON 5_Misery_plus2.txt\n",
            "transpositon: + 3\n",
            "output text file name :  /content/drive/MyDrive/Colab_Notebooks/dev_Aug2021_pytorch_v5/train_txt/MAROON 5_Misery_plus3.txt\n",
            "transpositon: + 4\n",
            "output text file name :  /content/drive/MyDrive/Colab_Notebooks/dev_Aug2021_pytorch_v5/train_txt/MAROON 5_Misery_plus4.txt\n",
            "transpositon: + 5\n",
            "output text file name :  /content/drive/MyDrive/Colab_Notebooks/dev_Aug2021_pytorch_v5/train_txt/MAROON 5_Misery_plus5.txt\n",
            "transpositon: + 6\n",
            "output text file name :  /content/drive/MyDrive/Colab_Notebooks/dev_Aug2021_pytorch_v5/train_txt/MAROON 5_Misery_plus6.txt\n",
            "transpositon: + 7\n",
            "output text file name :  /content/drive/MyDrive/Colab_Notebooks/dev_Aug2021_pytorch_v5/train_txt/MAROON 5_Misery_plus7.txt\n",
            "transpositon: + 8\n",
            "output text file name :  /content/drive/MyDrive/Colab_Notebooks/dev_Aug2021_pytorch_v5/train_txt/MAROON 5_Misery_plus8.txt\n",
            "transpositon: + 9\n",
            "output text file name :  /content/drive/MyDrive/Colab_Notebooks/dev_Aug2021_pytorch_v5/train_txt/MAROON 5_Misery_plus9.txt\n",
            "transpositon: + 10\n",
            "output text file name :  /content/drive/MyDrive/Colab_Notebooks/dev_Aug2021_pytorch_v5/train_txt/MAROON 5_Misery_plus10.txt\n",
            "transpositon: + 11\n",
            "output text file name :  /content/drive/MyDrive/Colab_Notebooks/dev_Aug2021_pytorch_v5/train_txt/MAROON 5_Misery_plus11.txt\n",
            "transpositon: + 0\n",
            "output text file name :  /content/drive/MyDrive/Colab_Notebooks/dev_Aug2021_pytorch_v5/train_txt/ONE OK ROCK_Whenever You Are_plus0.txt\n",
            "transpositon: + 1\n",
            "output text file name :  /content/drive/MyDrive/Colab_Notebooks/dev_Aug2021_pytorch_v5/train_txt/ONE OK ROCK_Whenever You Are_plus1.txt\n",
            "transpositon: + 2\n",
            "output text file name :  /content/drive/MyDrive/Colab_Notebooks/dev_Aug2021_pytorch_v5/train_txt/ONE OK ROCK_Whenever You Are_plus2.txt\n",
            "transpositon: + 3\n",
            "output text file name :  /content/drive/MyDrive/Colab_Notebooks/dev_Aug2021_pytorch_v5/train_txt/ONE OK ROCK_Whenever You Are_plus3.txt\n",
            "transpositon: + 4\n",
            "output text file name :  /content/drive/MyDrive/Colab_Notebooks/dev_Aug2021_pytorch_v5/train_txt/ONE OK ROCK_Whenever You Are_plus4.txt\n",
            "transpositon: + 5\n",
            "output text file name :  /content/drive/MyDrive/Colab_Notebooks/dev_Aug2021_pytorch_v5/train_txt/ONE OK ROCK_Whenever You Are_plus5.txt\n",
            "transpositon: + 6\n",
            "output text file name :  /content/drive/MyDrive/Colab_Notebooks/dev_Aug2021_pytorch_v5/train_txt/ONE OK ROCK_Whenever You Are_plus6.txt\n",
            "transpositon: + 7\n",
            "output text file name :  /content/drive/MyDrive/Colab_Notebooks/dev_Aug2021_pytorch_v5/train_txt/ONE OK ROCK_Whenever You Are_plus7.txt\n",
            "transpositon: + 8\n",
            "output text file name :  /content/drive/MyDrive/Colab_Notebooks/dev_Aug2021_pytorch_v5/train_txt/ONE OK ROCK_Whenever You Are_plus8.txt\n",
            "transpositon: + 9\n",
            "output text file name :  /content/drive/MyDrive/Colab_Notebooks/dev_Aug2021_pytorch_v5/train_txt/ONE OK ROCK_Whenever You Are_plus9.txt\n",
            "transpositon: + 10\n",
            "output text file name :  /content/drive/MyDrive/Colab_Notebooks/dev_Aug2021_pytorch_v5/train_txt/ONE OK ROCK_Whenever You Are_plus10.txt\n",
            "transpositon: + 11\n",
            "output text file name :  /content/drive/MyDrive/Colab_Notebooks/dev_Aug2021_pytorch_v5/train_txt/ONE OK ROCK_Whenever You Are_plus11.txt\n",
            "transpositon: + 0\n",
            "output text file name :  /content/drive/MyDrive/Colab_Notebooks/dev_Aug2021_pytorch_v5/train_txt/TWICE_Wake Me Up_plus0.txt\n",
            "transpositon: + 1\n",
            "output text file name :  /content/drive/MyDrive/Colab_Notebooks/dev_Aug2021_pytorch_v5/train_txt/TWICE_Wake Me Up_plus1.txt\n",
            "transpositon: + 2\n",
            "output text file name :  /content/drive/MyDrive/Colab_Notebooks/dev_Aug2021_pytorch_v5/train_txt/TWICE_Wake Me Up_plus2.txt\n",
            "transpositon: + 3\n",
            "output text file name :  /content/drive/MyDrive/Colab_Notebooks/dev_Aug2021_pytorch_v5/train_txt/TWICE_Wake Me Up_plus3.txt\n",
            "transpositon: + 4\n",
            "output text file name :  /content/drive/MyDrive/Colab_Notebooks/dev_Aug2021_pytorch_v5/train_txt/TWICE_Wake Me Up_plus4.txt\n",
            "transpositon: + 5\n",
            "output text file name :  /content/drive/MyDrive/Colab_Notebooks/dev_Aug2021_pytorch_v5/train_txt/TWICE_Wake Me Up_plus5.txt\n",
            "transpositon: + 6\n",
            "output text file name :  /content/drive/MyDrive/Colab_Notebooks/dev_Aug2021_pytorch_v5/train_txt/TWICE_Wake Me Up_plus6.txt\n",
            "transpositon: + 7\n",
            "output text file name :  /content/drive/MyDrive/Colab_Notebooks/dev_Aug2021_pytorch_v5/train_txt/TWICE_Wake Me Up_plus7.txt\n",
            "transpositon: + 8\n",
            "output text file name :  /content/drive/MyDrive/Colab_Notebooks/dev_Aug2021_pytorch_v5/train_txt/TWICE_Wake Me Up_plus8.txt\n",
            "transpositon: + 9\n",
            "output text file name :  /content/drive/MyDrive/Colab_Notebooks/dev_Aug2021_pytorch_v5/train_txt/TWICE_Wake Me Up_plus9.txt\n",
            "transpositon: + 10\n",
            "output text file name :  /content/drive/MyDrive/Colab_Notebooks/dev_Aug2021_pytorch_v5/train_txt/TWICE_Wake Me Up_plus10.txt\n",
            "transpositon: + 11\n",
            "output text file name :  /content/drive/MyDrive/Colab_Notebooks/dev_Aug2021_pytorch_v5/train_txt/TWICE_Wake Me Up_plus11.txt\n",
            "transpositon: + 0\n",
            "output text file name :  /content/drive/MyDrive/Colab_Notebooks/dev_Aug2021_pytorch_v5/train_txt/Shawn Mendes_Treat You Better_plus0.txt\n",
            "transpositon: + 1\n",
            "output text file name :  /content/drive/MyDrive/Colab_Notebooks/dev_Aug2021_pytorch_v5/train_txt/Shawn Mendes_Treat You Better_plus1.txt\n",
            "transpositon: + 2\n",
            "output text file name :  /content/drive/MyDrive/Colab_Notebooks/dev_Aug2021_pytorch_v5/train_txt/Shawn Mendes_Treat You Better_plus2.txt\n",
            "transpositon: + 3\n",
            "output text file name :  /content/drive/MyDrive/Colab_Notebooks/dev_Aug2021_pytorch_v5/train_txt/Shawn Mendes_Treat You Better_plus3.txt\n",
            "transpositon: + 4\n",
            "output text file name :  /content/drive/MyDrive/Colab_Notebooks/dev_Aug2021_pytorch_v5/train_txt/Shawn Mendes_Treat You Better_plus4.txt\n",
            "transpositon: + 5\n",
            "output text file name :  /content/drive/MyDrive/Colab_Notebooks/dev_Aug2021_pytorch_v5/train_txt/Shawn Mendes_Treat You Better_plus5.txt\n",
            "transpositon: + 6\n",
            "output text file name :  /content/drive/MyDrive/Colab_Notebooks/dev_Aug2021_pytorch_v5/train_txt/Shawn Mendes_Treat You Better_plus6.txt\n",
            "transpositon: + 7\n",
            "output text file name :  /content/drive/MyDrive/Colab_Notebooks/dev_Aug2021_pytorch_v5/train_txt/Shawn Mendes_Treat You Better_plus7.txt\n",
            "transpositon: + 8\n",
            "output text file name :  /content/drive/MyDrive/Colab_Notebooks/dev_Aug2021_pytorch_v5/train_txt/Shawn Mendes_Treat You Better_plus8.txt\n",
            "transpositon: + 9\n",
            "output text file name :  /content/drive/MyDrive/Colab_Notebooks/dev_Aug2021_pytorch_v5/train_txt/Shawn Mendes_Treat You Better_plus9.txt\n",
            "transpositon: + 10\n",
            "output text file name :  /content/drive/MyDrive/Colab_Notebooks/dev_Aug2021_pytorch_v5/train_txt/Shawn Mendes_Treat You Better_plus10.txt\n",
            "transpositon: + 11\n",
            "output text file name :  /content/drive/MyDrive/Colab_Notebooks/dev_Aug2021_pytorch_v5/train_txt/Shawn Mendes_Treat You Better_plus11.txt\n",
            "transpositon: + 0\n",
            "output text file name :  /content/drive/MyDrive/Colab_Notebooks/dev_Aug2021_pytorch_v5/train_txt/米津玄師_Lemon_plus0.txt\n",
            "transpositon: + 1\n",
            "output text file name :  /content/drive/MyDrive/Colab_Notebooks/dev_Aug2021_pytorch_v5/train_txt/米津玄師_Lemon_plus1.txt\n",
            "transpositon: + 2\n",
            "output text file name :  /content/drive/MyDrive/Colab_Notebooks/dev_Aug2021_pytorch_v5/train_txt/米津玄師_Lemon_plus2.txt\n",
            "transpositon: + 3\n",
            "output text file name :  /content/drive/MyDrive/Colab_Notebooks/dev_Aug2021_pytorch_v5/train_txt/米津玄師_Lemon_plus3.txt\n",
            "transpositon: + 4\n",
            "output text file name :  /content/drive/MyDrive/Colab_Notebooks/dev_Aug2021_pytorch_v5/train_txt/米津玄師_Lemon_plus4.txt\n",
            "transpositon: + 5\n",
            "output text file name :  /content/drive/MyDrive/Colab_Notebooks/dev_Aug2021_pytorch_v5/train_txt/米津玄師_Lemon_plus5.txt\n",
            "transpositon: + 6\n",
            "output text file name :  /content/drive/MyDrive/Colab_Notebooks/dev_Aug2021_pytorch_v5/train_txt/米津玄師_Lemon_plus6.txt\n",
            "transpositon: + 7\n",
            "output text file name :  /content/drive/MyDrive/Colab_Notebooks/dev_Aug2021_pytorch_v5/train_txt/米津玄師_Lemon_plus7.txt\n",
            "transpositon: + 8\n",
            "output text file name :  /content/drive/MyDrive/Colab_Notebooks/dev_Aug2021_pytorch_v5/train_txt/米津玄師_Lemon_plus8.txt\n",
            "transpositon: + 9\n",
            "output text file name :  /content/drive/MyDrive/Colab_Notebooks/dev_Aug2021_pytorch_v5/train_txt/米津玄師_Lemon_plus9.txt\n",
            "transpositon: + 10\n",
            "output text file name :  /content/drive/MyDrive/Colab_Notebooks/dev_Aug2021_pytorch_v5/train_txt/米津玄師_Lemon_plus10.txt\n",
            "transpositon: + 11\n",
            "output text file name :  /content/drive/MyDrive/Colab_Notebooks/dev_Aug2021_pytorch_v5/train_txt/米津玄師_Lemon_plus11.txt\n",
            "transpositon: + 0\n",
            "output text file name :  /content/drive/MyDrive/Colab_Notebooks/dev_Aug2021_pytorch_v5/train_txt/嵐_サクラ咲け_plus0.txt\n",
            "transpositon: + 1\n",
            "output text file name :  /content/drive/MyDrive/Colab_Notebooks/dev_Aug2021_pytorch_v5/train_txt/嵐_サクラ咲け_plus1.txt\n",
            "transpositon: + 2\n",
            "output text file name :  /content/drive/MyDrive/Colab_Notebooks/dev_Aug2021_pytorch_v5/train_txt/嵐_サクラ咲け_plus2.txt\n",
            "transpositon: + 3\n",
            "output text file name :  /content/drive/MyDrive/Colab_Notebooks/dev_Aug2021_pytorch_v5/train_txt/嵐_サクラ咲け_plus3.txt\n",
            "transpositon: + 4\n",
            "output text file name :  /content/drive/MyDrive/Colab_Notebooks/dev_Aug2021_pytorch_v5/train_txt/嵐_サクラ咲け_plus4.txt\n",
            "transpositon: + 5\n",
            "output text file name :  /content/drive/MyDrive/Colab_Notebooks/dev_Aug2021_pytorch_v5/train_txt/嵐_サクラ咲け_plus5.txt\n",
            "transpositon: + 6\n",
            "output text file name :  /content/drive/MyDrive/Colab_Notebooks/dev_Aug2021_pytorch_v5/train_txt/嵐_サクラ咲け_plus6.txt\n",
            "transpositon: + 7\n",
            "output text file name :  /content/drive/MyDrive/Colab_Notebooks/dev_Aug2021_pytorch_v5/train_txt/嵐_サクラ咲け_plus7.txt\n",
            "transpositon: + 8\n",
            "output text file name :  /content/drive/MyDrive/Colab_Notebooks/dev_Aug2021_pytorch_v5/train_txt/嵐_サクラ咲け_plus8.txt\n",
            "transpositon: + 9\n",
            "output text file name :  /content/drive/MyDrive/Colab_Notebooks/dev_Aug2021_pytorch_v5/train_txt/嵐_サクラ咲け_plus9.txt\n",
            "transpositon: + 10\n",
            "output text file name :  /content/drive/MyDrive/Colab_Notebooks/dev_Aug2021_pytorch_v5/train_txt/嵐_サクラ咲け_plus10.txt\n",
            "transpositon: + 11\n",
            "output text file name :  /content/drive/MyDrive/Colab_Notebooks/dev_Aug2021_pytorch_v5/train_txt/嵐_サクラ咲け_plus11.txt\n"
          ],
          "name": "stdout"
        }
      ]
    },
    {
      "cell_type": "markdown",
      "metadata": {
        "id": "-VO-yHCvIdMW"
      },
      "source": [
        "main.py"
      ]
    },
    {
      "cell_type": "code",
      "metadata": {
        "id": "6_S8zS6HvJiZ"
      },
      "source": [
        "#辞書を持っておくオブジェクト\n",
        "class EncoderDecoder(object):\n",
        "    def __init__(self):\n",
        "        # word_to_idの辞書\n",
        "        self.w2i = {}\n",
        "        # id_to_wordの辞書\n",
        "        self.i2w = {}\n",
        "\n",
        "    # コールされる関数\n",
        "    def __call__(self, sentence, maxlength=4000):\n",
        "        return self.transform(sentence, maxlength)\n",
        "\n",
        "    # 辞書作成\n",
        "    def make_dict(self, sentences):\n",
        "      for sentence in sentences:\n",
        "        if sentence not in self.w2i:\n",
        "          new_id = len(self.w2i)\n",
        "          self.w2i[sentence] = new_id\n",
        "          self.i2w[new_id] = sentence\n",
        "\n",
        "    # 読み込んだデータをまとめてidに変換する\n",
        "    def transform(self, sentences, maxlength=4000):\n",
        "        output = []\n",
        "        for sentence in sentences:\n",
        "            idx = self.w2i[sentence]\n",
        "            output.append(idx)\n",
        "        return output\n",
        "\n",
        "    # １文ずつ単語リストに直す\n",
        "    def decode(self, sentence):\n",
        "        return [self.i2w[id] for id in sentence if id != 0]"
      ],
      "execution_count": 16,
      "outputs": []
    },
    {
      "cell_type": "code",
      "metadata": {
        "colab": {
          "base_uri": "https://localhost:8080/"
        },
        "id": "e4Bn0VK6QmjB",
        "outputId": "3def96bf-a7ae-4ff0-acd4-47e6b5c12877"
      },
      "source": [
        "#データの読み込み、準備\n",
        "#print(torch.__version__)\n",
        "#chunk の辞書化\n",
        "\n",
        "class MyDataset(object):\n",
        "  \"\"\"データを(時系列長, バッチサイズ)の形状で返す\"\"\"\n",
        "\n",
        "  def __init__(self, data, batch_size, bptt_len):\n",
        "    nbatch = data.size(0) // batch_size\n",
        "    data = data.narrow(0, 0, nbatch * batch_size)\n",
        "    self.data = data.view(batch_size, -1).t().contiguous()\n",
        "    self.batch_size = batch_size\n",
        "    self.bptt_len = bptt_len\n",
        "  @classmethod\n",
        "  def splits(cls, datasets, batch_size, bptt_len):\n",
        "    ret = []\n",
        "    for data in datasets:\n",
        "      ret.append(cls(data, batch_size, bptt_len))\n",
        "    return tuple(ret)\n",
        "\n",
        "  def __len__(self):\n",
        "    return math.ceil((len(self.data) - 1 ) / self.bptt_len)\n",
        "  \n",
        "  def __iter__(self):\n",
        "    for i in range(0, len(self.data) - 1, self.bptt_len):\n",
        "      seq_len = min(self.bptt_len, len(self.data) - 1 - i)\n",
        "      text = self.data[i:i + seq_len]\n",
        "      target = self.data[i + 1:i + 1 + seq_len]\n",
        "      yield text, target\n",
        "\n",
        "#データの準備\n",
        "inputTextList = Path(DIR+\"train_txt\").glob('**/*.txt')\n",
        "mididata = []\n",
        "maxlength = 0\n",
        "for inputText in inputTextList:\n",
        "  f = open(inputText, 'r')\n",
        "  texts = f.read()\n",
        "  text = texts.split(\",\")\n",
        "  text.pop(-1)\n",
        "  mididata = mididata + text\n",
        "  if len(mididata) > maxlength:\n",
        "    maxlength = len(text)\n",
        "#二次元配列[曲][ノート]にする\n",
        "encTool = EncoderDecoder()\n",
        "encTool.make_dict(mididata)\n",
        "data_id = encTool(mididata, maxlength=maxlength)\n",
        "data_size = len(data_id)\n",
        "train_ratio = 0.95\n",
        "val_ratio = 0.05\n",
        "train_size = math.floor(data_size * train_ratio)\n",
        "val_size = math.floor(data_size * val_ratio)\n",
        "train = torch.tensor(data_id[:train_size], dtype=torch.long, device=device)\n",
        "val = torch.tensor(data_id[train_size:train_size + val_size],\n",
        "                   dtype=torch.long, device=device)\n",
        "dummy_b = []\n",
        "test = torch.tensor(dummy_b,\n",
        "                    dtype=torch.long, device=device)\n",
        "train_iter, val_iter, test_iter = MyDataset.splits(\n",
        "    (train, val, test), BATCH_SIZE, BPTT_LEN)\n",
        "print(len(train), len(val), len(test))"
      ],
      "execution_count": 17,
      "outputs": [
        {
          "output_type": "stream",
          "text": [
            "203604 10716 0\n"
          ],
          "name": "stdout"
        }
      ]
    },
    {
      "cell_type": "code",
      "metadata": {
        "id": "3X07IyA7cXJ6"
      },
      "source": [
        "#ネットの定義\n",
        "class RNNLM(nn.Module):\n",
        "    def __init__(self, vocab_size, emb_dim, h_dim, dropout):\n",
        "        '''\n",
        "        vocab_size:語彙の数\n",
        "        emb_dim:埋め込みベクトルの次元\n",
        "        h_dim:隠れ層の次元\n",
        "        dropout: ドロップアウトの確率\n",
        "        '''\n",
        "        super(RNNLM, self).__init__()\n",
        "        self.embed = nn.Embedding(vocab_size, emb_dim)\n",
        "        self.drop1 = nn.Dropout(dropout)\n",
        "        self.lstm1 = nn.LSTM(emb_dim, h_dim)\n",
        "        self.drop2 = nn.Dropout(dropout)\n",
        "        self.lstm2 = nn.LSTM(h_dim, emb_dim)\n",
        "        self.drop3 = nn.Dropout(dropout)\n",
        "        self.linear = nn.Linear(emb_dim, vocab_size)\n",
        "\n",
        "        # 重みを初期化\n",
        "        #他にも色々方法はある https://pytorch.org/docs/stable/nn.init.html\n",
        "        nn.init.normal_(self.embed.weight, std=0.01)\n",
        "        nn.init.normal_(self.lstm1.weight_ih_l0, std=1/math.sqrt(emb_dim))\n",
        "        nn.init.normal_(self.lstm1.weight_hh_l0, std=1/math.sqrt(h_dim))\n",
        "        nn.init.zeros_(self.lstm1.bias_ih_l0)\n",
        "        nn.init.zeros_(self.lstm1.bias_hh_l0)\n",
        "        nn.init.normal_(self.lstm2.weight_ih_l0, std=1/math.sqrt(emb_dim))\n",
        "        nn.init.normal_(self.lstm2.weight_hh_l0, std=1/math.sqrt(h_dim))\n",
        "        nn.init.zeros_(self.lstm2.bias_ih_l0)\n",
        "        nn.init.zeros_(self.lstm2.bias_hh_l0)\n",
        "        self.linear.weight = self.embed.weight  # 重み共有\n",
        "        nn.init.zeros_(self.linear.bias)\n",
        "\n",
        "    def forward(self, sentence, hidden1_prev, hidden2_prev):\n",
        "        emb = self.embed(sentence)\n",
        "        emb = self.drop1(emb)\n",
        "        lstm1_out, hidden1_next = self.lstm1(emb, hidden1_prev)\n",
        "        lstm1_out = self.drop2(lstm1_out)\n",
        "        lstm2_out, hidden2_next = self.lstm2(lstm1_out, hidden2_prev)\n",
        "        lstm2_out = self.drop3(lstm2_out)\n",
        "        out = self.linear(lstm2_out)\n",
        "        #hidden_next:隠れ状態と記憶セルのセル状態を含んだタプル\n",
        "        return out, hidden1_next, hidden2_next"
      ],
      "execution_count": 18,
      "outputs": []
    },
    {
      "cell_type": "code",
      "metadata": {
        "colab": {
          "base_uri": "https://localhost:8080/",
          "height": 1000
        },
        "id": "7VymoqSZIXkU",
        "outputId": "43b375cc-8f49-4b9c-a31a-87bff03de240"
      },
      "source": [
        "#device = torch.device(\"cpu\")\n",
        "VOCAB_SIZE = len(encTool.i2w)\n",
        "learning_rate = 20.0\n",
        "#モデル生成\n",
        "print('Build model...')\n",
        "model = RNNLM(VOCAB_SIZE, EMBEDDING_DIM, HIDDEN_DIM, DROPOUT).to(device)\n",
        "criterion = nn.CrossEntropyLoss()\n",
        "optimizer = optim.SGD(model.parameters(),\n",
        "                      lr=learning_rate)\n",
        "#optimizer = optim.Adam(model.parameters(),\n",
        "#                       lr=0.001,\n",
        "#                       betas=(0.9, 0.999), amsgrad=True)\n",
        "hist = {'train_loss': [], 'ppl':[]}\n",
        "\n",
        "def train_step(x, t, hidden1, hidden2):\n",
        "    optimizer.zero_grad() #勾配が累積されるのを防ぐ\n",
        "    preds, hidden1, hidden2 = model(x, hidden1, hidden2)\n",
        "    # 損失計算\n",
        "    loss = criterion(preds.view(-1, VOCAB_SIZE), t.view(-1))\n",
        "    loss.backward()\n",
        "    #勾配クリッピング\n",
        "    nn.utils.clip_grad_norm_(model.parameters(), max_norm)\n",
        "    optimizer.step() #パラメータ更新\n",
        "    # 隠れ状態の計算グラフを消去\n",
        "    hidden1 = tuple(h.detach() for h in hidden1)\n",
        "    hidden2 = tuple(h.detach() for h in hidden2)\n",
        "\n",
        "    return loss, preds\n",
        "\n",
        "def eval_perplexity(model, iterator):\n",
        "    total_loss = 0\n",
        "    hidden1, hidden2 = None, None\n",
        "    model.eval()\n",
        "    with torch.no_grad():\n",
        "      for input, target in iterator:\n",
        "        output, hidden1, hidden2 = model(input, hidden1, hidden2)\n",
        "        loss = F.cross_entropy(output.view(-1, VOCAB_SIZE), target.view(-1))\n",
        "        total_loss += loss.item()\n",
        "    \n",
        "    ppl = math.exp(total_loss / len(iterator))\n",
        "    return ppl\n",
        "\n",
        "best_ppl = float('inf')\n",
        "ppl_list = []\n",
        "for epoch in tqdm(range(epochs)):\n",
        "    model.train() #モデルを訓練モードに\n",
        "    train_loss = 0.\n",
        "    loss_count = 0\n",
        "    hidden1, hidden2 = None, None\n",
        "    for i, iters in enumerate(train_iter):\n",
        "        x, t = iters\n",
        "        x, t = x.to(device), t.to(device)\n",
        "        optimizer.zero_grad() #勾配が累積されるのを防ぐ\n",
        "        preds, hidden1, hidden2 = model(x, hidden1, hidden2)\n",
        "        #  損失計算\n",
        "        loss = criterion(preds.view(-1, VOCAB_SIZE), t.view(-1))\n",
        "        loss.backward()\n",
        "        #勾配クリッピング\n",
        "        nn.utils.clip_grad_norm_(model.parameters(), max_norm)\n",
        "        optimizer.step() #パラメータ更新\n",
        "        # 隠れ状態の計算グラフを消去\n",
        "        hidden1 = tuple(h.detach() for h in hidden1)\n",
        "        hidden2 = tuple(h.detach() for h in hidden2)\n",
        "        train_loss += loss.item()\n",
        "        loss_count += 1\n",
        "    # perplexity\n",
        "    ppl = np.exp(train_loss / loss_count)    \n",
        "    ppl_list.append(ppl)\n",
        "    #出力を見る\n",
        "    \n",
        "    # 検証データで評価\n",
        "    val_ppl = eval_perplexity(model, val_iter)\n",
        "    print(f'| epoch {epoch+1} : valid perplexity {val_ppl:.2f} |')\n",
        "    if val_ppl < best_ppl:\n",
        "      best_ppl = val_ppl\n",
        "      model_name = OUTPUT_MODEL_DIR + \"batch{}_bptt{}_hid{}_emb{}_epoch{}.pt\".format(BATCH_SIZE, BPTT_LEN, HIDDEN_DIM, EMBEDDING_DIM, epoch)\n",
        "      torch.save(model.state_dict(), model_name)\n",
        "    else:\n",
        "      learning_rate /= 4.0\n",
        "      for group in optimizer.param_groups:\n",
        "        group['lr'] = learning_rate\n",
        "\n",
        "torch.save(model.state_dict(), OUTPUT_MODEL_DIR+\"batch{}_bptt{}_hid{}_emb{}_epoch{}.pt\".format(BATCH_SIZE, BPTT_LEN, HIDDEN_DIM, EMBEDDING_DIM, epoch))\n",
        "\n",
        "#perplexity の確認\n",
        "plt.plot(ppl_list)\n",
        "plt.ylim((0, 100))\n",
        "plt.xlabel('iterations')\n",
        "plt.ylabel('perplexity')\n",
        "plt.title('train perplexity')\n",
        "plt.show()"
      ],
      "execution_count": 19,
      "outputs": [
        {
          "output_type": "stream",
          "text": [
            "Build model...\n"
          ],
          "name": "stdout"
        },
        {
          "output_type": "stream",
          "text": [
            "  2%|▏         | 1/50 [00:04<03:38,  4.45s/it]"
          ],
          "name": "stderr"
        },
        {
          "output_type": "stream",
          "text": [
            "| epoch 1 : valid perplexity 4284.64 |\n"
          ],
          "name": "stdout"
        },
        {
          "output_type": "stream",
          "text": [
            "\r  4%|▍         | 2/50 [00:08<03:32,  4.42s/it]"
          ],
          "name": "stderr"
        },
        {
          "output_type": "stream",
          "text": [
            "| epoch 2 : valid perplexity 4279.54 |\n"
          ],
          "name": "stdout"
        },
        {
          "output_type": "stream",
          "text": [
            "\r  6%|▌         | 3/50 [00:13<03:27,  4.41s/it]"
          ],
          "name": "stderr"
        },
        {
          "output_type": "stream",
          "text": [
            "| epoch 3 : valid perplexity 3382.92 |\n"
          ],
          "name": "stdout"
        },
        {
          "output_type": "stream",
          "text": [
            "\r  8%|▊         | 4/50 [00:17<03:23,  4.41s/it]"
          ],
          "name": "stderr"
        },
        {
          "output_type": "stream",
          "text": [
            "| epoch 4 : valid perplexity 2386.15 |\n"
          ],
          "name": "stdout"
        },
        {
          "output_type": "stream",
          "text": [
            "\r 10%|█         | 5/50 [00:22<03:18,  4.42s/it]"
          ],
          "name": "stderr"
        },
        {
          "output_type": "stream",
          "text": [
            "| epoch 5 : valid perplexity 1466.10 |\n"
          ],
          "name": "stdout"
        },
        {
          "output_type": "stream",
          "text": [
            "\r 12%|█▏        | 6/50 [00:26<03:14,  4.41s/it]"
          ],
          "name": "stderr"
        },
        {
          "output_type": "stream",
          "text": [
            "| epoch 6 : valid perplexity 1357.62 |\n"
          ],
          "name": "stdout"
        },
        {
          "output_type": "stream",
          "text": [
            "\r 14%|█▍        | 7/50 [00:30<03:09,  4.41s/it]"
          ],
          "name": "stderr"
        },
        {
          "output_type": "stream",
          "text": [
            "| epoch 7 : valid perplexity 1081.79 |\n"
          ],
          "name": "stdout"
        },
        {
          "output_type": "stream",
          "text": [
            "\r 16%|█▌        | 8/50 [00:35<03:05,  4.41s/it]"
          ],
          "name": "stderr"
        },
        {
          "output_type": "stream",
          "text": [
            "| epoch 8 : valid perplexity 965.49 |\n"
          ],
          "name": "stdout"
        },
        {
          "output_type": "stream",
          "text": [
            "\r 18%|█▊        | 9/50 [00:39<03:01,  4.42s/it]"
          ],
          "name": "stderr"
        },
        {
          "output_type": "stream",
          "text": [
            "| epoch 9 : valid perplexity 883.80 |\n"
          ],
          "name": "stdout"
        },
        {
          "output_type": "stream",
          "text": [
            "\r 20%|██        | 10/50 [00:44<02:56,  4.41s/it]"
          ],
          "name": "stderr"
        },
        {
          "output_type": "stream",
          "text": [
            "| epoch 10 : valid perplexity 762.89 |\n"
          ],
          "name": "stdout"
        },
        {
          "output_type": "stream",
          "text": [
            "\r 22%|██▏       | 11/50 [00:48<02:52,  4.41s/it]"
          ],
          "name": "stderr"
        },
        {
          "output_type": "stream",
          "text": [
            "| epoch 11 : valid perplexity 718.26 |\n"
          ],
          "name": "stdout"
        },
        {
          "output_type": "stream",
          "text": [
            "\r 24%|██▍       | 12/50 [00:52<02:47,  4.42s/it]"
          ],
          "name": "stderr"
        },
        {
          "output_type": "stream",
          "text": [
            "| epoch 12 : valid perplexity 635.85 |\n"
          ],
          "name": "stdout"
        },
        {
          "output_type": "stream",
          "text": [
            "\r 26%|██▌       | 13/50 [00:57<02:42,  4.38s/it]"
          ],
          "name": "stderr"
        },
        {
          "output_type": "stream",
          "text": [
            "| epoch 13 : valid perplexity 648.14 |\n"
          ],
          "name": "stdout"
        },
        {
          "output_type": "stream",
          "text": [
            "\r 28%|██▊       | 14/50 [01:01<02:38,  4.40s/it]"
          ],
          "name": "stderr"
        },
        {
          "output_type": "stream",
          "text": [
            "| epoch 14 : valid perplexity 571.23 |\n"
          ],
          "name": "stdout"
        },
        {
          "output_type": "stream",
          "text": [
            "\r 30%|███       | 15/50 [01:06<02:34,  4.40s/it]"
          ],
          "name": "stderr"
        },
        {
          "output_type": "stream",
          "text": [
            "| epoch 15 : valid perplexity 567.92 |\n"
          ],
          "name": "stdout"
        },
        {
          "output_type": "stream",
          "text": [
            "\r 32%|███▏      | 16/50 [01:10<02:29,  4.41s/it]"
          ],
          "name": "stderr"
        },
        {
          "output_type": "stream",
          "text": [
            "| epoch 16 : valid perplexity 563.16 |\n"
          ],
          "name": "stdout"
        },
        {
          "output_type": "stream",
          "text": [
            "\r 34%|███▍      | 17/50 [01:14<02:25,  4.41s/it]"
          ],
          "name": "stderr"
        },
        {
          "output_type": "stream",
          "text": [
            "| epoch 17 : valid perplexity 552.89 |\n"
          ],
          "name": "stdout"
        },
        {
          "output_type": "stream",
          "text": [
            "\r 36%|███▌      | 18/50 [01:19<02:20,  4.38s/it]"
          ],
          "name": "stderr"
        },
        {
          "output_type": "stream",
          "text": [
            "| epoch 18 : valid perplexity 568.28 |\n"
          ],
          "name": "stdout"
        },
        {
          "output_type": "stream",
          "text": [
            "\r 38%|███▊      | 19/50 [01:23<02:16,  4.39s/it]"
          ],
          "name": "stderr"
        },
        {
          "output_type": "stream",
          "text": [
            "| epoch 19 : valid perplexity 547.31 |\n"
          ],
          "name": "stdout"
        },
        {
          "output_type": "stream",
          "text": [
            "\r 40%|████      | 20/50 [01:28<02:11,  4.40s/it]"
          ],
          "name": "stderr"
        },
        {
          "output_type": "stream",
          "text": [
            "| epoch 20 : valid perplexity 540.14 |\n"
          ],
          "name": "stdout"
        },
        {
          "output_type": "stream",
          "text": [
            "\r 42%|████▏     | 21/50 [01:32<02:07,  4.40s/it]"
          ],
          "name": "stderr"
        },
        {
          "output_type": "stream",
          "text": [
            "| epoch 21 : valid perplexity 540.11 |\n"
          ],
          "name": "stdout"
        },
        {
          "output_type": "stream",
          "text": [
            "\r 44%|████▍     | 22/50 [01:36<02:02,  4.38s/it]"
          ],
          "name": "stderr"
        },
        {
          "output_type": "stream",
          "text": [
            "| epoch 22 : valid perplexity 546.28 |\n"
          ],
          "name": "stdout"
        },
        {
          "output_type": "stream",
          "text": [
            "\r 46%|████▌     | 23/50 [01:41<01:57,  4.36s/it]"
          ],
          "name": "stderr"
        },
        {
          "output_type": "stream",
          "text": [
            "| epoch 23 : valid perplexity 540.55 |\n"
          ],
          "name": "stdout"
        },
        {
          "output_type": "stream",
          "text": [
            "\r 48%|████▊     | 24/50 [01:45<01:53,  4.37s/it]"
          ],
          "name": "stderr"
        },
        {
          "output_type": "stream",
          "text": [
            "| epoch 24 : valid perplexity 538.62 |\n"
          ],
          "name": "stdout"
        },
        {
          "output_type": "stream",
          "text": [
            "\r 50%|█████     | 25/50 [01:49<01:49,  4.39s/it]"
          ],
          "name": "stderr"
        },
        {
          "output_type": "stream",
          "text": [
            "| epoch 25 : valid perplexity 537.91 |\n"
          ],
          "name": "stdout"
        },
        {
          "output_type": "stream",
          "text": [
            "\r 52%|█████▏    | 26/50 [01:54<01:45,  4.40s/it]"
          ],
          "name": "stderr"
        },
        {
          "output_type": "stream",
          "text": [
            "| epoch 26 : valid perplexity 537.61 |\n"
          ],
          "name": "stdout"
        },
        {
          "output_type": "stream",
          "text": [
            "\r 54%|█████▍    | 27/50 [01:58<01:41,  4.40s/it]"
          ],
          "name": "stderr"
        },
        {
          "output_type": "stream",
          "text": [
            "| epoch 27 : valid perplexity 536.27 |\n"
          ],
          "name": "stdout"
        },
        {
          "output_type": "stream",
          "text": [
            "\r 56%|█████▌    | 28/50 [02:03<01:36,  4.41s/it]"
          ],
          "name": "stderr"
        },
        {
          "output_type": "stream",
          "text": [
            "| epoch 28 : valid perplexity 535.23 |\n"
          ],
          "name": "stdout"
        },
        {
          "output_type": "stream",
          "text": [
            "\r 58%|█████▊    | 29/50 [02:07<01:31,  4.38s/it]"
          ],
          "name": "stderr"
        },
        {
          "output_type": "stream",
          "text": [
            "| epoch 29 : valid perplexity 535.31 |\n"
          ],
          "name": "stdout"
        },
        {
          "output_type": "stream",
          "text": [
            "\r 60%|██████    | 30/50 [02:11<01:27,  4.36s/it]"
          ],
          "name": "stderr"
        },
        {
          "output_type": "stream",
          "text": [
            "| epoch 30 : valid perplexity 535.36 |\n"
          ],
          "name": "stdout"
        },
        {
          "output_type": "stream",
          "text": [
            "\r 62%|██████▏   | 31/50 [02:16<01:22,  4.34s/it]"
          ],
          "name": "stderr"
        },
        {
          "output_type": "stream",
          "text": [
            "| epoch 31 : valid perplexity 535.27 |\n"
          ],
          "name": "stdout"
        },
        {
          "output_type": "stream",
          "text": [
            "\r 64%|██████▍   | 32/50 [02:20<01:18,  4.33s/it]"
          ],
          "name": "stderr"
        },
        {
          "output_type": "stream",
          "text": [
            "| epoch 32 : valid perplexity 535.25 |\n"
          ],
          "name": "stdout"
        },
        {
          "output_type": "stream",
          "text": [
            "\r 66%|██████▌   | 33/50 [02:24<01:13,  4.33s/it]"
          ],
          "name": "stderr"
        },
        {
          "output_type": "stream",
          "text": [
            "| epoch 33 : valid perplexity 535.24 |\n"
          ],
          "name": "stdout"
        },
        {
          "output_type": "stream",
          "text": [
            "\r 68%|██████▊   | 34/50 [02:29<01:09,  4.32s/it]"
          ],
          "name": "stderr"
        },
        {
          "output_type": "stream",
          "text": [
            "| epoch 34 : valid perplexity 535.24 |\n"
          ],
          "name": "stdout"
        },
        {
          "output_type": "stream",
          "text": [
            "\r 70%|███████   | 35/50 [02:33<01:04,  4.32s/it]"
          ],
          "name": "stderr"
        },
        {
          "output_type": "stream",
          "text": [
            "| epoch 35 : valid perplexity 535.24 |\n"
          ],
          "name": "stdout"
        },
        {
          "output_type": "stream",
          "text": [
            "\r 72%|███████▏  | 36/50 [02:37<01:00,  4.32s/it]"
          ],
          "name": "stderr"
        },
        {
          "output_type": "stream",
          "text": [
            "| epoch 36 : valid perplexity 535.24 |\n"
          ],
          "name": "stdout"
        },
        {
          "output_type": "stream",
          "text": [
            "\r 74%|███████▍  | 37/50 [02:42<00:56,  4.32s/it]"
          ],
          "name": "stderr"
        },
        {
          "output_type": "stream",
          "text": [
            "| epoch 37 : valid perplexity 535.24 |\n"
          ],
          "name": "stdout"
        },
        {
          "output_type": "stream",
          "text": [
            "\r 76%|███████▌  | 38/50 [02:46<00:51,  4.31s/it]"
          ],
          "name": "stderr"
        },
        {
          "output_type": "stream",
          "text": [
            "| epoch 38 : valid perplexity 535.24 |\n"
          ],
          "name": "stdout"
        },
        {
          "output_type": "stream",
          "text": [
            "\r 78%|███████▊  | 39/50 [02:50<00:47,  4.31s/it]"
          ],
          "name": "stderr"
        },
        {
          "output_type": "stream",
          "text": [
            "| epoch 39 : valid perplexity 535.24 |\n"
          ],
          "name": "stdout"
        },
        {
          "output_type": "stream",
          "text": [
            "\r 80%|████████  | 40/50 [02:54<00:43,  4.31s/it]"
          ],
          "name": "stderr"
        },
        {
          "output_type": "stream",
          "text": [
            "| epoch 40 : valid perplexity 535.24 |\n"
          ],
          "name": "stdout"
        },
        {
          "output_type": "stream",
          "text": [
            "\r 82%|████████▏ | 41/50 [02:59<00:38,  4.31s/it]"
          ],
          "name": "stderr"
        },
        {
          "output_type": "stream",
          "text": [
            "| epoch 41 : valid perplexity 535.24 |\n"
          ],
          "name": "stdout"
        },
        {
          "output_type": "stream",
          "text": [
            "\r 84%|████████▍ | 42/50 [03:03<00:34,  4.31s/it]"
          ],
          "name": "stderr"
        },
        {
          "output_type": "stream",
          "text": [
            "| epoch 42 : valid perplexity 535.24 |\n"
          ],
          "name": "stdout"
        },
        {
          "output_type": "stream",
          "text": [
            "\r 86%|████████▌ | 43/50 [03:07<00:30,  4.31s/it]"
          ],
          "name": "stderr"
        },
        {
          "output_type": "stream",
          "text": [
            "| epoch 43 : valid perplexity 535.24 |\n"
          ],
          "name": "stdout"
        },
        {
          "output_type": "stream",
          "text": [
            "\r 88%|████████▊ | 44/50 [03:12<00:25,  4.31s/it]"
          ],
          "name": "stderr"
        },
        {
          "output_type": "stream",
          "text": [
            "| epoch 44 : valid perplexity 535.24 |\n"
          ],
          "name": "stdout"
        },
        {
          "output_type": "stream",
          "text": [
            "\r 90%|█████████ | 45/50 [03:16<00:21,  4.31s/it]"
          ],
          "name": "stderr"
        },
        {
          "output_type": "stream",
          "text": [
            "| epoch 45 : valid perplexity 535.24 |\n"
          ],
          "name": "stdout"
        },
        {
          "output_type": "stream",
          "text": [
            "\r 92%|█████████▏| 46/50 [03:20<00:17,  4.31s/it]"
          ],
          "name": "stderr"
        },
        {
          "output_type": "stream",
          "text": [
            "| epoch 46 : valid perplexity 535.24 |\n"
          ],
          "name": "stdout"
        },
        {
          "output_type": "stream",
          "text": [
            "\r 94%|█████████▍| 47/50 [03:25<00:12,  4.31s/it]"
          ],
          "name": "stderr"
        },
        {
          "output_type": "stream",
          "text": [
            "| epoch 47 : valid perplexity 535.24 |\n"
          ],
          "name": "stdout"
        },
        {
          "output_type": "stream",
          "text": [
            "\r 96%|█████████▌| 48/50 [03:29<00:08,  4.31s/it]"
          ],
          "name": "stderr"
        },
        {
          "output_type": "stream",
          "text": [
            "| epoch 48 : valid perplexity 535.24 |\n"
          ],
          "name": "stdout"
        },
        {
          "output_type": "stream",
          "text": [
            "\r 98%|█████████▊| 49/50 [03:33<00:04,  4.31s/it]"
          ],
          "name": "stderr"
        },
        {
          "output_type": "stream",
          "text": [
            "| epoch 49 : valid perplexity 535.24 |\n"
          ],
          "name": "stdout"
        },
        {
          "output_type": "stream",
          "text": [
            "100%|██████████| 50/50 [03:38<00:00,  4.36s/it]"
          ],
          "name": "stderr"
        },
        {
          "output_type": "stream",
          "text": [
            "| epoch 50 : valid perplexity 535.24 |\n"
          ],
          "name": "stdout"
        },
        {
          "output_type": "stream",
          "text": [
            "\n"
          ],
          "name": "stderr"
        },
        {
          "output_type": "display_data",
          "data": {
            "image/png": "[encoded data removed]",
            "text/plain": [
              "<Figure size 432x288 with 1 Axes>"
            ]
          },
          "metadata": {
            "needs_background": "light"
          }
        }
      ]
    }
  ]
}