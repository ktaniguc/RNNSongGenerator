{
  "nbformat": 4,
  "nbformat_minor": 0,
  "metadata": {
    "accelerator": "GPU",
    "colab": {
      "name": "LstmSongGen_wDataAug_pytorch_v3.ipynb",
      "provenance": [],
      "collapsed_sections": [],
      "include_colab_link": true
    },
    "kernelspec": {
      "display_name": "Python 3",
      "name": "python3"
    },
    "language_info": {
      "name": "python"
    }
  },
  "cells": [
    {
      "cell_type": "markdown",
      "metadata": {
        "id": "view-in-github",
        "colab_type": "text"
      },
      "source": [
        "<a href=\"https://colab.research.google.com/github/ktaniguc/RNNSongGenerator/blob/main/LstmSongGen_wDataAug_pytorch_v3.ipynb\" target=\"_parent\"><img src=\"https://colab.research.google.com/assets/colab-badge.svg\" alt=\"Open In Colab\"/></a>"
      ]
    },
    {
      "cell_type": "markdown",
      "metadata": {
        "id": "Z-eJZvOwNo8R"
      },
      "source": [
        "\n",
        "### 注意点\n",
        "- 意味不明なこと言っている&間違った言葉の使い方をしている可能性大\n",
        "\n",
        "### 要改善点(反省点)\n",
        "- dataaugmentation の前に\n",
        "  - dropout など、過学習防止の策を取る\n",
        "  - keras のCuDNNでは拡張性に乏しい(dropoutの実装がないなど)→pytorchに乗り換える\n",
        " - LSTM とは言えども、それほど長いメロディーは覚えられないのでは\n",
        "  - batch でもっと細かく切ってみる?一旦曲ごとに分ける\n",
        "  - http://mitaka.boo.jp/articles/article12\n",
        "- data augmentation を行うに当たり(移調+1~+11)、大量のリソースが必要\n",
        "  - pytorch にすればバッチ処理可能？\n",
        "- 参考\n",
        "  - [LSTMによる自動作曲システムの構築] file:///Users/taniguchikouhei/OneDrive/downloads/48146440-1.pdf\n",
        "  - [PyTorchを使ってLSTMモデルを実装する―RNNで文章生成〈８〉]http://mitaka.boo.jp/articles/article11\n",
        "  - [PyTorchを使ってLSTMで文章分類を実装してみた]https://qiita.com/m__k/items/841950a57a0d7ff05506\n",
        "  - [PyTorchのRNNクラスを使って文章を生成してみよう]https://atmarkit.itmedia.co.jp/ait/articles/2103/26/news026.html\n",
        "  - [【Pytorch入門】ニュース記事で文章生成がしたい]https://qiita.com/hcpmiyuki/items/c6afc037518542cfe410\n",
        "\n",
        "### 改善した点\n",
        "- embedding 層、batch 処理、bptt(学習の文章長を制限) の導入\n",
        "- 移調のdata augmentation を行えるように\n",
        "- dropout層追加\n",
        "- 20epoch ごとにmodel 保存、midi 生成ができるように(更新アリ)\n",
        "\n",
        "### 更新\n",
        "- 08/24\n",
        "  - 何故かBATCH_SIZE が2以上ではうまく行かない\n",
        "    - 修正完了(しんどい...)\n",
        "  - 音楽生成の部分は他のipynb に任せる\n",
        "- 8/25\n",
        "  - 検証データをちゃんと設け、perplexity で精度を評価できるように\n",
        "    - どのepoch のモデルが良いかを見るため。\n",
        "  - train, validation 用に自動でデータを分割\n",
        "    - defuault では0.95:0.05 (どーせ検証といえど聴かんとわからんから申し訳程度に)\n",
        "  - bug (needless option(remove batch_first=True))直した\n",
        "  - 20epoch ごとにモデルの保存ではなく、validation data を用いたperplexity の値が改善されたときに保存するように変更"
      ]
    },
    {
      "cell_type": "code",
      "metadata": {
        "id": "3uOd2DOFd6Ii"
      },
      "source": [
        ""
      ],
      "execution_count": null,
      "outputs": []
    },
    {
      "cell_type": "markdown",
      "metadata": {
        "id": "tUmZEK8deW_-"
      },
      "source": [
        "## setup"
      ]
    },
    {
      "cell_type": "code",
      "metadata": {
        "colab": {
          "base_uri": "https://localhost:8080/"
        },
        "id": "7vGtIbQFaGTk",
        "outputId": "5b53a8e9-9121-48c2-8c21-1ad984361b38"
      },
      "source": [
        "#!pip install tqdm\n",
        "!pip install mido keras torch\n",
        "#!pip install -U torchtext"
      ],
      "execution_count": 39,
      "outputs": [
        {
          "output_type": "stream",
          "text": [
            "Requirement already satisfied: mido in /usr/local/lib/python3.7/dist-packages (1.2.10)\n",
            "Requirement already satisfied: keras in /usr/local/lib/python3.7/dist-packages (2.6.0)\n",
            "Requirement already satisfied: torch in /usr/local/lib/python3.7/dist-packages (1.9.0+cu102)\n",
            "Requirement already satisfied: typing-extensions in /usr/local/lib/python3.7/dist-packages (from torch) (3.7.4.3)\n"
          ],
          "name": "stdout"
        }
      ]
    },
    {
      "cell_type": "code",
      "metadata": {
        "colab": {
          "base_uri": "https://localhost:8080/"
        },
        "id": "3NaJr-O9HQ9R",
        "outputId": "14f22451-053d-4eff-a9c6-a41c46824834"
      },
      "source": [
        "from google.colab import drive\n",
        "drive.mount('/content/drive/')\n",
        "!cd \"/content/drive/MyDrive/\"\n",
        "!ls /content/drive/MyDrive/Colab_Notebooks/songs/test"
      ],
      "execution_count": 40,
      "outputs": [
        {
          "output_type": "stream",
          "text": [
            "Drive already mounted at /content/drive/; to attempt to forcibly remount, call drive.mount(\"/content/drive/\", force_remount=True).\n",
            "akaimahura-rei.MID  sky.MID\t   syoujyonomamade.MID\t tukito_piano_010.MID\n",
            "koneko-runa.MID     summer-va.MID  tukito_piano_005.MID\n"
          ],
          "name": "stdout"
        }
      ]
    },
    {
      "cell_type": "code",
      "metadata": {
        "id": "fqmJaCByF8uN"
      },
      "source": [
        "#IN/OUT/出力結果/ハイパーパラメータの名前を設定\n",
        "TRAIN_DIR=\"/content/drive/MyDrive/Colab_Notebooks/songs/train/\" #学習用midi データ置き場(評価用はないっす)\n",
        "BPM=\"150\"\n",
        "augment=12 #data augumentation でnote をどこまで移調するか。+1で半音。\n",
        "argstep=1 #移調のstep\n",
        "DIR = \"/content/drive/MyDrive/Colab_Notebooks/dev_Aug2021_pytorch_v4/\" #モデルやら生成物やらの出力先\n",
        "if os.path.exists(DIR):\n",
        "  !mkdir -p {DIR + \"train_txt/\"} #学習用データ midi をtext に変換したものを保管\n",
        "  !mkdir -p {DIR + \"result_txt/\"} #予測した結果をtxt で保管\n",
        "  !mkdir -p {DIR + \"result_mid/\"} #予測結果txt をmidi に変換して保管\n",
        "  !mkdir -p {DIR + \"output_model/\"}\n",
        "  TRAIN_TXT_DIR = DIR + \"train_txt/\" #学習用データ midi をtext に変換したものを保管\n",
        "  RESULT_TXT_DIR = DIR + \"result_txt/\" #予測した結果をtxt で保管\n",
        "  RESULT_MIDI_DIR = DIR + \"result_mid/\" #予測結果txt をmidi に変換して保管\n",
        "  OUTPUT_MODEL_DIR = DIR + \"output_model/\"\n",
        "else:\n",
        "  print(\"please make directory for saving files first.\")\n",
        "\n",
        "BATCH_SIZE=20 #ミニバッチサイズ\n",
        "BPTT_LEN = 140 #text とtarget の長さ 700(BPM=120)で30秒くらい。\n",
        "EMBEDDING_DIM = 512 #embedding 層\n",
        "HIDDEN_DIM = 512 #隠れ層\n",
        "DROPOUT = 0.5\n",
        "max_norm = 0.25 #勾配クリッピング\n",
        "epochs = 300\n",
        "device = torch.device('cuda' if torch.cuda.is_available() else 'cpu')"
      ],
      "execution_count": 42,
      "outputs": []
    },
    {
      "cell_type": "markdown",
      "metadata": {
        "id": "Jrt78WDnhlKd"
      },
      "source": [
        "## main"
      ]
    },
    {
      "cell_type": "code",
      "metadata": {
        "colab": {
          "base_uri": "https://localhost:8080/"
        },
        "id": "2falf5hk64Vr",
        "outputId": "ec52c62c-6177-4fdf-8e1e-88d82eb19e1c"
      },
      "source": [
        "#https://qiita.com/ysit/items/a601cb59523cc1961556\n",
        "#鬼のimport祭り\n",
        "import mido\n",
        "from mido import Message, MidiFile\n",
        "from pathlib import Path\n",
        "import sys, os\n",
        "import random\n",
        "import torch, torchvision\n",
        "print(torch.__version__, torch.cuda.is_available())\n",
        "import torch.nn as nn\n",
        "import torch.nn.utils.rnn as rnn\n",
        "import torch.optim as optim\n",
        "from torch.utils.data import DataLoader\n",
        "import torch.nn.functional as F\n",
        "from tqdm import tqdm\n",
        "from tensorflow import keras\n",
        "import numpy as np\n",
        "import mido\n",
        "from mido import Message, MidiFile, MidiTrack, MetaMessage\n",
        "import sys\n",
        "import matplotlib.pyplot as plt\n",
        "import math"
      ],
      "execution_count": 41,
      "outputs": [
        {
          "output_type": "stream",
          "text": [
            "1.9.0+cu102 True\n"
          ],
          "name": "stdout"
        }
      ]
    },
    {
      "cell_type": "code",
      "metadata": {
        "colab": {
          "base_uri": "https://localhost:8080/"
        },
        "id": "VrQNY3oM2sgA",
        "outputId": "336c8876-6944-41e3-d12d-549a1090aa27"
      },
      "source": [
        "#cuda であーだこーだ怒られたときの対処セル。いらないかも。\n",
        "!nvcc --version\n",
        "!python -c 'import torch; print(torch.__version__) '\n",
        "!ls -d /usr/local/cuda-*\n",
        "!which nvcc\n",
        "p = os.getenv('PATH')\n",
        "ld = os.getenv('LD_LIBRARY_PATH')\n",
        "os.environ['PATH'] = f\"/usr/local/cuda-11.0/bin:{p}\"\n",
        "os.environ['LD_LIBRARY_PATH'] = f\"/usr/local/cuda-11.0/lib64:{ld}\"\n",
        "!nvcc --version\n",
        "##!pip install torch==1.8.0\n",
        "#os.environ['CUDA_LAUNCH_BLOCKING'] = \"1\"\n",
        "#assert torch.__version__.startswith(\"1.8\")"
      ],
      "execution_count": 43,
      "outputs": [
        {
          "output_type": "stream",
          "text": [
            "nvcc: NVIDIA (R) Cuda compiler driver\n",
            "Copyright (c) 2005-2020 NVIDIA Corporation\n",
            "Built on Wed_Jul_22_19:09:09_PDT_2020\n",
            "Cuda compilation tools, release 11.0, V11.0.221\n",
            "Build cuda_11.0_bu.TC445_37.28845127_0\n",
            "1.9.0+cu102\n",
            "/usr/local/cuda-10.0  /usr/local/cuda-10.1  /usr/local/cuda-11.0\n",
            "/usr/local/cuda/bin/nvcc\n",
            "nvcc: NVIDIA (R) Cuda compiler driver\n",
            "Copyright (c) 2005-2020 NVIDIA Corporation\n",
            "Built on Wed_Jul_22_19:09:09_PDT_2020\n",
            "Cuda compilation tools, release 11.0, V11.0.221\n",
            "Build cuda_11.0_bu.TC445_37.28845127_0\n"
          ],
          "name": "stdout"
        }
      ]
    },
    {
      "cell_type": "markdown",
      "metadata": {
        "id": "y15lyhvJIgn_"
      },
      "source": [
        "mid2txt.py"
      ]
    },
    {
      "cell_type": "code",
      "metadata": {
        "colab": {
          "base_uri": "https://localhost:8080/"
        },
        "id": "dBpTeyAJHbQP",
        "outputId": "d3bd1fc5-03ba-4ada-ecc7-26d91d346140"
      },
      "source": [
        "# 各トラック毎の全メッセージを表示する\n",
        "def dump_track(track_obj):\n",
        "    for msg in track_obj:\n",
        "        print(msg)\n",
        "\n",
        "# 全トラックの全メッセージをトラック毎に表示する\n",
        "def dump_smf(midi_obj):\n",
        "    for i, track in enumerate(midi_obj.tracks):\n",
        "        print(f\"Track {i}: {track.name}\")\n",
        "        dump_track(track)\n",
        "\n",
        "def note_on_off(msg_type):\n",
        "  if msg_type == \"note_on\":\n",
        "    return \"1_\"\n",
        "  else:\n",
        "    return \"0_\"\n",
        "\n",
        "pathlist = Path(TRAIN_DIR).glob('**/*.[mM][iI][dD]')\n",
        "outputDir = TRAIN_TXT_DIR\n",
        "for path in pathlist:\n",
        "  filename = os.path.split(path)[1].replace(\".mid\", \"\")\n",
        "  for i_scale in range(0, augment, argstep):\n",
        "    print(\"transpositon: +\", i_scale)\n",
        "    outputfile_wDir = TRAIN_TXT_DIR + filename + \"_plus\" + str(i_scale) + \".txt\"\n",
        "    print(\"output text file name : \", outputfile_wDir)\n",
        "    f = open(outputfile_wDir, 'w')\n",
        "    mid = MidiFile(path)\n",
        "    #dump_smf(mid)\n",
        "    for i, track in enumerate(mid.tracks):\n",
        "      for msg in track:\n",
        "        chunk = \"\"\n",
        "        if msg.type == \"note_on\" or msg.type == \"note_off\":\n",
        "          #chunk = note_on_off(msg.type)\n",
        "          chunk = \"1_\" + str(msg.note+i_scale) + \"_\"\n",
        "          #note がoff == note がon かつvelocity 0なのでvelocity のみで調整\n",
        "          if msg.type == \"note_off\":\n",
        "            chunk += \"0_\"\n",
        "          else:\n",
        "            chunk += str(msg.velocity) + \"_\"\n",
        "          chunk += str(msg.time) + \",\"\n",
        "          f.write(chunk)\n",
        "    f.close()"
      ],
      "execution_count": 44,
      "outputs": [
        {
          "output_type": "stream",
          "text": [
            "transpositon: + 0\n",
            "output text file name :  /content/drive/MyDrive/Colab_Notebooks/dev_Aug2021_pytorch_v4/train_txt/MAROON 5_Misery_plus0.txt\n",
            "transpositon: + 1\n",
            "output text file name :  /content/drive/MyDrive/Colab_Notebooks/dev_Aug2021_pytorch_v4/train_txt/MAROON 5_Misery_plus1.txt\n",
            "transpositon: + 2\n",
            "output text file name :  /content/drive/MyDrive/Colab_Notebooks/dev_Aug2021_pytorch_v4/train_txt/MAROON 5_Misery_plus2.txt\n",
            "transpositon: + 3\n",
            "output text file name :  /content/drive/MyDrive/Colab_Notebooks/dev_Aug2021_pytorch_v4/train_txt/MAROON 5_Misery_plus3.txt\n",
            "transpositon: + 4\n",
            "output text file name :  /content/drive/MyDrive/Colab_Notebooks/dev_Aug2021_pytorch_v4/train_txt/MAROON 5_Misery_plus4.txt\n",
            "transpositon: + 5\n",
            "output text file name :  /content/drive/MyDrive/Colab_Notebooks/dev_Aug2021_pytorch_v4/train_txt/MAROON 5_Misery_plus5.txt\n",
            "transpositon: + 6\n",
            "output text file name :  /content/drive/MyDrive/Colab_Notebooks/dev_Aug2021_pytorch_v4/train_txt/MAROON 5_Misery_plus6.txt\n",
            "transpositon: + 7\n",
            "output text file name :  /content/drive/MyDrive/Colab_Notebooks/dev_Aug2021_pytorch_v4/train_txt/MAROON 5_Misery_plus7.txt\n",
            "transpositon: + 8\n",
            "output text file name :  /content/drive/MyDrive/Colab_Notebooks/dev_Aug2021_pytorch_v4/train_txt/MAROON 5_Misery_plus8.txt\n",
            "transpositon: + 9\n",
            "output text file name :  /content/drive/MyDrive/Colab_Notebooks/dev_Aug2021_pytorch_v4/train_txt/MAROON 5_Misery_plus9.txt\n",
            "transpositon: + 10\n",
            "output text file name :  /content/drive/MyDrive/Colab_Notebooks/dev_Aug2021_pytorch_v4/train_txt/MAROON 5_Misery_plus10.txt\n",
            "transpositon: + 11\n",
            "output text file name :  /content/drive/MyDrive/Colab_Notebooks/dev_Aug2021_pytorch_v4/train_txt/MAROON 5_Misery_plus11.txt\n",
            "transpositon: + 0\n",
            "output text file name :  /content/drive/MyDrive/Colab_Notebooks/dev_Aug2021_pytorch_v4/train_txt/ONE OK ROCK_Whenever You Are_plus0.txt\n",
            "transpositon: + 1\n",
            "output text file name :  /content/drive/MyDrive/Colab_Notebooks/dev_Aug2021_pytorch_v4/train_txt/ONE OK ROCK_Whenever You Are_plus1.txt\n",
            "transpositon: + 2\n",
            "output text file name :  /content/drive/MyDrive/Colab_Notebooks/dev_Aug2021_pytorch_v4/train_txt/ONE OK ROCK_Whenever You Are_plus2.txt\n",
            "transpositon: + 3\n",
            "output text file name :  /content/drive/MyDrive/Colab_Notebooks/dev_Aug2021_pytorch_v4/train_txt/ONE OK ROCK_Whenever You Are_plus3.txt\n",
            "transpositon: + 4\n",
            "output text file name :  /content/drive/MyDrive/Colab_Notebooks/dev_Aug2021_pytorch_v4/train_txt/ONE OK ROCK_Whenever You Are_plus4.txt\n",
            "transpositon: + 5\n",
            "output text file name :  /content/drive/MyDrive/Colab_Notebooks/dev_Aug2021_pytorch_v4/train_txt/ONE OK ROCK_Whenever You Are_plus5.txt\n",
            "transpositon: + 6\n",
            "output text file name :  /content/drive/MyDrive/Colab_Notebooks/dev_Aug2021_pytorch_v4/train_txt/ONE OK ROCK_Whenever You Are_plus6.txt\n",
            "transpositon: + 7\n",
            "output text file name :  /content/drive/MyDrive/Colab_Notebooks/dev_Aug2021_pytorch_v4/train_txt/ONE OK ROCK_Whenever You Are_plus7.txt\n",
            "transpositon: + 8\n",
            "output text file name :  /content/drive/MyDrive/Colab_Notebooks/dev_Aug2021_pytorch_v4/train_txt/ONE OK ROCK_Whenever You Are_plus8.txt\n",
            "transpositon: + 9\n",
            "output text file name :  /content/drive/MyDrive/Colab_Notebooks/dev_Aug2021_pytorch_v4/train_txt/ONE OK ROCK_Whenever You Are_plus9.txt\n",
            "transpositon: + 10\n",
            "output text file name :  /content/drive/MyDrive/Colab_Notebooks/dev_Aug2021_pytorch_v4/train_txt/ONE OK ROCK_Whenever You Are_plus10.txt\n",
            "transpositon: + 11\n",
            "output text file name :  /content/drive/MyDrive/Colab_Notebooks/dev_Aug2021_pytorch_v4/train_txt/ONE OK ROCK_Whenever You Are_plus11.txt\n",
            "transpositon: + 0\n",
            "output text file name :  /content/drive/MyDrive/Colab_Notebooks/dev_Aug2021_pytorch_v4/train_txt/TWICE_Wake Me Up_plus0.txt\n",
            "transpositon: + 1\n",
            "output text file name :  /content/drive/MyDrive/Colab_Notebooks/dev_Aug2021_pytorch_v4/train_txt/TWICE_Wake Me Up_plus1.txt\n",
            "transpositon: + 2\n",
            "output text file name :  /content/drive/MyDrive/Colab_Notebooks/dev_Aug2021_pytorch_v4/train_txt/TWICE_Wake Me Up_plus2.txt\n",
            "transpositon: + 3\n",
            "output text file name :  /content/drive/MyDrive/Colab_Notebooks/dev_Aug2021_pytorch_v4/train_txt/TWICE_Wake Me Up_plus3.txt\n",
            "transpositon: + 4\n",
            "output text file name :  /content/drive/MyDrive/Colab_Notebooks/dev_Aug2021_pytorch_v4/train_txt/TWICE_Wake Me Up_plus4.txt\n",
            "transpositon: + 5\n",
            "output text file name :  /content/drive/MyDrive/Colab_Notebooks/dev_Aug2021_pytorch_v4/train_txt/TWICE_Wake Me Up_plus5.txt\n",
            "transpositon: + 6\n",
            "output text file name :  /content/drive/MyDrive/Colab_Notebooks/dev_Aug2021_pytorch_v4/train_txt/TWICE_Wake Me Up_plus6.txt\n",
            "transpositon: + 7\n",
            "output text file name :  /content/drive/MyDrive/Colab_Notebooks/dev_Aug2021_pytorch_v4/train_txt/TWICE_Wake Me Up_plus7.txt\n",
            "transpositon: + 8\n",
            "output text file name :  /content/drive/MyDrive/Colab_Notebooks/dev_Aug2021_pytorch_v4/train_txt/TWICE_Wake Me Up_plus8.txt\n",
            "transpositon: + 9\n",
            "output text file name :  /content/drive/MyDrive/Colab_Notebooks/dev_Aug2021_pytorch_v4/train_txt/TWICE_Wake Me Up_plus9.txt\n",
            "transpositon: + 10\n",
            "output text file name :  /content/drive/MyDrive/Colab_Notebooks/dev_Aug2021_pytorch_v4/train_txt/TWICE_Wake Me Up_plus10.txt\n",
            "transpositon: + 11\n",
            "output text file name :  /content/drive/MyDrive/Colab_Notebooks/dev_Aug2021_pytorch_v4/train_txt/TWICE_Wake Me Up_plus11.txt\n",
            "transpositon: + 0\n",
            "output text file name :  /content/drive/MyDrive/Colab_Notebooks/dev_Aug2021_pytorch_v4/train_txt/Shawn Mendes_Treat You Better_plus0.txt\n",
            "transpositon: + 1\n",
            "output text file name :  /content/drive/MyDrive/Colab_Notebooks/dev_Aug2021_pytorch_v4/train_txt/Shawn Mendes_Treat You Better_plus1.txt\n",
            "transpositon: + 2\n",
            "output text file name :  /content/drive/MyDrive/Colab_Notebooks/dev_Aug2021_pytorch_v4/train_txt/Shawn Mendes_Treat You Better_plus2.txt\n",
            "transpositon: + 3\n",
            "output text file name :  /content/drive/MyDrive/Colab_Notebooks/dev_Aug2021_pytorch_v4/train_txt/Shawn Mendes_Treat You Better_plus3.txt\n",
            "transpositon: + 4\n",
            "output text file name :  /content/drive/MyDrive/Colab_Notebooks/dev_Aug2021_pytorch_v4/train_txt/Shawn Mendes_Treat You Better_plus4.txt\n",
            "transpositon: + 5\n",
            "output text file name :  /content/drive/MyDrive/Colab_Notebooks/dev_Aug2021_pytorch_v4/train_txt/Shawn Mendes_Treat You Better_plus5.txt\n",
            "transpositon: + 6\n",
            "output text file name :  /content/drive/MyDrive/Colab_Notebooks/dev_Aug2021_pytorch_v4/train_txt/Shawn Mendes_Treat You Better_plus6.txt\n",
            "transpositon: + 7\n",
            "output text file name :  /content/drive/MyDrive/Colab_Notebooks/dev_Aug2021_pytorch_v4/train_txt/Shawn Mendes_Treat You Better_plus7.txt\n",
            "transpositon: + 8\n",
            "output text file name :  /content/drive/MyDrive/Colab_Notebooks/dev_Aug2021_pytorch_v4/train_txt/Shawn Mendes_Treat You Better_plus8.txt\n",
            "transpositon: + 9\n",
            "output text file name :  /content/drive/MyDrive/Colab_Notebooks/dev_Aug2021_pytorch_v4/train_txt/Shawn Mendes_Treat You Better_plus9.txt\n",
            "transpositon: + 10\n",
            "output text file name :  /content/drive/MyDrive/Colab_Notebooks/dev_Aug2021_pytorch_v4/train_txt/Shawn Mendes_Treat You Better_plus10.txt\n",
            "transpositon: + 11\n",
            "output text file name :  /content/drive/MyDrive/Colab_Notebooks/dev_Aug2021_pytorch_v4/train_txt/Shawn Mendes_Treat You Better_plus11.txt\n",
            "transpositon: + 0\n",
            "output text file name :  /content/drive/MyDrive/Colab_Notebooks/dev_Aug2021_pytorch_v4/train_txt/米津玄師_Lemon_plus0.txt\n",
            "transpositon: + 1\n",
            "output text file name :  /content/drive/MyDrive/Colab_Notebooks/dev_Aug2021_pytorch_v4/train_txt/米津玄師_Lemon_plus1.txt\n",
            "transpositon: + 2\n",
            "output text file name :  /content/drive/MyDrive/Colab_Notebooks/dev_Aug2021_pytorch_v4/train_txt/米津玄師_Lemon_plus2.txt\n",
            "transpositon: + 3\n",
            "output text file name :  /content/drive/MyDrive/Colab_Notebooks/dev_Aug2021_pytorch_v4/train_txt/米津玄師_Lemon_plus3.txt\n",
            "transpositon: + 4\n",
            "output text file name :  /content/drive/MyDrive/Colab_Notebooks/dev_Aug2021_pytorch_v4/train_txt/米津玄師_Lemon_plus4.txt\n",
            "transpositon: + 5\n",
            "output text file name :  /content/drive/MyDrive/Colab_Notebooks/dev_Aug2021_pytorch_v4/train_txt/米津玄師_Lemon_plus5.txt\n",
            "transpositon: + 6\n",
            "output text file name :  /content/drive/MyDrive/Colab_Notebooks/dev_Aug2021_pytorch_v4/train_txt/米津玄師_Lemon_plus6.txt\n",
            "transpositon: + 7\n",
            "output text file name :  /content/drive/MyDrive/Colab_Notebooks/dev_Aug2021_pytorch_v4/train_txt/米津玄師_Lemon_plus7.txt\n",
            "transpositon: + 8\n",
            "output text file name :  /content/drive/MyDrive/Colab_Notebooks/dev_Aug2021_pytorch_v4/train_txt/米津玄師_Lemon_plus8.txt\n",
            "transpositon: + 9\n",
            "output text file name :  /content/drive/MyDrive/Colab_Notebooks/dev_Aug2021_pytorch_v4/train_txt/米津玄師_Lemon_plus9.txt\n",
            "transpositon: + 10\n",
            "output text file name :  /content/drive/MyDrive/Colab_Notebooks/dev_Aug2021_pytorch_v4/train_txt/米津玄師_Lemon_plus10.txt\n",
            "transpositon: + 11\n",
            "output text file name :  /content/drive/MyDrive/Colab_Notebooks/dev_Aug2021_pytorch_v4/train_txt/米津玄師_Lemon_plus11.txt\n",
            "transpositon: + 0\n",
            "output text file name :  /content/drive/MyDrive/Colab_Notebooks/dev_Aug2021_pytorch_v4/train_txt/嵐_サクラ咲け_plus0.txt\n",
            "transpositon: + 1\n",
            "output text file name :  /content/drive/MyDrive/Colab_Notebooks/dev_Aug2021_pytorch_v4/train_txt/嵐_サクラ咲け_plus1.txt\n",
            "transpositon: + 2\n",
            "output text file name :  /content/drive/MyDrive/Colab_Notebooks/dev_Aug2021_pytorch_v4/train_txt/嵐_サクラ咲け_plus2.txt\n",
            "transpositon: + 3\n",
            "output text file name :  /content/drive/MyDrive/Colab_Notebooks/dev_Aug2021_pytorch_v4/train_txt/嵐_サクラ咲け_plus3.txt\n",
            "transpositon: + 4\n",
            "output text file name :  /content/drive/MyDrive/Colab_Notebooks/dev_Aug2021_pytorch_v4/train_txt/嵐_サクラ咲け_plus4.txt\n",
            "transpositon: + 5\n",
            "output text file name :  /content/drive/MyDrive/Colab_Notebooks/dev_Aug2021_pytorch_v4/train_txt/嵐_サクラ咲け_plus5.txt\n",
            "transpositon: + 6\n",
            "output text file name :  /content/drive/MyDrive/Colab_Notebooks/dev_Aug2021_pytorch_v4/train_txt/嵐_サクラ咲け_plus6.txt\n",
            "transpositon: + 7\n",
            "output text file name :  /content/drive/MyDrive/Colab_Notebooks/dev_Aug2021_pytorch_v4/train_txt/嵐_サクラ咲け_plus7.txt\n",
            "transpositon: + 8\n",
            "output text file name :  /content/drive/MyDrive/Colab_Notebooks/dev_Aug2021_pytorch_v4/train_txt/嵐_サクラ咲け_plus8.txt\n",
            "transpositon: + 9\n",
            "output text file name :  /content/drive/MyDrive/Colab_Notebooks/dev_Aug2021_pytorch_v4/train_txt/嵐_サクラ咲け_plus9.txt\n",
            "transpositon: + 10\n",
            "output text file name :  /content/drive/MyDrive/Colab_Notebooks/dev_Aug2021_pytorch_v4/train_txt/嵐_サクラ咲け_plus10.txt\n",
            "transpositon: + 11\n",
            "output text file name :  /content/drive/MyDrive/Colab_Notebooks/dev_Aug2021_pytorch_v4/train_txt/嵐_サクラ咲け_plus11.txt\n"
          ],
          "name": "stdout"
        }
      ]
    },
    {
      "cell_type": "markdown",
      "metadata": {
        "id": "-VO-yHCvIdMW"
      },
      "source": [
        "main.py"
      ]
    },
    {
      "cell_type": "code",
      "metadata": {
        "id": "6_S8zS6HvJiZ"
      },
      "source": [
        "#辞書を持っておくオブジェクト\n",
        "class EncoderDecoder(object):\n",
        "    def __init__(self):\n",
        "        # word_to_idの辞書\n",
        "        self.w2i = {}\n",
        "        # id_to_wordの辞書\n",
        "        self.i2w = {}\n",
        "\n",
        "    # コールされる関数\n",
        "    def __call__(self, sentence, maxlength=4000):\n",
        "        return self.transform(sentence, maxlength)\n",
        "\n",
        "    # 辞書作成\n",
        "    def make_dict(self, sentences):\n",
        "      for sentence in sentences:\n",
        "        if sentence not in self.w2i:\n",
        "          new_id = len(self.w2i)\n",
        "          self.w2i[sentence] = new_id\n",
        "          self.i2w[new_id] = sentence\n",
        "\n",
        "    # 読み込んだデータをまとめてidに変換する\n",
        "    def transform(self, sentences, maxlength=4000):\n",
        "        output = []\n",
        "        for sentence in sentences:\n",
        "            idx = self.w2i[sentence]\n",
        "            output.append(idx)\n",
        "        return output\n",
        "\n",
        "    # １文ずつ単語リストに直す\n",
        "    def decode(self, sentence):\n",
        "        return [self.i2w[id] for id in sentence if id != 0]"
      ],
      "execution_count": 45,
      "outputs": []
    },
    {
      "cell_type": "code",
      "metadata": {
        "colab": {
          "base_uri": "https://localhost:8080/"
        },
        "id": "e4Bn0VK6QmjB",
        "outputId": "c5d62bb2-19ab-4a84-b2e5-ffb906570618"
      },
      "source": [
        "#データの読み込み、準備\n",
        "#print(torch.__version__)\n",
        "#chunk の辞書化\n",
        "\n",
        "class MyDataset(object):\n",
        "  \"\"\"データを(時系列長, バッチサイズ)の形状で返す\"\"\"\n",
        "\n",
        "  def __init__(self, data, batch_size, bptt_len):\n",
        "    nbatch = data.size(0) // batch_size\n",
        "    data = data.narrow(0, 0, nbatch * batch_size)\n",
        "    self.data = data.view(batch_size, -1).t().contiguous()\n",
        "    self.batch_size = batch_size\n",
        "    self.bptt_len = bptt_len\n",
        "  @classmethod\n",
        "  def splits(cls, datasets, batch_size, bptt_len):\n",
        "    ret = []\n",
        "    for data in datasets:\n",
        "      ret.append(cls(data, batch_size, bptt_len))\n",
        "    return tuple(ret)\n",
        "\n",
        "  def __len__(self):\n",
        "    return math.ceil((len(self.data) - 1 ) / self.bptt_len)\n",
        "  \n",
        "  def __iter__(self):\n",
        "    for i in range(0, len(self.data) - 1, self.bptt_len):\n",
        "      seq_len = min(self.bptt_len, len(self.data) - 1 - i)\n",
        "      text = self.data[i:i + seq_len]\n",
        "      target = self.data[i + 1:i + 1 + seq_len]\n",
        "      yield text, target\n",
        "\n",
        "#データの準備\n",
        "inputTextList = Path(DIR+\"train_txt\").glob('**/*.txt')\n",
        "mididata = []\n",
        "maxlength = 0\n",
        "for inputText in inputTextList:\n",
        "  f = open(inputText, 'r')\n",
        "  texts = f.read()\n",
        "  text = texts.split(\",\")\n",
        "  text.pop(-1)\n",
        "  mididata = mididata + text\n",
        "  if len(mididata) > maxlength:\n",
        "    maxlength = len(text)\n",
        "#二次元配列[曲][ノート]にする\n",
        "encTool = EncoderDecoder()\n",
        "encTool.make_dict(mididata)\n",
        "data_id = encTool(mididata, maxlength=maxlength)\n",
        "data_size = len(data_id)\n",
        "train_ratio = 0.95\n",
        "val_ratio = 0.05\n",
        "train_size = math.floor(data_size * train_ratio)\n",
        "val_size = math.floor(data_size * val_ratio)\n",
        "train = torch.tensor(data_id[:train_size], dtype=torch.long, device=device)\n",
        "val = torch.tensor(data_id[train_size:train_size + val_size],\n",
        "                   dtype=torch.long, device=device)\n",
        "dummy_b = []\n",
        "test = torch.tensor(dummy_b,\n",
        "                    dtype=torch.long, device=device)\n",
        "train_iter, val_iter, test_iter = MyDataset.splits(\n",
        "    (train, val, test), BATCH_SIZE, BPTT_LEN)\n",
        "print(len(train), len(val), len(test))"
      ],
      "execution_count": 46,
      "outputs": [
        {
          "output_type": "stream",
          "text": [
            "203604 10716 0\n"
          ],
          "name": "stdout"
        }
      ]
    },
    {
      "cell_type": "code",
      "metadata": {
        "id": "3X07IyA7cXJ6"
      },
      "source": [
        "#ネットの定義\n",
        "class RNNLM(nn.Module):\n",
        "    def __init__(self, vocab_size, emb_dim, h_dim, dropout):\n",
        "        '''\n",
        "        vocab_size:語彙の数\n",
        "        emb_dim:埋め込みベクトルの次元\n",
        "        h_dim:隠れ層の次元\n",
        "        dropout: ドロップアウトの確率\n",
        "        '''\n",
        "        super(RNNLM, self).__init__()\n",
        "        self.embed = nn.Embedding(vocab_size, emb_dim)\n",
        "        self.drop1 = nn.Dropout(dropout)\n",
        "        self.lstm1 = nn.LSTM(emb_dim, h_dim)\n",
        "        self.drop2 = nn.Dropout(dropout)\n",
        "        self.lstm2 = nn.LSTM(h_dim, emb_dim)\n",
        "        self.drop3 = nn.Dropout(dropout)\n",
        "        self.linear = nn.Linear(emb_dim, vocab_size)\n",
        "\n",
        "        # 重みを初期化\n",
        "        #他にも色々方法はある https://pytorch.org/docs/stable/nn.init.html\n",
        "        nn.init.normal_(self.embed.weight, std=0.01)\n",
        "        nn.init.normal_(self.lstm1.weight_ih_l0, std=1/math.sqrt(emb_dim))\n",
        "        nn.init.normal_(self.lstm1.weight_hh_l0, std=1/math.sqrt(h_dim))\n",
        "        nn.init.zeros_(self.lstm1.bias_ih_l0)\n",
        "        nn.init.zeros_(self.lstm1.bias_hh_l0)\n",
        "        nn.init.normal_(self.lstm2.weight_ih_l0, std=1/math.sqrt(emb_dim))\n",
        "        nn.init.normal_(self.lstm2.weight_hh_l0, std=1/math.sqrt(h_dim))\n",
        "        nn.init.zeros_(self.lstm2.bias_ih_l0)\n",
        "        nn.init.zeros_(self.lstm2.bias_hh_l0)\n",
        "        self.linear.weight = self.embed.weight  # 重み共有\n",
        "        nn.init.zeros_(self.linear.bias)\n",
        "\n",
        "    def forward(self, sentence, hidden1_prev, hidden2_prev):\n",
        "        emb = self.embed(sentence)\n",
        "        emb = self.drop1(emb)\n",
        "        lstm1_out, hidden1_next = self.lstm1(emb, hidden1_prev)\n",
        "        lstm1_out = self.drop2(lstm1_out)\n",
        "        lstm2_out, hidden2_next = self.lstm2(lstm1_out, hidden2_prev)\n",
        "        lstm2_out = self.drop3(lstm2_out)\n",
        "        out = self.linear(lstm2_out)\n",
        "        #hidden_next:隠れ状態と記憶セルのセル状態を含んだタプル\n",
        "        return out, hidden1_next, hidden2_next"
      ],
      "execution_count": 47,
      "outputs": []
    },
    {
      "cell_type": "code",
      "metadata": {
        "colab": {
          "base_uri": "https://localhost:8080/",
          "height": 1000
        },
        "id": "7VymoqSZIXkU",
        "outputId": "559fdff9-866e-4aeb-f1aa-3095cc71f974"
      },
      "source": [
        "#device = torch.device(\"cpu\")\n",
        "VOCAB_SIZE = len(encTool.i2w)\n",
        "learning_rate = 20.0\n",
        "#モデル生成\n",
        "print('Build model...')\n",
        "model = RNNLM(VOCAB_SIZE, EMBEDDING_DIM, HIDDEN_DIM, DROPOUT).to(device)\n",
        "criterion = nn.CrossEntropyLoss()\n",
        "optimizer = optim.SGD(model.parameters(),\n",
        "                      lr=learning_rate)\n",
        "#optimizer = optim.Adam(model.parameters(),\n",
        "#                       lr=0.001,\n",
        "#                       betas=(0.9, 0.999), amsgrad=True)\n",
        "hist = {'train_loss': [], 'ppl':[]}\n",
        "\n",
        "def train_step(x, t, hidden1, hidden2):\n",
        "    optimizer.zero_grad() #勾配が累積されるのを防ぐ\n",
        "    preds, hidden1, hidden2 = model(x, hidden1, hidden2)\n",
        "    # 損失計算\n",
        "    loss = criterion(preds.view(-1, VOCAB_SIZE), t.view(-1))\n",
        "    loss.backward()\n",
        "    #勾配クリッピング\n",
        "    nn.utils.clip_grad_norm_(model.parameters(), max_norm)\n",
        "    optimizer.step() #パラメータ更新\n",
        "    # 隠れ状態の計算グラフを消去\n",
        "    hidden1 = tuple(h.detach() for h in hidden1)\n",
        "    hidden2 = tuple(h.detach() for h in hidden2)\n",
        "\n",
        "    return loss, preds\n",
        "\n",
        "def eval_perplexity(model, iterator):\n",
        "    total_loss = 0\n",
        "    hidden1, hidden2 = None, None\n",
        "    model.eval()\n",
        "    with torch.no_grad():\n",
        "      for input, target in iterator:\n",
        "        output, hidden1, hidden2 = model(input, hidden1, hidden2)\n",
        "        loss = F.cross_entropy(output.view(-1, VOCAB_SIZE), target.view(-1))\n",
        "        total_loss += loss.item()\n",
        "    \n",
        "    ppl = math.exp(total_loss / len(iterator))\n",
        "    return ppl\n",
        "\n",
        "best_ppl = float('inf')\n",
        "ppl_list = []\n",
        "for epoch in tqdm(range(epochs)):\n",
        "    model.train() #モデルを訓練モードに\n",
        "    train_loss = 0.\n",
        "    loss_count = 0\n",
        "    hidden1, hidden2 = None, None\n",
        "    for i, iters in enumerate(train_iter):\n",
        "        x, t = iters\n",
        "        x, t = x.to(device), t.to(device)\n",
        "        optimizer.zero_grad() #勾配が累積されるのを防ぐ\n",
        "        preds, hidden1, hidden2 = model(x, hidden1, hidden2)\n",
        "        #  損失計算\n",
        "        loss = criterion(preds.view(-1, VOCAB_SIZE), t.view(-1))\n",
        "        loss.backward()\n",
        "        #勾配クリッピング\n",
        "        nn.utils.clip_grad_norm_(model.parameters(), max_norm)\n",
        "        optimizer.step() #パラメータ更新\n",
        "        # 隠れ状態の計算グラフを消去\n",
        "        hidden1 = tuple(h.detach() for h in hidden1)\n",
        "        hidden2 = tuple(h.detach() for h in hidden2)\n",
        "        train_loss += loss.item()\n",
        "        loss_count += 1\n",
        "    # perplexity\n",
        "    ppl = np.exp(train_loss / loss_count)    \n",
        "    ppl_list.append(ppl)\n",
        "    #出力を見る\n",
        "    \n",
        "    # 検証データで評価\n",
        "    val_ppl = eval_perplexity(model, val_iter)\n",
        "    print(f'| epoch {epoch+1} : valid perplexity {val_ppl:.2f} |')\n",
        "    if val_ppl < best_ppl:\n",
        "      best_ppl = val_ppl\n",
        "      model_name = OUTPUT_MODEL_DIR + \"batch{}_bptt{}_hid{}_emb{}_epoch{}.pt\".format(BATCH_SIZE, BPTT_LEN, HIDDEN_DIM, EMBEDDING_DIM, epoch)\n",
        "      torch.save(model.state_dict(), model_name)\n",
        "    else:\n",
        "      learning_rate /= 4.0\n",
        "      for group in optimizer.param_groups:\n",
        "        group['lr'] = learning_rate\n",
        "\n",
        "torch.save(model.state_dict(), OUTPUT_MODEL_DIR+\"batch{}_bptt{}_hid{}_emb{}_epoch{}.pt\".format(BATCH_SIZE, BPTT_LEN, HIDDEN_DIM, EMBEDDING_DIM, epoch))\n",
        "\n",
        "#perplexity の確認\n",
        "plt.plot(ppl_list)\n",
        "plt.ylim((0, 100))\n",
        "plt.xlabel('iterations')\n",
        "plt.ylabel('perplexity')\n",
        "plt.title('train perplexity')\n",
        "plt.show()"
      ],
      "execution_count": 48,
      "outputs": [
        {
          "output_type": "stream",
          "text": [
            "Build model...\n"
          ],
          "name": "stdout"
        },
        {
          "output_type": "stream",
          "text": [
            "  0%|          | 1/300 [00:04<21:47,  4.37s/it]"
          ],
          "name": "stderr"
        },
        {
          "output_type": "stream",
          "text": [
            "Saving the checkpoint...\n",
            "| epoch 1 : valid perplexity 4088.57 |\n"
          ],
          "name": "stdout"
        },
        {
          "output_type": "stream",
          "text": [
            "\r  1%|          | 2/300 [00:08<21:24,  4.31s/it]"
          ],
          "name": "stderr"
        },
        {
          "output_type": "stream",
          "text": [
            "| epoch 2 : valid perplexity 3996.29 |\n"
          ],
          "name": "stdout"
        },
        {
          "output_type": "stream",
          "text": [
            "\r  1%|          | 3/300 [00:12<21:14,  4.29s/it]"
          ],
          "name": "stderr"
        },
        {
          "output_type": "stream",
          "text": [
            "| epoch 3 : valid perplexity 2904.29 |\n"
          ],
          "name": "stdout"
        },
        {
          "output_type": "stream",
          "text": [
            "\r  1%|▏         | 4/300 [00:17<21:06,  4.28s/it]"
          ],
          "name": "stderr"
        },
        {
          "output_type": "stream",
          "text": [
            "| epoch 4 : valid perplexity 1991.83 |\n"
          ],
          "name": "stdout"
        },
        {
          "output_type": "stream",
          "text": [
            "\r  2%|▏         | 5/300 [00:21<21:01,  4.27s/it]"
          ],
          "name": "stderr"
        },
        {
          "output_type": "stream",
          "text": [
            "| epoch 5 : valid perplexity 1422.19 |\n"
          ],
          "name": "stdout"
        },
        {
          "output_type": "stream",
          "text": [
            "\r  2%|▏         | 6/300 [00:25<20:58,  4.28s/it]"
          ],
          "name": "stderr"
        },
        {
          "output_type": "stream",
          "text": [
            "| epoch 6 : valid perplexity 1127.07 |\n"
          ],
          "name": "stdout"
        },
        {
          "output_type": "stream",
          "text": [
            "\r  2%|▏         | 7/300 [00:29<20:52,  4.27s/it]"
          ],
          "name": "stderr"
        },
        {
          "output_type": "stream",
          "text": [
            "| epoch 7 : valid perplexity 948.81 |\n"
          ],
          "name": "stdout"
        },
        {
          "output_type": "stream",
          "text": [
            "\r  3%|▎         | 8/300 [00:34<20:46,  4.27s/it]"
          ],
          "name": "stderr"
        },
        {
          "output_type": "stream",
          "text": [
            "| epoch 8 : valid perplexity 861.91 |\n"
          ],
          "name": "stdout"
        },
        {
          "output_type": "stream",
          "text": [
            "\r  3%|▎         | 9/300 [00:38<20:43,  4.27s/it]"
          ],
          "name": "stderr"
        },
        {
          "output_type": "stream",
          "text": [
            "| epoch 9 : valid perplexity 759.65 |\n"
          ],
          "name": "stdout"
        },
        {
          "output_type": "stream",
          "text": [
            "\r  3%|▎         | 10/300 [00:42<20:38,  4.27s/it]"
          ],
          "name": "stderr"
        },
        {
          "output_type": "stream",
          "text": [
            "| epoch 10 : valid perplexity 754.74 |\n"
          ],
          "name": "stdout"
        },
        {
          "output_type": "stream",
          "text": [
            "\r  4%|▎         | 11/300 [00:47<20:33,  4.27s/it]"
          ],
          "name": "stderr"
        },
        {
          "output_type": "stream",
          "text": [
            "| epoch 11 : valid perplexity 659.70 |\n"
          ],
          "name": "stdout"
        },
        {
          "output_type": "stream",
          "text": [
            "\r  4%|▍         | 12/300 [00:51<20:29,  4.27s/it]"
          ],
          "name": "stderr"
        },
        {
          "output_type": "stream",
          "text": [
            "| epoch 12 : valid perplexity 623.74 |\n"
          ],
          "name": "stdout"
        },
        {
          "output_type": "stream",
          "text": [
            "\r  4%|▍         | 13/300 [00:55<20:27,  4.28s/it]"
          ],
          "name": "stderr"
        },
        {
          "output_type": "stream",
          "text": [
            "| epoch 13 : valid perplexity 542.66 |\n"
          ],
          "name": "stdout"
        },
        {
          "output_type": "stream",
          "text": [
            "\r  5%|▍         | 14/300 [00:59<20:21,  4.27s/it]"
          ],
          "name": "stderr"
        },
        {
          "output_type": "stream",
          "text": [
            "| epoch 14 : valid perplexity 494.98 |\n"
          ],
          "name": "stdout"
        },
        {
          "output_type": "stream",
          "text": [
            "\r  5%|▌         | 15/300 [01:04<20:17,  4.27s/it]"
          ],
          "name": "stderr"
        },
        {
          "output_type": "stream",
          "text": [
            "| epoch 15 : valid perplexity 458.06 |\n"
          ],
          "name": "stdout"
        },
        {
          "output_type": "stream",
          "text": [
            "\r  5%|▌         | 16/300 [01:08<20:13,  4.27s/it]"
          ],
          "name": "stderr"
        },
        {
          "output_type": "stream",
          "text": [
            "| epoch 16 : valid perplexity 389.92 |\n"
          ],
          "name": "stdout"
        },
        {
          "output_type": "stream",
          "text": [
            "\r  6%|▌         | 17/300 [01:12<20:08,  4.27s/it]"
          ],
          "name": "stderr"
        },
        {
          "output_type": "stream",
          "text": [
            "| epoch 17 : valid perplexity 369.39 |\n"
          ],
          "name": "stdout"
        },
        {
          "output_type": "stream",
          "text": [
            "\r  6%|▌         | 18/300 [01:16<20:04,  4.27s/it]"
          ],
          "name": "stderr"
        },
        {
          "output_type": "stream",
          "text": [
            "| epoch 18 : valid perplexity 361.54 |\n"
          ],
          "name": "stdout"
        },
        {
          "output_type": "stream",
          "text": [
            "\r  6%|▋         | 19/300 [01:21<19:59,  4.27s/it]"
          ],
          "name": "stderr"
        },
        {
          "output_type": "stream",
          "text": [
            "| epoch 19 : valid perplexity 313.82 |\n"
          ],
          "name": "stdout"
        },
        {
          "output_type": "stream",
          "text": [
            "\r  7%|▋         | 20/300 [01:25<19:56,  4.27s/it]"
          ],
          "name": "stderr"
        },
        {
          "output_type": "stream",
          "text": [
            "| epoch 20 : valid perplexity 326.54 |\n"
          ],
          "name": "stdout"
        },
        {
          "output_type": "stream",
          "text": [
            "\r  7%|▋         | 21/300 [01:29<19:59,  4.30s/it]"
          ],
          "name": "stderr"
        },
        {
          "output_type": "stream",
          "text": [
            "Saving the checkpoint...\n",
            "| epoch 21 : valid perplexity 295.04 |\n"
          ],
          "name": "stdout"
        },
        {
          "output_type": "stream",
          "text": [
            "\r  7%|▋         | 22/300 [01:34<19:52,  4.29s/it]"
          ],
          "name": "stderr"
        },
        {
          "output_type": "stream",
          "text": [
            "| epoch 22 : valid perplexity 291.41 |\n"
          ],
          "name": "stdout"
        },
        {
          "output_type": "stream",
          "text": [
            "\r  8%|▊         | 23/300 [01:38<19:47,  4.29s/it]"
          ],
          "name": "stderr"
        },
        {
          "output_type": "stream",
          "text": [
            "| epoch 23 : valid perplexity 285.24 |\n"
          ],
          "name": "stdout"
        },
        {
          "output_type": "stream",
          "text": [
            "\r  8%|▊         | 24/300 [01:42<19:42,  4.28s/it]"
          ],
          "name": "stderr"
        },
        {
          "output_type": "stream",
          "text": [
            "| epoch 24 : valid perplexity 283.95 |\n"
          ],
          "name": "stdout"
        },
        {
          "output_type": "stream",
          "text": [
            "\r  8%|▊         | 25/300 [01:46<19:35,  4.28s/it]"
          ],
          "name": "stderr"
        },
        {
          "output_type": "stream",
          "text": [
            "| epoch 25 : valid perplexity 274.86 |\n"
          ],
          "name": "stdout"
        },
        {
          "output_type": "stream",
          "text": [
            "\r  9%|▊         | 26/300 [01:51<19:30,  4.27s/it]"
          ],
          "name": "stderr"
        },
        {
          "output_type": "stream",
          "text": [
            "| epoch 26 : valid perplexity 277.31 |\n"
          ],
          "name": "stdout"
        },
        {
          "output_type": "stream",
          "text": [
            "\r  9%|▉         | 27/300 [01:55<19:27,  4.28s/it]"
          ],
          "name": "stderr"
        },
        {
          "output_type": "stream",
          "text": [
            "| epoch 27 : valid perplexity 252.96 |\n"
          ],
          "name": "stdout"
        },
        {
          "output_type": "stream",
          "text": [
            "\r  9%|▉         | 28/300 [01:59<19:22,  4.27s/it]"
          ],
          "name": "stderr"
        },
        {
          "output_type": "stream",
          "text": [
            "| epoch 28 : valid perplexity 251.47 |\n"
          ],
          "name": "stdout"
        },
        {
          "output_type": "stream",
          "text": [
            "\r 10%|▉         | 29/300 [02:04<19:17,  4.27s/it]"
          ],
          "name": "stderr"
        },
        {
          "output_type": "stream",
          "text": [
            "| epoch 29 : valid perplexity 250.96 |\n"
          ],
          "name": "stdout"
        },
        {
          "output_type": "stream",
          "text": [
            "\r 10%|█         | 30/300 [02:08<19:14,  4.27s/it]"
          ],
          "name": "stderr"
        },
        {
          "output_type": "stream",
          "text": [
            "| epoch 30 : valid perplexity 251.69 |\n"
          ],
          "name": "stdout"
        },
        {
          "output_type": "stream",
          "text": [
            "\r 10%|█         | 31/300 [02:12<19:09,  4.27s/it]"
          ],
          "name": "stderr"
        },
        {
          "output_type": "stream",
          "text": [
            "| epoch 31 : valid perplexity 249.77 |\n"
          ],
          "name": "stdout"
        },
        {
          "output_type": "stream",
          "text": [
            "\r 11%|█         | 32/300 [02:16<19:04,  4.27s/it]"
          ],
          "name": "stderr"
        },
        {
          "output_type": "stream",
          "text": [
            "| epoch 32 : valid perplexity 251.10 |\n"
          ],
          "name": "stdout"
        },
        {
          "output_type": "stream",
          "text": [
            "\r 11%|█         | 33/300 [02:21<19:00,  4.27s/it]"
          ],
          "name": "stderr"
        },
        {
          "output_type": "stream",
          "text": [
            "| epoch 33 : valid perplexity 251.35 |\n"
          ],
          "name": "stdout"
        },
        {
          "output_type": "stream",
          "text": [
            "\r 11%|█▏        | 34/300 [02:25<18:57,  4.28s/it]"
          ],
          "name": "stderr"
        },
        {
          "output_type": "stream",
          "text": [
            "| epoch 34 : valid perplexity 251.42 |\n"
          ],
          "name": "stdout"
        },
        {
          "output_type": "stream",
          "text": [
            "\r 12%|█▏        | 35/300 [02:29<18:51,  4.27s/it]"
          ],
          "name": "stderr"
        },
        {
          "output_type": "stream",
          "text": [
            "| epoch 35 : valid perplexity 251.43 |\n"
          ],
          "name": "stdout"
        },
        {
          "output_type": "stream",
          "text": [
            "\r 12%|█▏        | 36/300 [02:33<18:46,  4.27s/it]"
          ],
          "name": "stderr"
        },
        {
          "output_type": "stream",
          "text": [
            "| epoch 36 : valid perplexity 251.44 |\n"
          ],
          "name": "stdout"
        },
        {
          "output_type": "stream",
          "text": [
            "\r 12%|█▏        | 37/300 [02:38<18:43,  4.27s/it]"
          ],
          "name": "stderr"
        },
        {
          "output_type": "stream",
          "text": [
            "| epoch 37 : valid perplexity 251.44 |\n"
          ],
          "name": "stdout"
        },
        {
          "output_type": "stream",
          "text": [
            "\r 13%|█▎        | 38/300 [02:42<18:39,  4.27s/it]"
          ],
          "name": "stderr"
        },
        {
          "output_type": "stream",
          "text": [
            "| epoch 38 : valid perplexity 251.44 |\n"
          ],
          "name": "stdout"
        },
        {
          "output_type": "stream",
          "text": [
            "\r 13%|█▎        | 39/300 [02:46<18:34,  4.27s/it]"
          ],
          "name": "stderr"
        },
        {
          "output_type": "stream",
          "text": [
            "| epoch 39 : valid perplexity 251.44 |\n"
          ],
          "name": "stdout"
        },
        {
          "output_type": "stream",
          "text": [
            "\r 13%|█▎        | 40/300 [02:51<18:30,  4.27s/it]"
          ],
          "name": "stderr"
        },
        {
          "output_type": "stream",
          "text": [
            "| epoch 40 : valid perplexity 251.44 |\n"
          ],
          "name": "stdout"
        },
        {
          "output_type": "stream",
          "text": [
            "\r 14%|█▎        | 41/300 [02:55<18:35,  4.31s/it]"
          ],
          "name": "stderr"
        },
        {
          "output_type": "stream",
          "text": [
            "Saving the checkpoint...\n",
            "| epoch 41 : valid perplexity 251.44 |\n"
          ],
          "name": "stdout"
        },
        {
          "output_type": "stream",
          "text": [
            "\r 14%|█▍        | 42/300 [02:59<18:26,  4.29s/it]"
          ],
          "name": "stderr"
        },
        {
          "output_type": "stream",
          "text": [
            "| epoch 42 : valid perplexity 251.44 |\n"
          ],
          "name": "stdout"
        },
        {
          "output_type": "stream",
          "text": [
            "\r 14%|█▍        | 43/300 [03:03<18:20,  4.28s/it]"
          ],
          "name": "stderr"
        },
        {
          "output_type": "stream",
          "text": [
            "| epoch 43 : valid perplexity 251.44 |\n"
          ],
          "name": "stdout"
        },
        {
          "output_type": "stream",
          "text": [
            "\r 15%|█▍        | 44/300 [03:08<18:15,  4.28s/it]"
          ],
          "name": "stderr"
        },
        {
          "output_type": "stream",
          "text": [
            "| epoch 44 : valid perplexity 251.44 |\n"
          ],
          "name": "stdout"
        },
        {
          "output_type": "stream",
          "text": [
            "\r 15%|█▌        | 45/300 [03:12<18:10,  4.28s/it]"
          ],
          "name": "stderr"
        },
        {
          "output_type": "stream",
          "text": [
            "| epoch 45 : valid perplexity 251.44 |\n"
          ],
          "name": "stdout"
        },
        {
          "output_type": "stream",
          "text": [
            "\r 15%|█▌        | 46/300 [03:16<18:05,  4.27s/it]"
          ],
          "name": "stderr"
        },
        {
          "output_type": "stream",
          "text": [
            "| epoch 46 : valid perplexity 251.44 |\n"
          ],
          "name": "stdout"
        },
        {
          "output_type": "stream",
          "text": [
            "\r 16%|█▌        | 47/300 [03:21<18:00,  4.27s/it]"
          ],
          "name": "stderr"
        },
        {
          "output_type": "stream",
          "text": [
            "| epoch 47 : valid perplexity 251.44 |\n"
          ],
          "name": "stdout"
        },
        {
          "output_type": "stream",
          "text": [
            "\r 16%|█▌        | 48/300 [03:25<17:57,  4.28s/it]"
          ],
          "name": "stderr"
        },
        {
          "output_type": "stream",
          "text": [
            "| epoch 48 : valid perplexity 251.44 |\n"
          ],
          "name": "stdout"
        },
        {
          "output_type": "stream",
          "text": [
            "\r 16%|█▋        | 49/300 [03:29<17:51,  4.27s/it]"
          ],
          "name": "stderr"
        },
        {
          "output_type": "stream",
          "text": [
            "| epoch 49 : valid perplexity 251.44 |\n"
          ],
          "name": "stdout"
        },
        {
          "output_type": "stream",
          "text": [
            "\r 17%|█▋        | 50/300 [03:33<17:47,  4.27s/it]"
          ],
          "name": "stderr"
        },
        {
          "output_type": "stream",
          "text": [
            "| epoch 50 : valid perplexity 251.44 |\n"
          ],
          "name": "stdout"
        },
        {
          "output_type": "stream",
          "text": [
            "\r 17%|█▋        | 51/300 [03:38<17:43,  4.27s/it]"
          ],
          "name": "stderr"
        },
        {
          "output_type": "stream",
          "text": [
            "| epoch 51 : valid perplexity 251.44 |\n"
          ],
          "name": "stdout"
        },
        {
          "output_type": "stream",
          "text": [
            "\r 17%|█▋        | 52/300 [03:42<17:39,  4.27s/it]"
          ],
          "name": "stderr"
        },
        {
          "output_type": "stream",
          "text": [
            "| epoch 52 : valid perplexity 251.44 |\n"
          ],
          "name": "stdout"
        },
        {
          "output_type": "stream",
          "text": [
            "\r 18%|█▊        | 53/300 [03:46<17:34,  4.27s/it]"
          ],
          "name": "stderr"
        },
        {
          "output_type": "stream",
          "text": [
            "| epoch 53 : valid perplexity 251.44 |\n"
          ],
          "name": "stdout"
        },
        {
          "output_type": "stream",
          "text": [
            "\r 18%|█▊        | 54/300 [03:50<17:30,  4.27s/it]"
          ],
          "name": "stderr"
        },
        {
          "output_type": "stream",
          "text": [
            "| epoch 54 : valid perplexity 251.44 |\n"
          ],
          "name": "stdout"
        },
        {
          "output_type": "stream",
          "text": [
            "\r 18%|█▊        | 55/300 [03:55<17:27,  4.28s/it]"
          ],
          "name": "stderr"
        },
        {
          "output_type": "stream",
          "text": [
            "| epoch 55 : valid perplexity 251.44 |\n"
          ],
          "name": "stdout"
        },
        {
          "output_type": "stream",
          "text": [
            "\r 19%|█▊        | 56/300 [03:59<17:21,  4.27s/it]"
          ],
          "name": "stderr"
        },
        {
          "output_type": "stream",
          "text": [
            "| epoch 56 : valid perplexity 251.44 |\n"
          ],
          "name": "stdout"
        },
        {
          "output_type": "stream",
          "text": [
            "\r 19%|█▉        | 57/300 [04:03<17:16,  4.27s/it]"
          ],
          "name": "stderr"
        },
        {
          "output_type": "stream",
          "text": [
            "| epoch 57 : valid perplexity 251.44 |\n"
          ],
          "name": "stdout"
        },
        {
          "output_type": "stream",
          "text": [
            "\r 19%|█▉        | 58/300 [04:07<17:13,  4.27s/it]"
          ],
          "name": "stderr"
        },
        {
          "output_type": "stream",
          "text": [
            "| epoch 58 : valid perplexity 251.44 |\n"
          ],
          "name": "stdout"
        },
        {
          "output_type": "stream",
          "text": [
            "\r 20%|█▉        | 59/300 [04:12<17:09,  4.27s/it]"
          ],
          "name": "stderr"
        },
        {
          "output_type": "stream",
          "text": [
            "| epoch 59 : valid perplexity 251.44 |\n"
          ],
          "name": "stdout"
        },
        {
          "output_type": "stream",
          "text": [
            "\r 20%|██        | 60/300 [04:16<17:04,  4.27s/it]"
          ],
          "name": "stderr"
        },
        {
          "output_type": "stream",
          "text": [
            "| epoch 60 : valid perplexity 251.44 |\n"
          ],
          "name": "stdout"
        },
        {
          "output_type": "stream",
          "text": [
            "\r 20%|██        | 61/300 [04:20<17:07,  4.30s/it]"
          ],
          "name": "stderr"
        },
        {
          "output_type": "stream",
          "text": [
            "Saving the checkpoint...\n",
            "| epoch 61 : valid perplexity 251.44 |\n"
          ],
          "name": "stdout"
        },
        {
          "output_type": "stream",
          "text": [
            "\r 21%|██        | 62/300 [04:25<17:02,  4.30s/it]"
          ],
          "name": "stderr"
        },
        {
          "output_type": "stream",
          "text": [
            "| epoch 62 : valid perplexity 251.44 |\n"
          ],
          "name": "stdout"
        },
        {
          "output_type": "stream",
          "text": [
            "\r 21%|██        | 63/300 [04:29<16:55,  4.28s/it]"
          ],
          "name": "stderr"
        },
        {
          "output_type": "stream",
          "text": [
            "| epoch 63 : valid perplexity 251.44 |\n"
          ],
          "name": "stdout"
        },
        {
          "output_type": "stream",
          "text": [
            "\r 21%|██▏       | 64/300 [04:33<16:49,  4.28s/it]"
          ],
          "name": "stderr"
        },
        {
          "output_type": "stream",
          "text": [
            "| epoch 64 : valid perplexity 251.44 |\n"
          ],
          "name": "stdout"
        },
        {
          "output_type": "stream",
          "text": [
            "\r 22%|██▏       | 65/300 [04:37<16:45,  4.28s/it]"
          ],
          "name": "stderr"
        },
        {
          "output_type": "stream",
          "text": [
            "| epoch 65 : valid perplexity 251.44 |\n"
          ],
          "name": "stdout"
        },
        {
          "output_type": "stream",
          "text": [
            "\r 22%|██▏       | 66/300 [04:42<16:40,  4.28s/it]"
          ],
          "name": "stderr"
        },
        {
          "output_type": "stream",
          "text": [
            "| epoch 66 : valid perplexity 251.44 |\n"
          ],
          "name": "stdout"
        },
        {
          "output_type": "stream",
          "text": [
            "\r 22%|██▏       | 67/300 [04:46<16:35,  4.27s/it]"
          ],
          "name": "stderr"
        },
        {
          "output_type": "stream",
          "text": [
            "| epoch 67 : valid perplexity 251.44 |\n"
          ],
          "name": "stdout"
        },
        {
          "output_type": "stream",
          "text": [
            "\r 23%|██▎       | 68/300 [04:50<16:30,  4.27s/it]"
          ],
          "name": "stderr"
        },
        {
          "output_type": "stream",
          "text": [
            "| epoch 68 : valid perplexity 251.44 |\n"
          ],
          "name": "stdout"
        },
        {
          "output_type": "stream",
          "text": [
            "\r 23%|██▎       | 69/300 [04:55<16:27,  4.28s/it]"
          ],
          "name": "stderr"
        },
        {
          "output_type": "stream",
          "text": [
            "| epoch 69 : valid perplexity 251.44 |\n"
          ],
          "name": "stdout"
        },
        {
          "output_type": "stream",
          "text": [
            "\r 23%|██▎       | 70/300 [04:59<16:22,  4.27s/it]"
          ],
          "name": "stderr"
        },
        {
          "output_type": "stream",
          "text": [
            "| epoch 70 : valid perplexity 251.44 |\n"
          ],
          "name": "stdout"
        },
        {
          "output_type": "stream",
          "text": [
            "\r 24%|██▎       | 71/300 [05:03<16:17,  4.27s/it]"
          ],
          "name": "stderr"
        },
        {
          "output_type": "stream",
          "text": [
            "| epoch 71 : valid perplexity 251.44 |\n"
          ],
          "name": "stdout"
        },
        {
          "output_type": "stream",
          "text": [
            "\r 24%|██▍       | 72/300 [05:07<16:13,  4.27s/it]"
          ],
          "name": "stderr"
        },
        {
          "output_type": "stream",
          "text": [
            "| epoch 72 : valid perplexity 251.44 |\n"
          ],
          "name": "stdout"
        },
        {
          "output_type": "stream",
          "text": [
            "\r 24%|██▍       | 73/300 [05:12<16:09,  4.27s/it]"
          ],
          "name": "stderr"
        },
        {
          "output_type": "stream",
          "text": [
            "| epoch 73 : valid perplexity 251.44 |\n"
          ],
          "name": "stdout"
        },
        {
          "output_type": "stream",
          "text": [
            "\r 25%|██▍       | 74/300 [05:16<16:04,  4.27s/it]"
          ],
          "name": "stderr"
        },
        {
          "output_type": "stream",
          "text": [
            "| epoch 74 : valid perplexity 251.44 |\n"
          ],
          "name": "stdout"
        },
        {
          "output_type": "stream",
          "text": [
            "\r 25%|██▌       | 75/300 [05:20<16:00,  4.27s/it]"
          ],
          "name": "stderr"
        },
        {
          "output_type": "stream",
          "text": [
            "| epoch 75 : valid perplexity 251.44 |\n"
          ],
          "name": "stdout"
        },
        {
          "output_type": "stream",
          "text": [
            "\r 25%|██▌       | 76/300 [05:24<15:57,  4.27s/it]"
          ],
          "name": "stderr"
        },
        {
          "output_type": "stream",
          "text": [
            "| epoch 76 : valid perplexity 251.44 |\n"
          ],
          "name": "stdout"
        },
        {
          "output_type": "stream",
          "text": [
            "\r 26%|██▌       | 77/300 [05:29<15:52,  4.27s/it]"
          ],
          "name": "stderr"
        },
        {
          "output_type": "stream",
          "text": [
            "| epoch 77 : valid perplexity 251.44 |\n"
          ],
          "name": "stdout"
        },
        {
          "output_type": "stream",
          "text": [
            "\r 26%|██▌       | 78/300 [05:33<15:47,  4.27s/it]"
          ],
          "name": "stderr"
        },
        {
          "output_type": "stream",
          "text": [
            "| epoch 78 : valid perplexity 251.44 |\n"
          ],
          "name": "stdout"
        },
        {
          "output_type": "stream",
          "text": [
            "\r 26%|██▋       | 79/300 [05:37<15:43,  4.27s/it]"
          ],
          "name": "stderr"
        },
        {
          "output_type": "stream",
          "text": [
            "| epoch 79 : valid perplexity 251.44 |\n"
          ],
          "name": "stdout"
        },
        {
          "output_type": "stream",
          "text": [
            "\r 27%|██▋       | 80/300 [05:42<15:39,  4.27s/it]"
          ],
          "name": "stderr"
        },
        {
          "output_type": "stream",
          "text": [
            "| epoch 80 : valid perplexity 251.44 |\n"
          ],
          "name": "stdout"
        },
        {
          "output_type": "stream",
          "text": [
            "\r 27%|██▋       | 81/300 [05:46<15:41,  4.30s/it]"
          ],
          "name": "stderr"
        },
        {
          "output_type": "stream",
          "text": [
            "Saving the checkpoint...\n",
            "| epoch 81 : valid perplexity 251.44 |\n"
          ],
          "name": "stdout"
        },
        {
          "output_type": "stream",
          "text": [
            "\r 27%|██▋       | 82/300 [05:50<15:35,  4.29s/it]"
          ],
          "name": "stderr"
        },
        {
          "output_type": "stream",
          "text": [
            "| epoch 82 : valid perplexity 251.44 |\n"
          ],
          "name": "stdout"
        },
        {
          "output_type": "stream",
          "text": [
            "\r 28%|██▊       | 83/300 [05:54<15:30,  4.29s/it]"
          ],
          "name": "stderr"
        },
        {
          "output_type": "stream",
          "text": [
            "| epoch 83 : valid perplexity 251.44 |\n"
          ],
          "name": "stdout"
        },
        {
          "output_type": "stream",
          "text": [
            "\r 28%|██▊       | 84/300 [05:59<15:24,  4.28s/it]"
          ],
          "name": "stderr"
        },
        {
          "output_type": "stream",
          "text": [
            "| epoch 84 : valid perplexity 251.44 |\n"
          ],
          "name": "stdout"
        },
        {
          "output_type": "stream",
          "text": [
            "\r 28%|██▊       | 85/300 [06:03<15:19,  4.28s/it]"
          ],
          "name": "stderr"
        },
        {
          "output_type": "stream",
          "text": [
            "| epoch 85 : valid perplexity 251.44 |\n"
          ],
          "name": "stdout"
        },
        {
          "output_type": "stream",
          "text": [
            "\r 29%|██▊       | 86/300 [06:07<15:15,  4.28s/it]"
          ],
          "name": "stderr"
        },
        {
          "output_type": "stream",
          "text": [
            "| epoch 86 : valid perplexity 251.44 |\n"
          ],
          "name": "stdout"
        },
        {
          "output_type": "stream",
          "text": [
            "\r 29%|██▉       | 87/300 [06:12<15:10,  4.27s/it]"
          ],
          "name": "stderr"
        },
        {
          "output_type": "stream",
          "text": [
            "| epoch 87 : valid perplexity 251.44 |\n"
          ],
          "name": "stdout"
        },
        {
          "output_type": "stream",
          "text": [
            "\r 29%|██▉       | 88/300 [06:16<15:05,  4.27s/it]"
          ],
          "name": "stderr"
        },
        {
          "output_type": "stream",
          "text": [
            "| epoch 88 : valid perplexity 251.44 |\n"
          ],
          "name": "stdout"
        },
        {
          "output_type": "stream",
          "text": [
            "\r 30%|██▉       | 89/300 [06:20<15:01,  4.27s/it]"
          ],
          "name": "stderr"
        },
        {
          "output_type": "stream",
          "text": [
            "| epoch 89 : valid perplexity 251.44 |\n"
          ],
          "name": "stdout"
        },
        {
          "output_type": "stream",
          "text": [
            "\r 30%|███       | 90/300 [06:24<14:58,  4.28s/it]"
          ],
          "name": "stderr"
        },
        {
          "output_type": "stream",
          "text": [
            "| epoch 90 : valid perplexity 251.44 |\n"
          ],
          "name": "stdout"
        },
        {
          "output_type": "stream",
          "text": [
            "\r 30%|███       | 91/300 [06:29<14:52,  4.27s/it]"
          ],
          "name": "stderr"
        },
        {
          "output_type": "stream",
          "text": [
            "| epoch 91 : valid perplexity 251.44 |\n"
          ],
          "name": "stdout"
        },
        {
          "output_type": "stream",
          "text": [
            "\r 31%|███       | 92/300 [06:33<14:48,  4.27s/it]"
          ],
          "name": "stderr"
        },
        {
          "output_type": "stream",
          "text": [
            "| epoch 92 : valid perplexity 251.44 |\n"
          ],
          "name": "stdout"
        },
        {
          "output_type": "stream",
          "text": [
            "\r 31%|███       | 93/300 [06:37<14:44,  4.27s/it]"
          ],
          "name": "stderr"
        },
        {
          "output_type": "stream",
          "text": [
            "| epoch 93 : valid perplexity 251.44 |\n"
          ],
          "name": "stdout"
        },
        {
          "output_type": "stream",
          "text": [
            "\r 31%|███▏      | 94/300 [06:41<14:40,  4.27s/it]"
          ],
          "name": "stderr"
        },
        {
          "output_type": "stream",
          "text": [
            "| epoch 94 : valid perplexity 251.44 |\n"
          ],
          "name": "stdout"
        },
        {
          "output_type": "stream",
          "text": [
            "\r 32%|███▏      | 95/300 [06:46<14:35,  4.27s/it]"
          ],
          "name": "stderr"
        },
        {
          "output_type": "stream",
          "text": [
            "| epoch 95 : valid perplexity 251.44 |\n"
          ],
          "name": "stdout"
        },
        {
          "output_type": "stream",
          "text": [
            "\r 32%|███▏      | 96/300 [06:50<14:30,  4.27s/it]"
          ],
          "name": "stderr"
        },
        {
          "output_type": "stream",
          "text": [
            "| epoch 96 : valid perplexity 251.44 |\n"
          ],
          "name": "stdout"
        },
        {
          "output_type": "stream",
          "text": [
            "\r 32%|███▏      | 97/300 [06:54<14:27,  4.27s/it]"
          ],
          "name": "stderr"
        },
        {
          "output_type": "stream",
          "text": [
            "| epoch 97 : valid perplexity 251.44 |\n"
          ],
          "name": "stdout"
        },
        {
          "output_type": "stream",
          "text": [
            "\r 33%|███▎      | 98/300 [06:59<14:22,  4.27s/it]"
          ],
          "name": "stderr"
        },
        {
          "output_type": "stream",
          "text": [
            "| epoch 98 : valid perplexity 251.44 |\n"
          ],
          "name": "stdout"
        },
        {
          "output_type": "stream",
          "text": [
            "\r 33%|███▎      | 99/300 [07:03<14:17,  4.27s/it]"
          ],
          "name": "stderr"
        },
        {
          "output_type": "stream",
          "text": [
            "| epoch 99 : valid perplexity 251.44 |\n"
          ],
          "name": "stdout"
        },
        {
          "output_type": "stream",
          "text": [
            "\r 33%|███▎      | 100/300 [07:07<14:14,  4.27s/it]"
          ],
          "name": "stderr"
        },
        {
          "output_type": "stream",
          "text": [
            "| epoch 100 : valid perplexity 251.44 |\n"
          ],
          "name": "stdout"
        },
        {
          "output_type": "stream",
          "text": [
            "\r 34%|███▎      | 101/300 [07:11<14:16,  4.30s/it]"
          ],
          "name": "stderr"
        },
        {
          "output_type": "stream",
          "text": [
            "Saving the checkpoint...\n",
            "| epoch 101 : valid perplexity 251.44 |\n"
          ],
          "name": "stdout"
        },
        {
          "output_type": "stream",
          "text": [
            "\r 34%|███▍      | 102/300 [07:16<14:09,  4.29s/it]"
          ],
          "name": "stderr"
        },
        {
          "output_type": "stream",
          "text": [
            "| epoch 102 : valid perplexity 251.44 |\n"
          ],
          "name": "stdout"
        },
        {
          "output_type": "stream",
          "text": [
            "\r 34%|███▍      | 103/300 [07:20<14:03,  4.28s/it]"
          ],
          "name": "stderr"
        },
        {
          "output_type": "stream",
          "text": [
            "| epoch 103 : valid perplexity 251.44 |\n"
          ],
          "name": "stdout"
        },
        {
          "output_type": "stream",
          "text": [
            "\r 35%|███▍      | 104/300 [07:24<13:59,  4.28s/it]"
          ],
          "name": "stderr"
        },
        {
          "output_type": "stream",
          "text": [
            "| epoch 104 : valid perplexity 251.44 |\n"
          ],
          "name": "stdout"
        },
        {
          "output_type": "stream",
          "text": [
            "\r 35%|███▌      | 105/300 [07:28<13:53,  4.28s/it]"
          ],
          "name": "stderr"
        },
        {
          "output_type": "stream",
          "text": [
            "| epoch 105 : valid perplexity 251.44 |\n"
          ],
          "name": "stdout"
        },
        {
          "output_type": "stream",
          "text": [
            "\r 35%|███▌      | 106/300 [07:33<13:48,  4.27s/it]"
          ],
          "name": "stderr"
        },
        {
          "output_type": "stream",
          "text": [
            "| epoch 106 : valid perplexity 251.44 |\n"
          ],
          "name": "stdout"
        },
        {
          "output_type": "stream",
          "text": [
            "\r 36%|███▌      | 107/300 [07:37<13:45,  4.28s/it]"
          ],
          "name": "stderr"
        },
        {
          "output_type": "stream",
          "text": [
            "| epoch 107 : valid perplexity 251.44 |\n"
          ],
          "name": "stdout"
        },
        {
          "output_type": "stream",
          "text": [
            "\r 36%|███▌      | 108/300 [07:41<13:40,  4.27s/it]"
          ],
          "name": "stderr"
        },
        {
          "output_type": "stream",
          "text": [
            "| epoch 108 : valid perplexity 251.44 |\n"
          ],
          "name": "stdout"
        },
        {
          "output_type": "stream",
          "text": [
            "\r 36%|███▋      | 109/300 [07:46<13:35,  4.27s/it]"
          ],
          "name": "stderr"
        },
        {
          "output_type": "stream",
          "text": [
            "| epoch 109 : valid perplexity 251.44 |\n"
          ],
          "name": "stdout"
        },
        {
          "output_type": "stream",
          "text": [
            "\r 37%|███▋      | 110/300 [07:50<13:31,  4.27s/it]"
          ],
          "name": "stderr"
        },
        {
          "output_type": "stream",
          "text": [
            "| epoch 110 : valid perplexity 251.44 |\n"
          ],
          "name": "stdout"
        },
        {
          "output_type": "stream",
          "text": [
            "\r 37%|███▋      | 111/300 [07:54<13:28,  4.28s/it]"
          ],
          "name": "stderr"
        },
        {
          "output_type": "stream",
          "text": [
            "| epoch 111 : valid perplexity 251.44 |\n"
          ],
          "name": "stdout"
        },
        {
          "output_type": "stream",
          "text": [
            "\r 37%|███▋      | 112/300 [07:58<13:23,  4.27s/it]"
          ],
          "name": "stderr"
        },
        {
          "output_type": "stream",
          "text": [
            "| epoch 112 : valid perplexity 251.44 |\n"
          ],
          "name": "stdout"
        },
        {
          "output_type": "stream",
          "text": [
            "\r 38%|███▊      | 113/300 [08:03<13:18,  4.27s/it]"
          ],
          "name": "stderr"
        },
        {
          "output_type": "stream",
          "text": [
            "| epoch 113 : valid perplexity 251.44 |\n"
          ],
          "name": "stdout"
        },
        {
          "output_type": "stream",
          "text": [
            "\r 38%|███▊      | 114/300 [08:07<13:14,  4.27s/it]"
          ],
          "name": "stderr"
        },
        {
          "output_type": "stream",
          "text": [
            "| epoch 114 : valid perplexity 251.44 |\n"
          ],
          "name": "stdout"
        },
        {
          "output_type": "stream",
          "text": [
            "\r 38%|███▊      | 115/300 [08:11<13:10,  4.27s/it]"
          ],
          "name": "stderr"
        },
        {
          "output_type": "stream",
          "text": [
            "| epoch 115 : valid perplexity 251.44 |\n"
          ],
          "name": "stdout"
        },
        {
          "output_type": "stream",
          "text": [
            "\r 39%|███▊      | 116/300 [08:15<13:05,  4.27s/it]"
          ],
          "name": "stderr"
        },
        {
          "output_type": "stream",
          "text": [
            "| epoch 116 : valid perplexity 251.44 |\n"
          ],
          "name": "stdout"
        },
        {
          "output_type": "stream",
          "text": [
            "\r 39%|███▉      | 117/300 [08:20<13:01,  4.27s/it]"
          ],
          "name": "stderr"
        },
        {
          "output_type": "stream",
          "text": [
            "| epoch 117 : valid perplexity 251.44 |\n"
          ],
          "name": "stdout"
        },
        {
          "output_type": "stream",
          "text": [
            "\r 39%|███▉      | 118/300 [08:24<12:58,  4.27s/it]"
          ],
          "name": "stderr"
        },
        {
          "output_type": "stream",
          "text": [
            "| epoch 118 : valid perplexity 251.44 |\n"
          ],
          "name": "stdout"
        },
        {
          "output_type": "stream",
          "text": [
            "\r 40%|███▉      | 119/300 [08:28<12:52,  4.27s/it]"
          ],
          "name": "stderr"
        },
        {
          "output_type": "stream",
          "text": [
            "| epoch 119 : valid perplexity 251.44 |\n"
          ],
          "name": "stdout"
        },
        {
          "output_type": "stream",
          "text": [
            "\r 40%|████      | 120/300 [08:33<12:48,  4.27s/it]"
          ],
          "name": "stderr"
        },
        {
          "output_type": "stream",
          "text": [
            "| epoch 120 : valid perplexity 251.44 |\n"
          ],
          "name": "stdout"
        },
        {
          "output_type": "stream",
          "text": [
            "\r 40%|████      | 121/300 [08:37<12:49,  4.30s/it]"
          ],
          "name": "stderr"
        },
        {
          "output_type": "stream",
          "text": [
            "Saving the checkpoint...\n",
            "| epoch 121 : valid perplexity 251.44 |\n"
          ],
          "name": "stdout"
        },
        {
          "output_type": "stream",
          "text": [
            "\r 41%|████      | 122/300 [08:41<12:43,  4.29s/it]"
          ],
          "name": "stderr"
        },
        {
          "output_type": "stream",
          "text": [
            "| epoch 122 : valid perplexity 251.44 |\n"
          ],
          "name": "stdout"
        },
        {
          "output_type": "stream",
          "text": [
            "\r 41%|████      | 123/300 [08:45<12:38,  4.28s/it]"
          ],
          "name": "stderr"
        },
        {
          "output_type": "stream",
          "text": [
            "| epoch 123 : valid perplexity 251.44 |\n"
          ],
          "name": "stdout"
        },
        {
          "output_type": "stream",
          "text": [
            "\r 41%|████▏     | 124/300 [08:50<12:33,  4.28s/it]"
          ],
          "name": "stderr"
        },
        {
          "output_type": "stream",
          "text": [
            "| epoch 124 : valid perplexity 251.44 |\n"
          ],
          "name": "stdout"
        },
        {
          "output_type": "stream",
          "text": [
            "\r 42%|████▏     | 125/300 [08:54<12:29,  4.28s/it]"
          ],
          "name": "stderr"
        },
        {
          "output_type": "stream",
          "text": [
            "| epoch 125 : valid perplexity 251.44 |\n"
          ],
          "name": "stdout"
        },
        {
          "output_type": "stream",
          "text": [
            "\r 42%|████▏     | 126/300 [08:58<12:23,  4.28s/it]"
          ],
          "name": "stderr"
        },
        {
          "output_type": "stream",
          "text": [
            "| epoch 126 : valid perplexity 251.44 |\n"
          ],
          "name": "stdout"
        },
        {
          "output_type": "stream",
          "text": [
            "\r 42%|████▏     | 127/300 [09:03<12:19,  4.27s/it]"
          ],
          "name": "stderr"
        },
        {
          "output_type": "stream",
          "text": [
            "| epoch 127 : valid perplexity 251.44 |\n"
          ],
          "name": "stdout"
        },
        {
          "output_type": "stream",
          "text": [
            "\r 43%|████▎     | 128/300 [09:07<12:15,  4.28s/it]"
          ],
          "name": "stderr"
        },
        {
          "output_type": "stream",
          "text": [
            "| epoch 128 : valid perplexity 251.44 |\n"
          ],
          "name": "stdout"
        },
        {
          "output_type": "stream",
          "text": [
            "\r 43%|████▎     | 129/300 [09:11<12:10,  4.27s/it]"
          ],
          "name": "stderr"
        },
        {
          "output_type": "stream",
          "text": [
            "| epoch 129 : valid perplexity 251.44 |\n"
          ],
          "name": "stdout"
        },
        {
          "output_type": "stream",
          "text": [
            "\r 43%|████▎     | 130/300 [09:15<12:06,  4.27s/it]"
          ],
          "name": "stderr"
        },
        {
          "output_type": "stream",
          "text": [
            "| epoch 130 : valid perplexity 251.44 |\n"
          ],
          "name": "stdout"
        },
        {
          "output_type": "stream",
          "text": [
            "\r 44%|████▎     | 131/300 [09:20<12:01,  4.27s/it]"
          ],
          "name": "stderr"
        },
        {
          "output_type": "stream",
          "text": [
            "| epoch 131 : valid perplexity 251.44 |\n"
          ],
          "name": "stdout"
        },
        {
          "output_type": "stream",
          "text": [
            "\r 44%|████▍     | 132/300 [09:24<11:58,  4.28s/it]"
          ],
          "name": "stderr"
        },
        {
          "output_type": "stream",
          "text": [
            "| epoch 132 : valid perplexity 251.44 |\n"
          ],
          "name": "stdout"
        },
        {
          "output_type": "stream",
          "text": [
            "\r 44%|████▍     | 133/300 [09:28<11:53,  4.27s/it]"
          ],
          "name": "stderr"
        },
        {
          "output_type": "stream",
          "text": [
            "| epoch 133 : valid perplexity 251.44 |\n"
          ],
          "name": "stdout"
        },
        {
          "output_type": "stream",
          "text": [
            "\r 45%|████▍     | 134/300 [09:32<11:48,  4.27s/it]"
          ],
          "name": "stderr"
        },
        {
          "output_type": "stream",
          "text": [
            "| epoch 134 : valid perplexity 251.44 |\n"
          ],
          "name": "stdout"
        },
        {
          "output_type": "stream",
          "text": [
            "\r 45%|████▌     | 135/300 [09:37<11:44,  4.27s/it]"
          ],
          "name": "stderr"
        },
        {
          "output_type": "stream",
          "text": [
            "| epoch 135 : valid perplexity 251.44 |\n"
          ],
          "name": "stdout"
        },
        {
          "output_type": "stream",
          "text": [
            "\r 45%|████▌     | 136/300 [09:41<11:40,  4.27s/it]"
          ],
          "name": "stderr"
        },
        {
          "output_type": "stream",
          "text": [
            "| epoch 136 : valid perplexity 251.44 |\n"
          ],
          "name": "stdout"
        },
        {
          "output_type": "stream",
          "text": [
            "\r 46%|████▌     | 137/300 [09:45<11:35,  4.27s/it]"
          ],
          "name": "stderr"
        },
        {
          "output_type": "stream",
          "text": [
            "| epoch 137 : valid perplexity 251.44 |\n"
          ],
          "name": "stdout"
        },
        {
          "output_type": "stream",
          "text": [
            "\r 46%|████▌     | 138/300 [09:50<11:31,  4.27s/it]"
          ],
          "name": "stderr"
        },
        {
          "output_type": "stream",
          "text": [
            "| epoch 138 : valid perplexity 251.44 |\n"
          ],
          "name": "stdout"
        },
        {
          "output_type": "stream",
          "text": [
            "\r 46%|████▋     | 139/300 [09:54<11:28,  4.27s/it]"
          ],
          "name": "stderr"
        },
        {
          "output_type": "stream",
          "text": [
            "| epoch 139 : valid perplexity 251.44 |\n"
          ],
          "name": "stdout"
        },
        {
          "output_type": "stream",
          "text": [
            "\r 47%|████▋     | 140/300 [09:58<11:23,  4.27s/it]"
          ],
          "name": "stderr"
        },
        {
          "output_type": "stream",
          "text": [
            "| epoch 140 : valid perplexity 251.44 |\n"
          ],
          "name": "stdout"
        },
        {
          "output_type": "stream",
          "text": [
            "\r 47%|████▋     | 141/300 [10:02<11:23,  4.30s/it]"
          ],
          "name": "stderr"
        },
        {
          "output_type": "stream",
          "text": [
            "Saving the checkpoint...\n",
            "| epoch 141 : valid perplexity 251.44 |\n"
          ],
          "name": "stdout"
        },
        {
          "output_type": "stream",
          "text": [
            "\r 47%|████▋     | 142/300 [10:07<11:18,  4.29s/it]"
          ],
          "name": "stderr"
        },
        {
          "output_type": "stream",
          "text": [
            "| epoch 142 : valid perplexity 251.44 |\n"
          ],
          "name": "stdout"
        },
        {
          "output_type": "stream",
          "text": [
            "\r 48%|████▊     | 143/300 [10:11<11:12,  4.29s/it]"
          ],
          "name": "stderr"
        },
        {
          "output_type": "stream",
          "text": [
            "| epoch 143 : valid perplexity 251.44 |\n"
          ],
          "name": "stdout"
        },
        {
          "output_type": "stream",
          "text": [
            "\r 48%|████▊     | 144/300 [10:15<11:07,  4.28s/it]"
          ],
          "name": "stderr"
        },
        {
          "output_type": "stream",
          "text": [
            "| epoch 144 : valid perplexity 251.44 |\n"
          ],
          "name": "stdout"
        },
        {
          "output_type": "stream",
          "text": [
            "\r 48%|████▊     | 145/300 [10:20<11:02,  4.27s/it]"
          ],
          "name": "stderr"
        },
        {
          "output_type": "stream",
          "text": [
            "| epoch 145 : valid perplexity 251.44 |\n"
          ],
          "name": "stdout"
        },
        {
          "output_type": "stream",
          "text": [
            "\r 49%|████▊     | 146/300 [10:24<10:59,  4.28s/it]"
          ],
          "name": "stderr"
        },
        {
          "output_type": "stream",
          "text": [
            "| epoch 146 : valid perplexity 251.44 |\n"
          ],
          "name": "stdout"
        },
        {
          "output_type": "stream",
          "text": [
            "\r 49%|████▉     | 147/300 [10:28<10:53,  4.27s/it]"
          ],
          "name": "stderr"
        },
        {
          "output_type": "stream",
          "text": [
            "| epoch 147 : valid perplexity 251.44 |\n"
          ],
          "name": "stdout"
        },
        {
          "output_type": "stream",
          "text": [
            "\r 49%|████▉     | 148/300 [10:32<10:49,  4.27s/it]"
          ],
          "name": "stderr"
        },
        {
          "output_type": "stream",
          "text": [
            "| epoch 148 : valid perplexity 251.44 |\n"
          ],
          "name": "stdout"
        },
        {
          "output_type": "stream",
          "text": [
            "\r 50%|████▉     | 149/300 [10:37<10:45,  4.27s/it]"
          ],
          "name": "stderr"
        },
        {
          "output_type": "stream",
          "text": [
            "| epoch 149 : valid perplexity 251.44 |\n"
          ],
          "name": "stdout"
        },
        {
          "output_type": "stream",
          "text": [
            "\r 50%|█████     | 150/300 [10:41<10:40,  4.27s/it]"
          ],
          "name": "stderr"
        },
        {
          "output_type": "stream",
          "text": [
            "| epoch 150 : valid perplexity 251.44 |\n"
          ],
          "name": "stdout"
        },
        {
          "output_type": "stream",
          "text": [
            "\r 50%|█████     | 151/300 [10:45<10:35,  4.27s/it]"
          ],
          "name": "stderr"
        },
        {
          "output_type": "stream",
          "text": [
            "| epoch 151 : valid perplexity 251.44 |\n"
          ],
          "name": "stdout"
        },
        {
          "output_type": "stream",
          "text": [
            "\r 51%|█████     | 152/300 [10:49<10:31,  4.27s/it]"
          ],
          "name": "stderr"
        },
        {
          "output_type": "stream",
          "text": [
            "| epoch 152 : valid perplexity 251.44 |\n"
          ],
          "name": "stdout"
        },
        {
          "output_type": "stream",
          "text": [
            "\r 51%|█████     | 153/300 [10:54<10:28,  4.27s/it]"
          ],
          "name": "stderr"
        },
        {
          "output_type": "stream",
          "text": [
            "| epoch 153 : valid perplexity 251.44 |\n"
          ],
          "name": "stdout"
        },
        {
          "output_type": "stream",
          "text": [
            "\r 51%|█████▏    | 154/300 [10:58<10:23,  4.27s/it]"
          ],
          "name": "stderr"
        },
        {
          "output_type": "stream",
          "text": [
            "| epoch 154 : valid perplexity 251.44 |\n"
          ],
          "name": "stdout"
        },
        {
          "output_type": "stream",
          "text": [
            "\r 52%|█████▏    | 155/300 [11:02<10:18,  4.27s/it]"
          ],
          "name": "stderr"
        },
        {
          "output_type": "stream",
          "text": [
            "| epoch 155 : valid perplexity 251.44 |\n"
          ],
          "name": "stdout"
        },
        {
          "output_type": "stream",
          "text": [
            "\r 52%|█████▏    | 156/300 [11:06<10:15,  4.27s/it]"
          ],
          "name": "stderr"
        },
        {
          "output_type": "stream",
          "text": [
            "| epoch 156 : valid perplexity 251.44 |\n"
          ],
          "name": "stdout"
        },
        {
          "output_type": "stream",
          "text": [
            "\r 52%|█████▏    | 157/300 [11:11<10:10,  4.27s/it]"
          ],
          "name": "stderr"
        },
        {
          "output_type": "stream",
          "text": [
            "| epoch 157 : valid perplexity 251.44 |\n"
          ],
          "name": "stdout"
        },
        {
          "output_type": "stream",
          "text": [
            "\r 53%|█████▎    | 158/300 [11:15<10:06,  4.27s/it]"
          ],
          "name": "stderr"
        },
        {
          "output_type": "stream",
          "text": [
            "| epoch 158 : valid perplexity 251.44 |\n"
          ],
          "name": "stdout"
        },
        {
          "output_type": "stream",
          "text": [
            "\r 53%|█████▎    | 159/300 [11:19<10:01,  4.27s/it]"
          ],
          "name": "stderr"
        },
        {
          "output_type": "stream",
          "text": [
            "| epoch 159 : valid perplexity 251.44 |\n"
          ],
          "name": "stdout"
        },
        {
          "output_type": "stream",
          "text": [
            "\r 53%|█████▎    | 160/300 [11:24<09:58,  4.27s/it]"
          ],
          "name": "stderr"
        },
        {
          "output_type": "stream",
          "text": [
            "| epoch 160 : valid perplexity 251.44 |\n"
          ],
          "name": "stdout"
        },
        {
          "output_type": "stream",
          "text": [
            "\r 54%|█████▎    | 161/300 [11:28<09:58,  4.30s/it]"
          ],
          "name": "stderr"
        },
        {
          "output_type": "stream",
          "text": [
            "Saving the checkpoint...\n",
            "| epoch 161 : valid perplexity 251.44 |\n"
          ],
          "name": "stdout"
        },
        {
          "output_type": "stream",
          "text": [
            "\r 54%|█████▍    | 162/300 [11:32<09:52,  4.29s/it]"
          ],
          "name": "stderr"
        },
        {
          "output_type": "stream",
          "text": [
            "| epoch 162 : valid perplexity 251.44 |\n"
          ],
          "name": "stdout"
        },
        {
          "output_type": "stream",
          "text": [
            "\r 54%|█████▍    | 163/300 [11:36<09:47,  4.29s/it]"
          ],
          "name": "stderr"
        },
        {
          "output_type": "stream",
          "text": [
            "| epoch 163 : valid perplexity 251.44 |\n"
          ],
          "name": "stdout"
        },
        {
          "output_type": "stream",
          "text": [
            "\r 55%|█████▍    | 164/300 [11:41<09:42,  4.28s/it]"
          ],
          "name": "stderr"
        },
        {
          "output_type": "stream",
          "text": [
            "| epoch 164 : valid perplexity 251.44 |\n"
          ],
          "name": "stdout"
        },
        {
          "output_type": "stream",
          "text": [
            "\r 55%|█████▌    | 165/300 [11:45<09:37,  4.28s/it]"
          ],
          "name": "stderr"
        },
        {
          "output_type": "stream",
          "text": [
            "| epoch 165 : valid perplexity 251.44 |\n"
          ],
          "name": "stdout"
        },
        {
          "output_type": "stream",
          "text": [
            "\r 55%|█████▌    | 166/300 [11:49<09:32,  4.27s/it]"
          ],
          "name": "stderr"
        },
        {
          "output_type": "stream",
          "text": [
            "| epoch 166 : valid perplexity 251.44 |\n"
          ],
          "name": "stdout"
        },
        {
          "output_type": "stream",
          "text": [
            "\r 56%|█████▌    | 167/300 [11:54<09:29,  4.28s/it]"
          ],
          "name": "stderr"
        },
        {
          "output_type": "stream",
          "text": [
            "| epoch 167 : valid perplexity 251.44 |\n"
          ],
          "name": "stdout"
        },
        {
          "output_type": "stream",
          "text": [
            "\r 56%|█████▌    | 168/300 [11:58<09:23,  4.27s/it]"
          ],
          "name": "stderr"
        },
        {
          "output_type": "stream",
          "text": [
            "| epoch 168 : valid perplexity 251.44 |\n"
          ],
          "name": "stdout"
        },
        {
          "output_type": "stream",
          "text": [
            "\r 56%|█████▋    | 169/300 [12:02<09:19,  4.27s/it]"
          ],
          "name": "stderr"
        },
        {
          "output_type": "stream",
          "text": [
            "| epoch 169 : valid perplexity 251.44 |\n"
          ],
          "name": "stdout"
        },
        {
          "output_type": "stream",
          "text": [
            "\r 57%|█████▋    | 170/300 [12:06<09:15,  4.27s/it]"
          ],
          "name": "stderr"
        },
        {
          "output_type": "stream",
          "text": [
            "| epoch 170 : valid perplexity 251.44 |\n"
          ],
          "name": "stdout"
        },
        {
          "output_type": "stream",
          "text": [
            "\r 57%|█████▋    | 171/300 [12:11<09:10,  4.27s/it]"
          ],
          "name": "stderr"
        },
        {
          "output_type": "stream",
          "text": [
            "| epoch 171 : valid perplexity 251.44 |\n"
          ],
          "name": "stdout"
        },
        {
          "output_type": "stream",
          "text": [
            "\r 57%|█████▋    | 172/300 [12:15<09:06,  4.27s/it]"
          ],
          "name": "stderr"
        },
        {
          "output_type": "stream",
          "text": [
            "| epoch 172 : valid perplexity 251.44 |\n"
          ],
          "name": "stdout"
        },
        {
          "output_type": "stream",
          "text": [
            "\r 58%|█████▊    | 173/300 [12:19<09:02,  4.27s/it]"
          ],
          "name": "stderr"
        },
        {
          "output_type": "stream",
          "text": [
            "| epoch 173 : valid perplexity 251.44 |\n"
          ],
          "name": "stdout"
        },
        {
          "output_type": "stream",
          "text": [
            "\r 58%|█████▊    | 174/300 [12:23<08:58,  4.27s/it]"
          ],
          "name": "stderr"
        },
        {
          "output_type": "stream",
          "text": [
            "| epoch 174 : valid perplexity 251.44 |\n"
          ],
          "name": "stdout"
        },
        {
          "output_type": "stream",
          "text": [
            "\r 58%|█████▊    | 175/300 [12:28<08:53,  4.27s/it]"
          ],
          "name": "stderr"
        },
        {
          "output_type": "stream",
          "text": [
            "| epoch 175 : valid perplexity 251.44 |\n"
          ],
          "name": "stdout"
        },
        {
          "output_type": "stream",
          "text": [
            "\r 59%|█████▊    | 176/300 [12:32<08:49,  4.27s/it]"
          ],
          "name": "stderr"
        },
        {
          "output_type": "stream",
          "text": [
            "| epoch 176 : valid perplexity 251.44 |\n"
          ],
          "name": "stdout"
        },
        {
          "output_type": "stream",
          "text": [
            "\r 59%|█████▉    | 177/300 [12:36<08:45,  4.27s/it]"
          ],
          "name": "stderr"
        },
        {
          "output_type": "stream",
          "text": [
            "| epoch 177 : valid perplexity 251.44 |\n"
          ],
          "name": "stdout"
        },
        {
          "output_type": "stream",
          "text": [
            "\r 59%|█████▉    | 178/300 [12:41<08:41,  4.27s/it]"
          ],
          "name": "stderr"
        },
        {
          "output_type": "stream",
          "text": [
            "| epoch 178 : valid perplexity 251.44 |\n"
          ],
          "name": "stdout"
        },
        {
          "output_type": "stream",
          "text": [
            "\r 60%|█████▉    | 179/300 [12:45<08:36,  4.27s/it]"
          ],
          "name": "stderr"
        },
        {
          "output_type": "stream",
          "text": [
            "| epoch 179 : valid perplexity 251.44 |\n"
          ],
          "name": "stdout"
        },
        {
          "output_type": "stream",
          "text": [
            "\r 60%|██████    | 180/300 [12:49<08:32,  4.27s/it]"
          ],
          "name": "stderr"
        },
        {
          "output_type": "stream",
          "text": [
            "| epoch 180 : valid perplexity 251.44 |\n"
          ],
          "name": "stdout"
        },
        {
          "output_type": "stream",
          "text": [
            "\r 60%|██████    | 181/300 [12:53<08:32,  4.31s/it]"
          ],
          "name": "stderr"
        },
        {
          "output_type": "stream",
          "text": [
            "Saving the checkpoint...\n",
            "| epoch 181 : valid perplexity 251.44 |\n"
          ],
          "name": "stdout"
        },
        {
          "output_type": "stream",
          "text": [
            "\r 61%|██████    | 182/300 [12:58<08:26,  4.29s/it]"
          ],
          "name": "stderr"
        },
        {
          "output_type": "stream",
          "text": [
            "| epoch 182 : valid perplexity 251.44 |\n"
          ],
          "name": "stdout"
        },
        {
          "output_type": "stream",
          "text": [
            "\r 61%|██████    | 183/300 [13:02<08:21,  4.28s/it]"
          ],
          "name": "stderr"
        },
        {
          "output_type": "stream",
          "text": [
            "| epoch 183 : valid perplexity 251.44 |\n"
          ],
          "name": "stdout"
        },
        {
          "output_type": "stream",
          "text": [
            "\r 61%|██████▏   | 184/300 [13:06<08:16,  4.28s/it]"
          ],
          "name": "stderr"
        },
        {
          "output_type": "stream",
          "text": [
            "| epoch 184 : valid perplexity 251.44 |\n"
          ],
          "name": "stdout"
        },
        {
          "output_type": "stream",
          "text": [
            "\r 62%|██████▏   | 185/300 [13:11<08:12,  4.28s/it]"
          ],
          "name": "stderr"
        },
        {
          "output_type": "stream",
          "text": [
            "| epoch 185 : valid perplexity 251.44 |\n"
          ],
          "name": "stdout"
        },
        {
          "output_type": "stream",
          "text": [
            "\r 62%|██████▏   | 186/300 [13:15<08:07,  4.27s/it]"
          ],
          "name": "stderr"
        },
        {
          "output_type": "stream",
          "text": [
            "| epoch 186 : valid perplexity 251.44 |\n"
          ],
          "name": "stdout"
        },
        {
          "output_type": "stream",
          "text": [
            "\r 62%|██████▏   | 187/300 [13:19<08:02,  4.27s/it]"
          ],
          "name": "stderr"
        },
        {
          "output_type": "stream",
          "text": [
            "| epoch 187 : valid perplexity 251.44 |\n"
          ],
          "name": "stdout"
        },
        {
          "output_type": "stream",
          "text": [
            "\r 63%|██████▎   | 188/300 [13:23<07:58,  4.28s/it]"
          ],
          "name": "stderr"
        },
        {
          "output_type": "stream",
          "text": [
            "| epoch 188 : valid perplexity 251.44 |\n"
          ],
          "name": "stdout"
        },
        {
          "output_type": "stream",
          "text": [
            "\r 63%|██████▎   | 189/300 [13:28<07:54,  4.27s/it]"
          ],
          "name": "stderr"
        },
        {
          "output_type": "stream",
          "text": [
            "| epoch 189 : valid perplexity 251.44 |\n"
          ],
          "name": "stdout"
        },
        {
          "output_type": "stream",
          "text": [
            "\r 63%|██████▎   | 190/300 [13:32<07:49,  4.27s/it]"
          ],
          "name": "stderr"
        },
        {
          "output_type": "stream",
          "text": [
            "| epoch 190 : valid perplexity 251.44 |\n"
          ],
          "name": "stdout"
        },
        {
          "output_type": "stream",
          "text": [
            "\r 64%|██████▎   | 191/300 [13:36<07:45,  4.27s/it]"
          ],
          "name": "stderr"
        },
        {
          "output_type": "stream",
          "text": [
            "| epoch 191 : valid perplexity 251.44 |\n"
          ],
          "name": "stdout"
        },
        {
          "output_type": "stream",
          "text": [
            "\r 64%|██████▍   | 192/300 [13:40<07:41,  4.27s/it]"
          ],
          "name": "stderr"
        },
        {
          "output_type": "stream",
          "text": [
            "| epoch 192 : valid perplexity 251.44 |\n"
          ],
          "name": "stdout"
        },
        {
          "output_type": "stream",
          "text": [
            "\r 64%|██████▍   | 193/300 [13:45<07:36,  4.27s/it]"
          ],
          "name": "stderr"
        },
        {
          "output_type": "stream",
          "text": [
            "| epoch 193 : valid perplexity 251.44 |\n"
          ],
          "name": "stdout"
        },
        {
          "output_type": "stream",
          "text": [
            "\r 65%|██████▍   | 194/300 [13:49<07:32,  4.27s/it]"
          ],
          "name": "stderr"
        },
        {
          "output_type": "stream",
          "text": [
            "| epoch 194 : valid perplexity 251.44 |\n"
          ],
          "name": "stdout"
        },
        {
          "output_type": "stream",
          "text": [
            "\r 65%|██████▌   | 195/300 [13:53<07:28,  4.27s/it]"
          ],
          "name": "stderr"
        },
        {
          "output_type": "stream",
          "text": [
            "| epoch 195 : valid perplexity 251.44 |\n"
          ],
          "name": "stdout"
        },
        {
          "output_type": "stream",
          "text": [
            "\r 65%|██████▌   | 196/300 [13:57<07:24,  4.27s/it]"
          ],
          "name": "stderr"
        },
        {
          "output_type": "stream",
          "text": [
            "| epoch 196 : valid perplexity 251.44 |\n"
          ],
          "name": "stdout"
        },
        {
          "output_type": "stream",
          "text": [
            "\r 66%|██████▌   | 197/300 [14:02<07:19,  4.27s/it]"
          ],
          "name": "stderr"
        },
        {
          "output_type": "stream",
          "text": [
            "| epoch 197 : valid perplexity 251.44 |\n"
          ],
          "name": "stdout"
        },
        {
          "output_type": "stream",
          "text": [
            "\r 66%|██████▌   | 198/300 [14:06<07:15,  4.27s/it]"
          ],
          "name": "stderr"
        },
        {
          "output_type": "stream",
          "text": [
            "| epoch 198 : valid perplexity 251.44 |\n"
          ],
          "name": "stdout"
        },
        {
          "output_type": "stream",
          "text": [
            "\r 66%|██████▋   | 199/300 [14:10<07:11,  4.27s/it]"
          ],
          "name": "stderr"
        },
        {
          "output_type": "stream",
          "text": [
            "| epoch 199 : valid perplexity 251.44 |\n"
          ],
          "name": "stdout"
        },
        {
          "output_type": "stream",
          "text": [
            "\r 67%|██████▋   | 200/300 [14:15<07:07,  4.27s/it]"
          ],
          "name": "stderr"
        },
        {
          "output_type": "stream",
          "text": [
            "| epoch 200 : valid perplexity 251.44 |\n"
          ],
          "name": "stdout"
        },
        {
          "output_type": "stream",
          "text": [
            "\r 67%|██████▋   | 201/300 [14:19<07:05,  4.30s/it]"
          ],
          "name": "stderr"
        },
        {
          "output_type": "stream",
          "text": [
            "Saving the checkpoint...\n",
            "| epoch 201 : valid perplexity 251.44 |\n"
          ],
          "name": "stdout"
        },
        {
          "output_type": "stream",
          "text": [
            "\r 67%|██████▋   | 202/300 [14:23<07:01,  4.30s/it]"
          ],
          "name": "stderr"
        },
        {
          "output_type": "stream",
          "text": [
            "| epoch 202 : valid perplexity 251.44 |\n"
          ],
          "name": "stdout"
        },
        {
          "output_type": "stream",
          "text": [
            "\r 68%|██████▊   | 203/300 [14:27<06:55,  4.29s/it]"
          ],
          "name": "stderr"
        },
        {
          "output_type": "stream",
          "text": [
            "| epoch 203 : valid perplexity 251.44 |\n"
          ],
          "name": "stdout"
        },
        {
          "output_type": "stream",
          "text": [
            "\r 68%|██████▊   | 204/300 [14:32<06:50,  4.28s/it]"
          ],
          "name": "stderr"
        },
        {
          "output_type": "stream",
          "text": [
            "| epoch 204 : valid perplexity 251.44 |\n"
          ],
          "name": "stdout"
        },
        {
          "output_type": "stream",
          "text": [
            "\r 68%|██████▊   | 205/300 [14:36<06:46,  4.28s/it]"
          ],
          "name": "stderr"
        },
        {
          "output_type": "stream",
          "text": [
            "| epoch 205 : valid perplexity 251.44 |\n"
          ],
          "name": "stdout"
        },
        {
          "output_type": "stream",
          "text": [
            "\r 69%|██████▊   | 206/300 [14:40<06:41,  4.28s/it]"
          ],
          "name": "stderr"
        },
        {
          "output_type": "stream",
          "text": [
            "| epoch 206 : valid perplexity 251.44 |\n"
          ],
          "name": "stdout"
        },
        {
          "output_type": "stream",
          "text": [
            "\r 69%|██████▉   | 207/300 [14:45<06:37,  4.27s/it]"
          ],
          "name": "stderr"
        },
        {
          "output_type": "stream",
          "text": [
            "| epoch 207 : valid perplexity 251.44 |\n"
          ],
          "name": "stdout"
        },
        {
          "output_type": "stream",
          "text": [
            "\r 69%|██████▉   | 208/300 [14:49<06:33,  4.27s/it]"
          ],
          "name": "stderr"
        },
        {
          "output_type": "stream",
          "text": [
            "| epoch 208 : valid perplexity 251.44 |\n"
          ],
          "name": "stdout"
        },
        {
          "output_type": "stream",
          "text": [
            "\r 70%|██████▉   | 209/300 [14:53<06:29,  4.28s/it]"
          ],
          "name": "stderr"
        },
        {
          "output_type": "stream",
          "text": [
            "| epoch 209 : valid perplexity 251.44 |\n"
          ],
          "name": "stdout"
        },
        {
          "output_type": "stream",
          "text": [
            "\r 70%|███████   | 210/300 [14:57<06:24,  4.27s/it]"
          ],
          "name": "stderr"
        },
        {
          "output_type": "stream",
          "text": [
            "| epoch 210 : valid perplexity 251.44 |\n"
          ],
          "name": "stdout"
        },
        {
          "output_type": "stream",
          "text": [
            "\r 70%|███████   | 211/300 [15:02<06:19,  4.27s/it]"
          ],
          "name": "stderr"
        },
        {
          "output_type": "stream",
          "text": [
            "| epoch 211 : valid perplexity 251.44 |\n"
          ],
          "name": "stdout"
        },
        {
          "output_type": "stream",
          "text": [
            "\r 71%|███████   | 212/300 [15:06<06:16,  4.27s/it]"
          ],
          "name": "stderr"
        },
        {
          "output_type": "stream",
          "text": [
            "| epoch 212 : valid perplexity 251.44 |\n"
          ],
          "name": "stdout"
        },
        {
          "output_type": "stream",
          "text": [
            "\r 71%|███████   | 213/300 [15:10<06:11,  4.27s/it]"
          ],
          "name": "stderr"
        },
        {
          "output_type": "stream",
          "text": [
            "| epoch 213 : valid perplexity 251.44 |\n"
          ],
          "name": "stdout"
        },
        {
          "output_type": "stream",
          "text": [
            "\r 71%|███████▏  | 214/300 [15:14<06:06,  4.27s/it]"
          ],
          "name": "stderr"
        },
        {
          "output_type": "stream",
          "text": [
            "| epoch 214 : valid perplexity 251.44 |\n"
          ],
          "name": "stdout"
        },
        {
          "output_type": "stream",
          "text": [
            "\r 72%|███████▏  | 215/300 [15:19<06:02,  4.27s/it]"
          ],
          "name": "stderr"
        },
        {
          "output_type": "stream",
          "text": [
            "| epoch 215 : valid perplexity 251.44 |\n"
          ],
          "name": "stdout"
        },
        {
          "output_type": "stream",
          "text": [
            "\r 72%|███████▏  | 216/300 [15:23<05:59,  4.27s/it]"
          ],
          "name": "stderr"
        },
        {
          "output_type": "stream",
          "text": [
            "| epoch 216 : valid perplexity 251.44 |\n"
          ],
          "name": "stdout"
        },
        {
          "output_type": "stream",
          "text": [
            "\r 72%|███████▏  | 217/300 [15:27<05:54,  4.27s/it]"
          ],
          "name": "stderr"
        },
        {
          "output_type": "stream",
          "text": [
            "| epoch 217 : valid perplexity 251.44 |\n"
          ],
          "name": "stdout"
        },
        {
          "output_type": "stream",
          "text": [
            "\r 73%|███████▎  | 218/300 [15:32<05:49,  4.27s/it]"
          ],
          "name": "stderr"
        },
        {
          "output_type": "stream",
          "text": [
            "| epoch 218 : valid perplexity 251.44 |\n"
          ],
          "name": "stdout"
        },
        {
          "output_type": "stream",
          "text": [
            "\r 73%|███████▎  | 219/300 [15:36<05:45,  4.27s/it]"
          ],
          "name": "stderr"
        },
        {
          "output_type": "stream",
          "text": [
            "| epoch 219 : valid perplexity 251.44 |\n"
          ],
          "name": "stdout"
        },
        {
          "output_type": "stream",
          "text": [
            "\r 73%|███████▎  | 220/300 [15:40<05:41,  4.27s/it]"
          ],
          "name": "stderr"
        },
        {
          "output_type": "stream",
          "text": [
            "| epoch 220 : valid perplexity 251.44 |\n"
          ],
          "name": "stdout"
        },
        {
          "output_type": "stream",
          "text": [
            "\r 74%|███████▎  | 221/300 [15:44<05:39,  4.30s/it]"
          ],
          "name": "stderr"
        },
        {
          "output_type": "stream",
          "text": [
            "Saving the checkpoint...\n",
            "| epoch 221 : valid perplexity 251.44 |\n"
          ],
          "name": "stdout"
        },
        {
          "output_type": "stream",
          "text": [
            "\r 74%|███████▍  | 222/300 [15:49<05:34,  4.29s/it]"
          ],
          "name": "stderr"
        },
        {
          "output_type": "stream",
          "text": [
            "| epoch 222 : valid perplexity 251.44 |\n"
          ],
          "name": "stdout"
        },
        {
          "output_type": "stream",
          "text": [
            "\r 74%|███████▍  | 223/300 [15:53<05:30,  4.29s/it]"
          ],
          "name": "stderr"
        },
        {
          "output_type": "stream",
          "text": [
            "| epoch 223 : valid perplexity 251.44 |\n"
          ],
          "name": "stdout"
        },
        {
          "output_type": "stream",
          "text": [
            "\r 75%|███████▍  | 224/300 [15:57<05:25,  4.28s/it]"
          ],
          "name": "stderr"
        },
        {
          "output_type": "stream",
          "text": [
            "| epoch 224 : valid perplexity 251.44 |\n"
          ],
          "name": "stdout"
        },
        {
          "output_type": "stream",
          "text": [
            "\r 75%|███████▌  | 225/300 [16:02<05:20,  4.27s/it]"
          ],
          "name": "stderr"
        },
        {
          "output_type": "stream",
          "text": [
            "| epoch 225 : valid perplexity 251.44 |\n"
          ],
          "name": "stdout"
        },
        {
          "output_type": "stream",
          "text": [
            "\r 75%|███████▌  | 226/300 [16:06<05:16,  4.28s/it]"
          ],
          "name": "stderr"
        },
        {
          "output_type": "stream",
          "text": [
            "| epoch 226 : valid perplexity 251.44 |\n"
          ],
          "name": "stdout"
        },
        {
          "output_type": "stream",
          "text": [
            "\r 76%|███████▌  | 227/300 [16:10<05:11,  4.27s/it]"
          ],
          "name": "stderr"
        },
        {
          "output_type": "stream",
          "text": [
            "| epoch 227 : valid perplexity 251.44 |\n"
          ],
          "name": "stdout"
        },
        {
          "output_type": "stream",
          "text": [
            "\r 76%|███████▌  | 228/300 [16:14<05:07,  4.27s/it]"
          ],
          "name": "stderr"
        },
        {
          "output_type": "stream",
          "text": [
            "| epoch 228 : valid perplexity 251.44 |\n"
          ],
          "name": "stdout"
        },
        {
          "output_type": "stream",
          "text": [
            "\r 76%|███████▋  | 229/300 [16:19<05:03,  4.27s/it]"
          ],
          "name": "stderr"
        },
        {
          "output_type": "stream",
          "text": [
            "| epoch 229 : valid perplexity 251.44 |\n"
          ],
          "name": "stdout"
        },
        {
          "output_type": "stream",
          "text": [
            "\r 77%|███████▋  | 230/300 [16:23<04:59,  4.27s/it]"
          ],
          "name": "stderr"
        },
        {
          "output_type": "stream",
          "text": [
            "| epoch 230 : valid perplexity 251.44 |\n"
          ],
          "name": "stdout"
        },
        {
          "output_type": "stream",
          "text": [
            "\r 77%|███████▋  | 231/300 [16:27<04:54,  4.27s/it]"
          ],
          "name": "stderr"
        },
        {
          "output_type": "stream",
          "text": [
            "| epoch 231 : valid perplexity 251.44 |\n"
          ],
          "name": "stdout"
        },
        {
          "output_type": "stream",
          "text": [
            "\r 77%|███████▋  | 232/300 [16:31<04:50,  4.27s/it]"
          ],
          "name": "stderr"
        },
        {
          "output_type": "stream",
          "text": [
            "| epoch 232 : valid perplexity 251.44 |\n"
          ],
          "name": "stdout"
        },
        {
          "output_type": "stream",
          "text": [
            "\r 78%|███████▊  | 233/300 [16:36<04:46,  4.27s/it]"
          ],
          "name": "stderr"
        },
        {
          "output_type": "stream",
          "text": [
            "| epoch 233 : valid perplexity 251.44 |\n"
          ],
          "name": "stdout"
        },
        {
          "output_type": "stream",
          "text": [
            "\r 78%|███████▊  | 234/300 [16:40<04:41,  4.27s/it]"
          ],
          "name": "stderr"
        },
        {
          "output_type": "stream",
          "text": [
            "| epoch 234 : valid perplexity 251.44 |\n"
          ],
          "name": "stdout"
        },
        {
          "output_type": "stream",
          "text": [
            "\r 78%|███████▊  | 235/300 [16:44<04:37,  4.27s/it]"
          ],
          "name": "stderr"
        },
        {
          "output_type": "stream",
          "text": [
            "| epoch 235 : valid perplexity 251.44 |\n"
          ],
          "name": "stdout"
        },
        {
          "output_type": "stream",
          "text": [
            "\r 79%|███████▊  | 236/300 [16:48<04:33,  4.27s/it]"
          ],
          "name": "stderr"
        },
        {
          "output_type": "stream",
          "text": [
            "| epoch 236 : valid perplexity 251.44 |\n"
          ],
          "name": "stdout"
        },
        {
          "output_type": "stream",
          "text": [
            "\r 79%|███████▉  | 237/300 [16:53<04:29,  4.27s/it]"
          ],
          "name": "stderr"
        },
        {
          "output_type": "stream",
          "text": [
            "| epoch 237 : valid perplexity 251.44 |\n"
          ],
          "name": "stdout"
        },
        {
          "output_type": "stream",
          "text": [
            "\r 79%|███████▉  | 238/300 [16:57<04:24,  4.27s/it]"
          ],
          "name": "stderr"
        },
        {
          "output_type": "stream",
          "text": [
            "| epoch 238 : valid perplexity 251.44 |\n"
          ],
          "name": "stdout"
        },
        {
          "output_type": "stream",
          "text": [
            "\r 80%|███████▉  | 239/300 [17:01<04:20,  4.27s/it]"
          ],
          "name": "stderr"
        },
        {
          "output_type": "stream",
          "text": [
            "| epoch 239 : valid perplexity 251.44 |\n"
          ],
          "name": "stdout"
        },
        {
          "output_type": "stream",
          "text": [
            "\r 80%|████████  | 240/300 [17:06<04:16,  4.27s/it]"
          ],
          "name": "stderr"
        },
        {
          "output_type": "stream",
          "text": [
            "| epoch 240 : valid perplexity 251.44 |\n"
          ],
          "name": "stdout"
        },
        {
          "output_type": "stream",
          "text": [
            "\r 80%|████████  | 241/300 [17:10<04:13,  4.30s/it]"
          ],
          "name": "stderr"
        },
        {
          "output_type": "stream",
          "text": [
            "Saving the checkpoint...\n",
            "| epoch 241 : valid perplexity 251.44 |\n"
          ],
          "name": "stdout"
        },
        {
          "output_type": "stream",
          "text": [
            "\r 81%|████████  | 242/300 [17:14<04:08,  4.29s/it]"
          ],
          "name": "stderr"
        },
        {
          "output_type": "stream",
          "text": [
            "| epoch 242 : valid perplexity 251.44 |\n"
          ],
          "name": "stdout"
        },
        {
          "output_type": "stream",
          "text": [
            "\r 81%|████████  | 243/300 [17:18<04:04,  4.28s/it]"
          ],
          "name": "stderr"
        },
        {
          "output_type": "stream",
          "text": [
            "| epoch 243 : valid perplexity 251.44 |\n"
          ],
          "name": "stdout"
        },
        {
          "output_type": "stream",
          "text": [
            "\r 81%|████████▏ | 244/300 [17:23<04:00,  4.29s/it]"
          ],
          "name": "stderr"
        },
        {
          "output_type": "stream",
          "text": [
            "| epoch 244 : valid perplexity 251.44 |\n"
          ],
          "name": "stdout"
        },
        {
          "output_type": "stream",
          "text": [
            "\r 82%|████████▏ | 245/300 [17:27<03:55,  4.28s/it]"
          ],
          "name": "stderr"
        },
        {
          "output_type": "stream",
          "text": [
            "| epoch 245 : valid perplexity 251.44 |\n"
          ],
          "name": "stdout"
        },
        {
          "output_type": "stream",
          "text": [
            "\r 82%|████████▏ | 246/300 [17:31<03:51,  4.28s/it]"
          ],
          "name": "stderr"
        },
        {
          "output_type": "stream",
          "text": [
            "| epoch 246 : valid perplexity 251.44 |\n"
          ],
          "name": "stdout"
        },
        {
          "output_type": "stream",
          "text": [
            "\r 82%|████████▏ | 247/300 [17:36<03:46,  4.28s/it]"
          ],
          "name": "stderr"
        },
        {
          "output_type": "stream",
          "text": [
            "| epoch 247 : valid perplexity 251.44 |\n"
          ],
          "name": "stdout"
        },
        {
          "output_type": "stream",
          "text": [
            "\r 83%|████████▎ | 248/300 [17:40<03:42,  4.28s/it]"
          ],
          "name": "stderr"
        },
        {
          "output_type": "stream",
          "text": [
            "| epoch 248 : valid perplexity 251.44 |\n"
          ],
          "name": "stdout"
        },
        {
          "output_type": "stream",
          "text": [
            "\r 83%|████████▎ | 249/300 [17:44<03:38,  4.28s/it]"
          ],
          "name": "stderr"
        },
        {
          "output_type": "stream",
          "text": [
            "| epoch 249 : valid perplexity 251.44 |\n"
          ],
          "name": "stdout"
        },
        {
          "output_type": "stream",
          "text": [
            "\r 83%|████████▎ | 250/300 [17:48<03:33,  4.28s/it]"
          ],
          "name": "stderr"
        },
        {
          "output_type": "stream",
          "text": [
            "| epoch 250 : valid perplexity 251.44 |\n"
          ],
          "name": "stdout"
        },
        {
          "output_type": "stream",
          "text": [
            "\r 84%|████████▎ | 251/300 [17:53<03:29,  4.28s/it]"
          ],
          "name": "stderr"
        },
        {
          "output_type": "stream",
          "text": [
            "| epoch 251 : valid perplexity 251.44 |\n"
          ],
          "name": "stdout"
        },
        {
          "output_type": "stream",
          "text": [
            "\r 84%|████████▍ | 252/300 [17:57<03:25,  4.28s/it]"
          ],
          "name": "stderr"
        },
        {
          "output_type": "stream",
          "text": [
            "| epoch 252 : valid perplexity 251.44 |\n"
          ],
          "name": "stdout"
        },
        {
          "output_type": "stream",
          "text": [
            "\r 84%|████████▍ | 253/300 [18:01<03:20,  4.27s/it]"
          ],
          "name": "stderr"
        },
        {
          "output_type": "stream",
          "text": [
            "| epoch 253 : valid perplexity 251.44 |\n"
          ],
          "name": "stdout"
        },
        {
          "output_type": "stream",
          "text": [
            "\r 85%|████████▍ | 254/300 [18:06<03:16,  4.28s/it]"
          ],
          "name": "stderr"
        },
        {
          "output_type": "stream",
          "text": [
            "| epoch 254 : valid perplexity 251.44 |\n"
          ],
          "name": "stdout"
        },
        {
          "output_type": "stream",
          "text": [
            "\r 85%|████████▌ | 255/300 [18:10<03:12,  4.28s/it]"
          ],
          "name": "stderr"
        },
        {
          "output_type": "stream",
          "text": [
            "| epoch 255 : valid perplexity 251.44 |\n"
          ],
          "name": "stdout"
        },
        {
          "output_type": "stream",
          "text": [
            "\r 85%|████████▌ | 256/300 [18:14<03:08,  4.28s/it]"
          ],
          "name": "stderr"
        },
        {
          "output_type": "stream",
          "text": [
            "| epoch 256 : valid perplexity 251.44 |\n"
          ],
          "name": "stdout"
        },
        {
          "output_type": "stream",
          "text": [
            "\r 86%|████████▌ | 257/300 [18:18<03:03,  4.28s/it]"
          ],
          "name": "stderr"
        },
        {
          "output_type": "stream",
          "text": [
            "| epoch 257 : valid perplexity 251.44 |\n"
          ],
          "name": "stdout"
        },
        {
          "output_type": "stream",
          "text": [
            "\r 86%|████████▌ | 258/300 [18:23<02:59,  4.28s/it]"
          ],
          "name": "stderr"
        },
        {
          "output_type": "stream",
          "text": [
            "| epoch 258 : valid perplexity 251.44 |\n"
          ],
          "name": "stdout"
        },
        {
          "output_type": "stream",
          "text": [
            "\r 86%|████████▋ | 259/300 [18:27<02:55,  4.28s/it]"
          ],
          "name": "stderr"
        },
        {
          "output_type": "stream",
          "text": [
            "| epoch 259 : valid perplexity 251.44 |\n"
          ],
          "name": "stdout"
        },
        {
          "output_type": "stream",
          "text": [
            "\r 87%|████████▋ | 260/300 [18:31<02:50,  4.27s/it]"
          ],
          "name": "stderr"
        },
        {
          "output_type": "stream",
          "text": [
            "| epoch 260 : valid perplexity 251.44 |\n"
          ],
          "name": "stdout"
        },
        {
          "output_type": "stream",
          "text": [
            "\r 87%|████████▋ | 261/300 [18:36<02:48,  4.31s/it]"
          ],
          "name": "stderr"
        },
        {
          "output_type": "stream",
          "text": [
            "Saving the checkpoint...\n",
            "| epoch 261 : valid perplexity 251.44 |\n"
          ],
          "name": "stdout"
        },
        {
          "output_type": "stream",
          "text": [
            "\r 87%|████████▋ | 262/300 [18:40<02:43,  4.30s/it]"
          ],
          "name": "stderr"
        },
        {
          "output_type": "stream",
          "text": [
            "| epoch 262 : valid perplexity 251.44 |\n"
          ],
          "name": "stdout"
        },
        {
          "output_type": "stream",
          "text": [
            "\r 88%|████████▊ | 263/300 [18:44<02:38,  4.29s/it]"
          ],
          "name": "stderr"
        },
        {
          "output_type": "stream",
          "text": [
            "| epoch 263 : valid perplexity 251.44 |\n"
          ],
          "name": "stdout"
        },
        {
          "output_type": "stream",
          "text": [
            "\r 88%|████████▊ | 264/300 [18:48<02:34,  4.29s/it]"
          ],
          "name": "stderr"
        },
        {
          "output_type": "stream",
          "text": [
            "| epoch 264 : valid perplexity 251.44 |\n"
          ],
          "name": "stdout"
        },
        {
          "output_type": "stream",
          "text": [
            "\r 88%|████████▊ | 265/300 [18:53<02:30,  4.29s/it]"
          ],
          "name": "stderr"
        },
        {
          "output_type": "stream",
          "text": [
            "| epoch 265 : valid perplexity 251.44 |\n"
          ],
          "name": "stdout"
        },
        {
          "output_type": "stream",
          "text": [
            "\r 89%|████████▊ | 266/300 [18:57<02:25,  4.28s/it]"
          ],
          "name": "stderr"
        },
        {
          "output_type": "stream",
          "text": [
            "| epoch 266 : valid perplexity 251.44 |\n"
          ],
          "name": "stdout"
        },
        {
          "output_type": "stream",
          "text": [
            "\r 89%|████████▉ | 267/300 [19:01<02:21,  4.28s/it]"
          ],
          "name": "stderr"
        },
        {
          "output_type": "stream",
          "text": [
            "| epoch 267 : valid perplexity 251.44 |\n"
          ],
          "name": "stdout"
        },
        {
          "output_type": "stream",
          "text": [
            "\r 89%|████████▉ | 268/300 [19:05<02:16,  4.28s/it]"
          ],
          "name": "stderr"
        },
        {
          "output_type": "stream",
          "text": [
            "| epoch 268 : valid perplexity 251.44 |\n"
          ],
          "name": "stdout"
        },
        {
          "output_type": "stream",
          "text": [
            "\r 90%|████████▉ | 269/300 [19:10<02:12,  4.28s/it]"
          ],
          "name": "stderr"
        },
        {
          "output_type": "stream",
          "text": [
            "| epoch 269 : valid perplexity 251.44 |\n"
          ],
          "name": "stdout"
        },
        {
          "output_type": "stream",
          "text": [
            "\r 90%|█████████ | 270/300 [19:14<02:08,  4.28s/it]"
          ],
          "name": "stderr"
        },
        {
          "output_type": "stream",
          "text": [
            "| epoch 270 : valid perplexity 251.44 |\n"
          ],
          "name": "stdout"
        },
        {
          "output_type": "stream",
          "text": [
            "\r 90%|█████████ | 271/300 [19:18<02:04,  4.28s/it]"
          ],
          "name": "stderr"
        },
        {
          "output_type": "stream",
          "text": [
            "| epoch 271 : valid perplexity 251.44 |\n"
          ],
          "name": "stdout"
        },
        {
          "output_type": "stream",
          "text": [
            "\r 91%|█████████ | 272/300 [19:23<01:59,  4.28s/it]"
          ],
          "name": "stderr"
        },
        {
          "output_type": "stream",
          "text": [
            "| epoch 272 : valid perplexity 251.44 |\n"
          ],
          "name": "stdout"
        },
        {
          "output_type": "stream",
          "text": [
            "\r 91%|█████████ | 273/300 [19:27<01:55,  4.28s/it]"
          ],
          "name": "stderr"
        },
        {
          "output_type": "stream",
          "text": [
            "| epoch 273 : valid perplexity 251.44 |\n"
          ],
          "name": "stdout"
        },
        {
          "output_type": "stream",
          "text": [
            "\r 91%|█████████▏| 274/300 [19:31<01:51,  4.27s/it]"
          ],
          "name": "stderr"
        },
        {
          "output_type": "stream",
          "text": [
            "| epoch 274 : valid perplexity 251.44 |\n"
          ],
          "name": "stdout"
        },
        {
          "output_type": "stream",
          "text": [
            "\r 92%|█████████▏| 275/300 [19:35<01:46,  4.28s/it]"
          ],
          "name": "stderr"
        },
        {
          "output_type": "stream",
          "text": [
            "| epoch 275 : valid perplexity 251.44 |\n"
          ],
          "name": "stdout"
        },
        {
          "output_type": "stream",
          "text": [
            "\r 92%|█████████▏| 276/300 [19:40<01:42,  4.28s/it]"
          ],
          "name": "stderr"
        },
        {
          "output_type": "stream",
          "text": [
            "| epoch 276 : valid perplexity 251.44 |\n"
          ],
          "name": "stdout"
        },
        {
          "output_type": "stream",
          "text": [
            "\r 92%|█████████▏| 277/300 [19:44<01:38,  4.28s/it]"
          ],
          "name": "stderr"
        },
        {
          "output_type": "stream",
          "text": [
            "| epoch 277 : valid perplexity 251.44 |\n"
          ],
          "name": "stdout"
        },
        {
          "output_type": "stream",
          "text": [
            "\r 93%|█████████▎| 278/300 [19:48<01:34,  4.28s/it]"
          ],
          "name": "stderr"
        },
        {
          "output_type": "stream",
          "text": [
            "| epoch 278 : valid perplexity 251.44 |\n"
          ],
          "name": "stdout"
        },
        {
          "output_type": "stream",
          "text": [
            "\r 93%|█████████▎| 279/300 [19:53<01:29,  4.28s/it]"
          ],
          "name": "stderr"
        },
        {
          "output_type": "stream",
          "text": [
            "| epoch 279 : valid perplexity 251.44 |\n"
          ],
          "name": "stdout"
        },
        {
          "output_type": "stream",
          "text": [
            "\r 93%|█████████▎| 280/300 [19:57<01:25,  4.28s/it]"
          ],
          "name": "stderr"
        },
        {
          "output_type": "stream",
          "text": [
            "| epoch 280 : valid perplexity 251.44 |\n"
          ],
          "name": "stdout"
        },
        {
          "output_type": "stream",
          "text": [
            "\r 94%|█████████▎| 281/300 [20:01<01:21,  4.30s/it]"
          ],
          "name": "stderr"
        },
        {
          "output_type": "stream",
          "text": [
            "Saving the checkpoint...\n",
            "| epoch 281 : valid perplexity 251.44 |\n"
          ],
          "name": "stdout"
        },
        {
          "output_type": "stream",
          "text": [
            "\r 94%|█████████▍| 282/300 [20:05<01:17,  4.30s/it]"
          ],
          "name": "stderr"
        },
        {
          "output_type": "stream",
          "text": [
            "| epoch 282 : valid perplexity 251.44 |\n"
          ],
          "name": "stdout"
        },
        {
          "output_type": "stream",
          "text": [
            "\r 94%|█████████▍| 283/300 [20:10<01:12,  4.29s/it]"
          ],
          "name": "stderr"
        },
        {
          "output_type": "stream",
          "text": [
            "| epoch 283 : valid perplexity 251.44 |\n"
          ],
          "name": "stdout"
        },
        {
          "output_type": "stream",
          "text": [
            "\r 95%|█████████▍| 284/300 [20:14<01:08,  4.28s/it]"
          ],
          "name": "stderr"
        },
        {
          "output_type": "stream",
          "text": [
            "| epoch 284 : valid perplexity 251.44 |\n"
          ],
          "name": "stdout"
        },
        {
          "output_type": "stream",
          "text": [
            "\r 95%|█████████▌| 285/300 [20:18<01:04,  4.28s/it]"
          ],
          "name": "stderr"
        },
        {
          "output_type": "stream",
          "text": [
            "| epoch 285 : valid perplexity 251.44 |\n"
          ],
          "name": "stdout"
        },
        {
          "output_type": "stream",
          "text": [
            "\r 95%|█████████▌| 286/300 [20:23<01:00,  4.29s/it]"
          ],
          "name": "stderr"
        },
        {
          "output_type": "stream",
          "text": [
            "| epoch 286 : valid perplexity 251.44 |\n"
          ],
          "name": "stdout"
        },
        {
          "output_type": "stream",
          "text": [
            "\r 96%|█████████▌| 287/300 [20:27<00:55,  4.28s/it]"
          ],
          "name": "stderr"
        },
        {
          "output_type": "stream",
          "text": [
            "| epoch 287 : valid perplexity 251.44 |\n"
          ],
          "name": "stdout"
        },
        {
          "output_type": "stream",
          "text": [
            "\r 96%|█████████▌| 288/300 [20:31<00:51,  4.28s/it]"
          ],
          "name": "stderr"
        },
        {
          "output_type": "stream",
          "text": [
            "| epoch 288 : valid perplexity 251.44 |\n"
          ],
          "name": "stdout"
        },
        {
          "output_type": "stream",
          "text": [
            "\r 96%|█████████▋| 289/300 [20:35<00:47,  4.28s/it]"
          ],
          "name": "stderr"
        },
        {
          "output_type": "stream",
          "text": [
            "| epoch 289 : valid perplexity 251.44 |\n"
          ],
          "name": "stdout"
        },
        {
          "output_type": "stream",
          "text": [
            "\r 97%|█████████▋| 290/300 [20:40<00:42,  4.28s/it]"
          ],
          "name": "stderr"
        },
        {
          "output_type": "stream",
          "text": [
            "| epoch 290 : valid perplexity 251.44 |\n"
          ],
          "name": "stdout"
        },
        {
          "output_type": "stream",
          "text": [
            "\r 97%|█████████▋| 291/300 [20:44<00:38,  4.28s/it]"
          ],
          "name": "stderr"
        },
        {
          "output_type": "stream",
          "text": [
            "| epoch 291 : valid perplexity 251.44 |\n"
          ],
          "name": "stdout"
        },
        {
          "output_type": "stream",
          "text": [
            "\r 97%|█████████▋| 292/300 [20:48<00:34,  4.27s/it]"
          ],
          "name": "stderr"
        },
        {
          "output_type": "stream",
          "text": [
            "| epoch 292 : valid perplexity 251.44 |\n"
          ],
          "name": "stdout"
        },
        {
          "output_type": "stream",
          "text": [
            "\r 98%|█████████▊| 293/300 [20:53<00:29,  4.28s/it]"
          ],
          "name": "stderr"
        },
        {
          "output_type": "stream",
          "text": [
            "| epoch 293 : valid perplexity 251.44 |\n"
          ],
          "name": "stdout"
        },
        {
          "output_type": "stream",
          "text": [
            "\r 98%|█████████▊| 294/300 [20:57<00:25,  4.28s/it]"
          ],
          "name": "stderr"
        },
        {
          "output_type": "stream",
          "text": [
            "| epoch 294 : valid perplexity 251.44 |\n"
          ],
          "name": "stdout"
        },
        {
          "output_type": "stream",
          "text": [
            "\r 98%|█████████▊| 295/300 [21:01<00:21,  4.27s/it]"
          ],
          "name": "stderr"
        },
        {
          "output_type": "stream",
          "text": [
            "| epoch 295 : valid perplexity 251.44 |\n"
          ],
          "name": "stdout"
        },
        {
          "output_type": "stream",
          "text": [
            "\r 99%|█████████▊| 296/300 [21:05<00:17,  4.28s/it]"
          ],
          "name": "stderr"
        },
        {
          "output_type": "stream",
          "text": [
            "| epoch 296 : valid perplexity 251.44 |\n"
          ],
          "name": "stdout"
        },
        {
          "output_type": "stream",
          "text": [
            "\r 99%|█████████▉| 297/300 [21:10<00:12,  4.28s/it]"
          ],
          "name": "stderr"
        },
        {
          "output_type": "stream",
          "text": [
            "| epoch 297 : valid perplexity 251.44 |\n"
          ],
          "name": "stdout"
        },
        {
          "output_type": "stream",
          "text": [
            "\r 99%|█████████▉| 298/300 [21:14<00:08,  4.27s/it]"
          ],
          "name": "stderr"
        },
        {
          "output_type": "stream",
          "text": [
            "| epoch 298 : valid perplexity 251.44 |\n"
          ],
          "name": "stdout"
        },
        {
          "output_type": "stream",
          "text": [
            "\r100%|█████████▉| 299/300 [21:18<00:04,  4.28s/it]"
          ],
          "name": "stderr"
        },
        {
          "output_type": "stream",
          "text": [
            "| epoch 299 : valid perplexity 251.44 |\n"
          ],
          "name": "stdout"
        },
        {
          "output_type": "stream",
          "text": [
            "100%|██████████| 300/300 [21:22<00:00,  4.28s/it]"
          ],
          "name": "stderr"
        },
        {
          "output_type": "stream",
          "text": [
            "| epoch 300 : valid perplexity 251.44 |\n"
          ],
          "name": "stdout"
        },
        {
          "output_type": "stream",
          "text": [
            "\n"
          ],
          "name": "stderr"
        },
        {
          "output_type": "display_data",
          "data": {
            "image/png": "[encoded data removed]",
            "text/plain": [
              "<Figure size 432x288 with 1 Axes>"
            ]
          },
          "metadata": {
            "needs_background": "light"
          }
        }
      ]
    },
    {
      "cell_type": "markdown",
      "metadata": {
        "id": "bg3c8ndLJWoj"
      },
      "source": [
        "chunk2midi.py "
      ]
    },
    {
      "cell_type": "code",
      "metadata": {
        "id": "3RUc-P57JjuN"
      },
      "source": [
        "def num2note_on_off(num):\n",
        "  if int(num, 10) == 1:\n",
        "    return \"note_on\"\n",
        "  else:\n",
        "    return \"note_off\"\n",
        "\n",
        "#args = sys.argv \n",
        "resultTextList = Path(RESULT_TXT_DIR).glob('**/*.txt')\n",
        "for resultTextName in resultTextList:\n",
        "  print(\"converting : \", resultTextName)\n",
        "  f = open(resultTextName, 'r')\n",
        "  data = f.read()\n",
        "  data_per_sound = data.split(\",\")\n",
        "  textName = os.path.split(resultTextName)[1].replace(\".txt\", \"\")\n",
        "  outputMidName = RESULT_MID_DIR + textName + \".mid\"\n",
        "  #type(note_on=1, note_off=0)_note_velocity_time\n",
        "  mid = MidiFile()\n",
        "  track = MidiTrack()\n",
        "  mid.tracks.append(track)\n",
        "  bpm = int(BPM)\n",
        "  track.append(MetaMessage('set_tempo', tempo=mido.bpm2tempo(bpm)))\n",
        "  for i_data in tqdm(data_per_sound):\n",
        "    #print(i_data)\n",
        "    if i_data == \"\":\n",
        "      continue\n",
        "    parts = i_data.split(\"_\")\n",
        "    if len(parts) != 4 or int(parts[0], 10) > 1:\n",
        "      continue\n",
        "    if parts[3] == \"\":\n",
        "      continue\n",
        "    if int(parts[2]) > 127:\n",
        "      continue\n",
        "\n",
        "    print(parts)\n",
        "    track.append(Message(num2note_on_off(parts[0]), note=int(parts[1], 10), velocity=int(parts[2], 10), time=int(parts[3], 10)))\n",
        "\n",
        "  mid.save(outputMidName)\n"
      ],
      "execution_count": 49,
      "outputs": []
    }
  ]
}